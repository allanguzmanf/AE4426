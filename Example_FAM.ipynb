{
 "cells": [
  {
   "cell_type": "code",
   "execution_count": 206,
   "metadata": {},
   "outputs": [],
   "source": [
    "import gurobipy as gp\n",
    "from gurobipy import GRB\n",
    "import pandas as pd\n",
    "import re \n",
    "from geopy.distance import geodesic\n",
    "from datetime import datetime, timedelta, time, date\n",
    "import matplotlib.pyplot as plt\n",
    "# Example 5. FAM (Fleet Assignment Model)"
   ]
  },
  {
   "cell_type": "code",
   "execution_count": 292,
   "metadata": {},
   "outputs": [],
   "source": [
    "# Define the inputs\n",
    "# Define the inputs\n",
    "\n",
    "# L: set of flights\n",
    "flights_df = pd.read_excel('Example_Data_Fam.xlsx', sheet_name='Flight').set_index('Flight no.')\n",
    "flights = flights_df.to_dict(orient='index')\n",
    "\n",
    "# K: set of aircraft types\n",
    "aircraft_df = pd.read_excel('Example_Data_Fam.xlsx', sheet_name='Aircraft').set_index('AC Type')\n",
    "aircraft = aircraft_df.to_dict(orient='index')\n",
    "\n",
    "for k in aircraft:\n",
    "    aircraft[k]['TAT'] = timedelta(minutes=aircraft[k]['TAT'])\n",
    "\n",
    "\n",
    "flight_list = list(flights.keys())\n",
    "ac_list = list(aircraft.keys())"
   ]
  },
  {
   "cell_type": "code",
   "execution_count": 295,
   "metadata": {},
   "outputs": [],
   "source": [
    "flights_df['Overnight'] = flights_df.apply(lambda row: (row['Arrival'] < row['Departure']), axis=1)"
   ]
  },
  {
   "cell_type": "code",
   "execution_count": 208,
   "metadata": {},
   "outputs": [],
   "source": [
    "flight_distance = {     # Distance [km]\n",
    "    'PDL': {'PDL': 0, 'LIS': 1461, 'OPO': 1536, 'FNC': 975, 'YTO': 4545, 'BOS': 3888},\n",
    "    'LIS': {'PDL': 1461, 'LIS': 0, 'OPO': 336, 'FNC': 973, 'YTO': 5790, 'BOS': 5177},\n",
    "    'OPO': {'PDL': 1536, 'LIS': 336, 'OPO': 0, 'FNC': 1244, 'YTO': 5671, 'BOS': 5081},\n",
    "    'FNC': {'PDL': 975, 'LIS': 973, 'OPO': 1244, 'FNC': 0, 'YTO': 5515, 'BOS': 4851},\n",
    "    'YTO': {'PDL': 4545, 'LIS': 5790, 'OPO': 5671, 'FNC': 5515, 'YTO': 0, 'BOS': 691},\n",
    "    'BOS': {'PDL': 3888, 'LIS': 5177, 'OPO': 5081, 'FNC': 4851, 'YTO': 691, 'BOS': 0}\n",
    "}"
   ]
  },
  {
   "cell_type": "code",
   "execution_count": 209,
   "metadata": {},
   "outputs": [],
   "source": [
    "for l in flights:\n",
    "    flights[l]['Distance'] = flight_distance[flights[l]['From']][flights[l]['To']]"
   ]
  },
  {
   "cell_type": "code",
   "execution_count": 210,
   "metadata": {},
   "outputs": [],
   "source": [
    "current_time = time(0, 0)\n",
    "airports  = list(set([flights[l]['From'] for l in flights] + [flights[l]['To'] for l in flights]))"
   ]
  },
  {
   "cell_type": "code",
   "execution_count": 234,
   "metadata": {},
   "outputs": [],
   "source": [
    "import pandas as pd\n",
    "\n",
    "# Create an empty list to store the data\n",
    "data = []\n",
    "\n",
    "misc_date = date(1,1,1)\n",
    "# Iterate over airports, aircraft types, and flights\n",
    "for n in airports:\n",
    "    for k in ac_list:\n",
    "        for l in flight_list:\n",
    "            if flights[l]['From'] == n:\n",
    "                data.append([k, n, l, flights[l]['Departure'], flights[l]['Distance'], 'Departure'])\n",
    "            if flights[l]['To'] == n:\n",
    "                data.append([k, n, l, flights[l]['Arrival'], flights[l]['Distance'], 'Arrival'])\n",
    "\n",
    "# Create a dataframe with the data\n",
    "events = pd.DataFrame(data, columns=['AC Type','Airport', 'Flight N', 'Time', 'Distance', 'D_A'])\n",
    "\n",
    "# Add the TAT to the arrival times\n",
    "events['Time'] = events.apply(lambda row: (datetime.combine(misc_date,row['Time']) + aircraft[row['AC Type']]['TAT']).time() if row['D_A'] == 'Arrival' else row['Time'], axis=1)\n",
    "\n",
    "events.sort_values(by=['AC Type', 'Airport', 'Time'], inplace=True)\n",
    "# Remove the flights that are not feasible because of range of aircraft\n",
    "events = events[~events.apply(lambda row: (row['Distance'] > aircraft[row['AC Type']]['Range']), axis=1)]\n",
    "\n",
    "# Reset the numbering of the events\n",
    "events.reset_index(drop=True, inplace=True)"
   ]
  },
  {
   "cell_type": "code",
   "execution_count": 212,
   "metadata": {},
   "outputs": [
    {
     "data": {
      "application/vnd.plotly.v1+json": {
       "config": {
        "plotlyServerURL": "https://plot.ly"
       },
       "data": [
        {
         "marker": {
          "color": [
           "blue",
           "blue",
           "red",
           "red",
           "red",
           "red",
           "blue",
           "blue",
           "red",
           "blue",
           "red",
           "red",
           "red",
           "blue",
           "red",
           "blue",
           "blue",
           "blue",
           "red",
           "blue",
           "blue",
           "red",
           "red",
           "blue",
           "red",
           "red",
           "blue",
           "red",
           "red",
           "red",
           "blue",
           "blue",
           "blue",
           "red",
           "blue",
           "blue"
          ]
         },
         "mode": "markers",
         "name": "markers",
         "type": "scatter",
         "x": [
          "00:25:00",
          "00:50:00",
          "02:45:00",
          "03:15:00",
          "06:30:00",
          "08:05:00",
          "08:40:00",
          "09:00:00",
          "09:25:00",
          "09:25:00",
          "09:35:00",
          "10:35:00",
          "11:00:00",
          "11:10:00",
          "11:20:00",
          "12:10:00",
          "12:25:00",
          "13:25:00",
          "13:30:00",
          "14:05:00",
          "15:15:00",
          "16:00:00",
          "16:05:00",
          "16:30:00",
          "17:05:00",
          "17:10:00",
          "18:50:00",
          "18:50:00",
          "19:00:00",
          "19:05:00",
          "19:50:00",
          "21:45:00",
          "21:50:00",
          "22:05:00",
          "22:05:00",
          "22:25:00"
         ],
         "y": [
          "YTO",
          "LIS",
          "YTO",
          "BOS",
          "LIS",
          "LIS",
          "PDL",
          "PDL",
          "PDL",
          "PDL",
          "PDL",
          "PDL",
          "LIS",
          "PDL",
          "PDL",
          "LIS",
          "OPO",
          "FNC",
          "OPO",
          "LIS",
          "PDL",
          "PDL",
          "PDL",
          "PDL",
          "FNC",
          "PDL",
          "LIS",
          "LIS",
          "PDL",
          "OPO",
          "PDL",
          "PDL",
          "OPO",
          "PDL",
          "PDL",
          "BOS"
         ]
        }
       ],
       "layout": {
        "template": {
         "data": {
          "bar": [
           {
            "error_x": {
             "color": "#2a3f5f"
            },
            "error_y": {
             "color": "#2a3f5f"
            },
            "marker": {
             "line": {
              "color": "#E5ECF6",
              "width": 0.5
             },
             "pattern": {
              "fillmode": "overlay",
              "size": 10,
              "solidity": 0.2
             }
            },
            "type": "bar"
           }
          ],
          "barpolar": [
           {
            "marker": {
             "line": {
              "color": "#E5ECF6",
              "width": 0.5
             },
             "pattern": {
              "fillmode": "overlay",
              "size": 10,
              "solidity": 0.2
             }
            },
            "type": "barpolar"
           }
          ],
          "carpet": [
           {
            "aaxis": {
             "endlinecolor": "#2a3f5f",
             "gridcolor": "white",
             "linecolor": "white",
             "minorgridcolor": "white",
             "startlinecolor": "#2a3f5f"
            },
            "baxis": {
             "endlinecolor": "#2a3f5f",
             "gridcolor": "white",
             "linecolor": "white",
             "minorgridcolor": "white",
             "startlinecolor": "#2a3f5f"
            },
            "type": "carpet"
           }
          ],
          "choropleth": [
           {
            "colorbar": {
             "outlinewidth": 0,
             "ticks": ""
            },
            "type": "choropleth"
           }
          ],
          "contour": [
           {
            "colorbar": {
             "outlinewidth": 0,
             "ticks": ""
            },
            "colorscale": [
             [
              0,
              "#0d0887"
             ],
             [
              0.1111111111111111,
              "#46039f"
             ],
             [
              0.2222222222222222,
              "#7201a8"
             ],
             [
              0.3333333333333333,
              "#9c179e"
             ],
             [
              0.4444444444444444,
              "#bd3786"
             ],
             [
              0.5555555555555556,
              "#d8576b"
             ],
             [
              0.6666666666666666,
              "#ed7953"
             ],
             [
              0.7777777777777778,
              "#fb9f3a"
             ],
             [
              0.8888888888888888,
              "#fdca26"
             ],
             [
              1,
              "#f0f921"
             ]
            ],
            "type": "contour"
           }
          ],
          "contourcarpet": [
           {
            "colorbar": {
             "outlinewidth": 0,
             "ticks": ""
            },
            "type": "contourcarpet"
           }
          ],
          "heatmap": [
           {
            "colorbar": {
             "outlinewidth": 0,
             "ticks": ""
            },
            "colorscale": [
             [
              0,
              "#0d0887"
             ],
             [
              0.1111111111111111,
              "#46039f"
             ],
             [
              0.2222222222222222,
              "#7201a8"
             ],
             [
              0.3333333333333333,
              "#9c179e"
             ],
             [
              0.4444444444444444,
              "#bd3786"
             ],
             [
              0.5555555555555556,
              "#d8576b"
             ],
             [
              0.6666666666666666,
              "#ed7953"
             ],
             [
              0.7777777777777778,
              "#fb9f3a"
             ],
             [
              0.8888888888888888,
              "#fdca26"
             ],
             [
              1,
              "#f0f921"
             ]
            ],
            "type": "heatmap"
           }
          ],
          "heatmapgl": [
           {
            "colorbar": {
             "outlinewidth": 0,
             "ticks": ""
            },
            "colorscale": [
             [
              0,
              "#0d0887"
             ],
             [
              0.1111111111111111,
              "#46039f"
             ],
             [
              0.2222222222222222,
              "#7201a8"
             ],
             [
              0.3333333333333333,
              "#9c179e"
             ],
             [
              0.4444444444444444,
              "#bd3786"
             ],
             [
              0.5555555555555556,
              "#d8576b"
             ],
             [
              0.6666666666666666,
              "#ed7953"
             ],
             [
              0.7777777777777778,
              "#fb9f3a"
             ],
             [
              0.8888888888888888,
              "#fdca26"
             ],
             [
              1,
              "#f0f921"
             ]
            ],
            "type": "heatmapgl"
           }
          ],
          "histogram": [
           {
            "marker": {
             "pattern": {
              "fillmode": "overlay",
              "size": 10,
              "solidity": 0.2
             }
            },
            "type": "histogram"
           }
          ],
          "histogram2d": [
           {
            "colorbar": {
             "outlinewidth": 0,
             "ticks": ""
            },
            "colorscale": [
             [
              0,
              "#0d0887"
             ],
             [
              0.1111111111111111,
              "#46039f"
             ],
             [
              0.2222222222222222,
              "#7201a8"
             ],
             [
              0.3333333333333333,
              "#9c179e"
             ],
             [
              0.4444444444444444,
              "#bd3786"
             ],
             [
              0.5555555555555556,
              "#d8576b"
             ],
             [
              0.6666666666666666,
              "#ed7953"
             ],
             [
              0.7777777777777778,
              "#fb9f3a"
             ],
             [
              0.8888888888888888,
              "#fdca26"
             ],
             [
              1,
              "#f0f921"
             ]
            ],
            "type": "histogram2d"
           }
          ],
          "histogram2dcontour": [
           {
            "colorbar": {
             "outlinewidth": 0,
             "ticks": ""
            },
            "colorscale": [
             [
              0,
              "#0d0887"
             ],
             [
              0.1111111111111111,
              "#46039f"
             ],
             [
              0.2222222222222222,
              "#7201a8"
             ],
             [
              0.3333333333333333,
              "#9c179e"
             ],
             [
              0.4444444444444444,
              "#bd3786"
             ],
             [
              0.5555555555555556,
              "#d8576b"
             ],
             [
              0.6666666666666666,
              "#ed7953"
             ],
             [
              0.7777777777777778,
              "#fb9f3a"
             ],
             [
              0.8888888888888888,
              "#fdca26"
             ],
             [
              1,
              "#f0f921"
             ]
            ],
            "type": "histogram2dcontour"
           }
          ],
          "mesh3d": [
           {
            "colorbar": {
             "outlinewidth": 0,
             "ticks": ""
            },
            "type": "mesh3d"
           }
          ],
          "parcoords": [
           {
            "line": {
             "colorbar": {
              "outlinewidth": 0,
              "ticks": ""
             }
            },
            "type": "parcoords"
           }
          ],
          "pie": [
           {
            "automargin": true,
            "type": "pie"
           }
          ],
          "scatter": [
           {
            "fillpattern": {
             "fillmode": "overlay",
             "size": 10,
             "solidity": 0.2
            },
            "type": "scatter"
           }
          ],
          "scatter3d": [
           {
            "line": {
             "colorbar": {
              "outlinewidth": 0,
              "ticks": ""
             }
            },
            "marker": {
             "colorbar": {
              "outlinewidth": 0,
              "ticks": ""
             }
            },
            "type": "scatter3d"
           }
          ],
          "scattercarpet": [
           {
            "marker": {
             "colorbar": {
              "outlinewidth": 0,
              "ticks": ""
             }
            },
            "type": "scattercarpet"
           }
          ],
          "scattergeo": [
           {
            "marker": {
             "colorbar": {
              "outlinewidth": 0,
              "ticks": ""
             }
            },
            "type": "scattergeo"
           }
          ],
          "scattergl": [
           {
            "marker": {
             "colorbar": {
              "outlinewidth": 0,
              "ticks": ""
             }
            },
            "type": "scattergl"
           }
          ],
          "scattermapbox": [
           {
            "marker": {
             "colorbar": {
              "outlinewidth": 0,
              "ticks": ""
             }
            },
            "type": "scattermapbox"
           }
          ],
          "scatterpolar": [
           {
            "marker": {
             "colorbar": {
              "outlinewidth": 0,
              "ticks": ""
             }
            },
            "type": "scatterpolar"
           }
          ],
          "scatterpolargl": [
           {
            "marker": {
             "colorbar": {
              "outlinewidth": 0,
              "ticks": ""
             }
            },
            "type": "scatterpolargl"
           }
          ],
          "scatterternary": [
           {
            "marker": {
             "colorbar": {
              "outlinewidth": 0,
              "ticks": ""
             }
            },
            "type": "scatterternary"
           }
          ],
          "surface": [
           {
            "colorbar": {
             "outlinewidth": 0,
             "ticks": ""
            },
            "colorscale": [
             [
              0,
              "#0d0887"
             ],
             [
              0.1111111111111111,
              "#46039f"
             ],
             [
              0.2222222222222222,
              "#7201a8"
             ],
             [
              0.3333333333333333,
              "#9c179e"
             ],
             [
              0.4444444444444444,
              "#bd3786"
             ],
             [
              0.5555555555555556,
              "#d8576b"
             ],
             [
              0.6666666666666666,
              "#ed7953"
             ],
             [
              0.7777777777777778,
              "#fb9f3a"
             ],
             [
              0.8888888888888888,
              "#fdca26"
             ],
             [
              1,
              "#f0f921"
             ]
            ],
            "type": "surface"
           }
          ],
          "table": [
           {
            "cells": {
             "fill": {
              "color": "#EBF0F8"
             },
             "line": {
              "color": "white"
             }
            },
            "header": {
             "fill": {
              "color": "#C8D4E3"
             },
             "line": {
              "color": "white"
             }
            },
            "type": "table"
           }
          ]
         },
         "layout": {
          "annotationdefaults": {
           "arrowcolor": "#2a3f5f",
           "arrowhead": 0,
           "arrowwidth": 1
          },
          "autotypenumbers": "strict",
          "coloraxis": {
           "colorbar": {
            "outlinewidth": 0,
            "ticks": ""
           }
          },
          "colorscale": {
           "diverging": [
            [
             0,
             "#8e0152"
            ],
            [
             0.1,
             "#c51b7d"
            ],
            [
             0.2,
             "#de77ae"
            ],
            [
             0.3,
             "#f1b6da"
            ],
            [
             0.4,
             "#fde0ef"
            ],
            [
             0.5,
             "#f7f7f7"
            ],
            [
             0.6,
             "#e6f5d0"
            ],
            [
             0.7,
             "#b8e186"
            ],
            [
             0.8,
             "#7fbc41"
            ],
            [
             0.9,
             "#4d9221"
            ],
            [
             1,
             "#276419"
            ]
           ],
           "sequential": [
            [
             0,
             "#0d0887"
            ],
            [
             0.1111111111111111,
             "#46039f"
            ],
            [
             0.2222222222222222,
             "#7201a8"
            ],
            [
             0.3333333333333333,
             "#9c179e"
            ],
            [
             0.4444444444444444,
             "#bd3786"
            ],
            [
             0.5555555555555556,
             "#d8576b"
            ],
            [
             0.6666666666666666,
             "#ed7953"
            ],
            [
             0.7777777777777778,
             "#fb9f3a"
            ],
            [
             0.8888888888888888,
             "#fdca26"
            ],
            [
             1,
             "#f0f921"
            ]
           ],
           "sequentialminus": [
            [
             0,
             "#0d0887"
            ],
            [
             0.1111111111111111,
             "#46039f"
            ],
            [
             0.2222222222222222,
             "#7201a8"
            ],
            [
             0.3333333333333333,
             "#9c179e"
            ],
            [
             0.4444444444444444,
             "#bd3786"
            ],
            [
             0.5555555555555556,
             "#d8576b"
            ],
            [
             0.6666666666666666,
             "#ed7953"
            ],
            [
             0.7777777777777778,
             "#fb9f3a"
            ],
            [
             0.8888888888888888,
             "#fdca26"
            ],
            [
             1,
             "#f0f921"
            ]
           ]
          },
          "colorway": [
           "#636efa",
           "#EF553B",
           "#00cc96",
           "#ab63fa",
           "#FFA15A",
           "#19d3f3",
           "#FF6692",
           "#B6E880",
           "#FF97FF",
           "#FECB52"
          ],
          "font": {
           "color": "#2a3f5f"
          },
          "geo": {
           "bgcolor": "white",
           "lakecolor": "white",
           "landcolor": "#E5ECF6",
           "showlakes": true,
           "showland": true,
           "subunitcolor": "white"
          },
          "hoverlabel": {
           "align": "left"
          },
          "hovermode": "closest",
          "mapbox": {
           "style": "light"
          },
          "paper_bgcolor": "white",
          "plot_bgcolor": "#E5ECF6",
          "polar": {
           "angularaxis": {
            "gridcolor": "white",
            "linecolor": "white",
            "ticks": ""
           },
           "bgcolor": "#E5ECF6",
           "radialaxis": {
            "gridcolor": "white",
            "linecolor": "white",
            "ticks": ""
           }
          },
          "scene": {
           "xaxis": {
            "backgroundcolor": "#E5ECF6",
            "gridcolor": "white",
            "gridwidth": 2,
            "linecolor": "white",
            "showbackground": true,
            "ticks": "",
            "zerolinecolor": "white"
           },
           "yaxis": {
            "backgroundcolor": "#E5ECF6",
            "gridcolor": "white",
            "gridwidth": 2,
            "linecolor": "white",
            "showbackground": true,
            "ticks": "",
            "zerolinecolor": "white"
           },
           "zaxis": {
            "backgroundcolor": "#E5ECF6",
            "gridcolor": "white",
            "gridwidth": 2,
            "linecolor": "white",
            "showbackground": true,
            "ticks": "",
            "zerolinecolor": "white"
           }
          },
          "shapedefaults": {
           "line": {
            "color": "#2a3f5f"
           }
          },
          "ternary": {
           "aaxis": {
            "gridcolor": "white",
            "linecolor": "white",
            "ticks": ""
           },
           "baxis": {
            "gridcolor": "white",
            "linecolor": "white",
            "ticks": ""
           },
           "bgcolor": "#E5ECF6",
           "caxis": {
            "gridcolor": "white",
            "linecolor": "white",
            "ticks": ""
           }
          },
          "title": {
           "x": 0.05
          },
          "xaxis": {
           "automargin": true,
           "gridcolor": "white",
           "linecolor": "white",
           "ticks": "",
           "title": {
            "standoff": 15
           },
           "zerolinecolor": "white",
           "zerolinewidth": 2
          },
          "yaxis": {
           "automargin": true,
           "gridcolor": "white",
           "linecolor": "white",
           "ticks": "",
           "title": {
            "standoff": 15
           },
           "zerolinecolor": "white",
           "zerolinewidth": 2
          }
         }
        },
        "title": {
         "text": "Ground Arcs for AC Type A310"
        },
        "xaxis": {
         "title": {
          "text": "Time"
         }
        },
        "yaxis": {
         "title": {
          "text": "Airport"
         }
        }
       }
      }
     },
     "metadata": {},
     "output_type": "display_data"
    },
    {
     "data": {
      "application/vnd.plotly.v1+json": {
       "config": {
        "plotlyServerURL": "https://plot.ly"
       },
       "data": [
        {
         "marker": {
          "color": [
           "blue",
           "red",
           "red",
           "red",
           "blue",
           "blue",
           "red",
           "red",
           "red",
           "blue",
           "red",
           "red",
           "blue",
           "blue",
           "blue",
           "red",
           "blue",
           "blue",
           "red",
           "red",
           "blue",
           "red",
           "blue",
           "red",
           "red",
           "red",
           "blue",
           "blue",
           "blue",
           "blue",
           "red",
           "blue"
          ]
         },
         "mode": "markers",
         "name": "markers",
         "type": "scatter",
         "x": [
          "00:35:00",
          "03:15:00",
          "06:30:00",
          "08:05:00",
          "08:25:00",
          "09:10:00",
          "09:25:00",
          "09:35:00",
          "10:35:00",
          "10:55:00",
          "11:00:00",
          "11:20:00",
          "11:55:00",
          "12:10:00",
          "13:10:00",
          "13:30:00",
          "13:50:00",
          "15:00:00",
          "16:00:00",
          "16:05:00",
          "16:15:00",
          "17:05:00",
          "18:35:00",
          "18:50:00",
          "19:00:00",
          "19:05:00",
          "19:35:00",
          "21:30:00",
          "21:35:00",
          "21:50:00",
          "22:05:00",
          "22:10:00"
         ],
         "y": [
          "LIS",
          "BOS",
          "LIS",
          "LIS",
          "PDL",
          "PDL",
          "PDL",
          "PDL",
          "PDL",
          "PDL",
          "LIS",
          "PDL",
          "LIS",
          "OPO",
          "FNC",
          "OPO",
          "LIS",
          "PDL",
          "PDL",
          "PDL",
          "PDL",
          "FNC",
          "LIS",
          "LIS",
          "PDL",
          "OPO",
          "PDL",
          "PDL",
          "OPO",
          "PDL",
          "PDL",
          "BOS"
         ]
        }
       ],
       "layout": {
        "template": {
         "data": {
          "bar": [
           {
            "error_x": {
             "color": "#2a3f5f"
            },
            "error_y": {
             "color": "#2a3f5f"
            },
            "marker": {
             "line": {
              "color": "#E5ECF6",
              "width": 0.5
             },
             "pattern": {
              "fillmode": "overlay",
              "size": 10,
              "solidity": 0.2
             }
            },
            "type": "bar"
           }
          ],
          "barpolar": [
           {
            "marker": {
             "line": {
              "color": "#E5ECF6",
              "width": 0.5
             },
             "pattern": {
              "fillmode": "overlay",
              "size": 10,
              "solidity": 0.2
             }
            },
            "type": "barpolar"
           }
          ],
          "carpet": [
           {
            "aaxis": {
             "endlinecolor": "#2a3f5f",
             "gridcolor": "white",
             "linecolor": "white",
             "minorgridcolor": "white",
             "startlinecolor": "#2a3f5f"
            },
            "baxis": {
             "endlinecolor": "#2a3f5f",
             "gridcolor": "white",
             "linecolor": "white",
             "minorgridcolor": "white",
             "startlinecolor": "#2a3f5f"
            },
            "type": "carpet"
           }
          ],
          "choropleth": [
           {
            "colorbar": {
             "outlinewidth": 0,
             "ticks": ""
            },
            "type": "choropleth"
           }
          ],
          "contour": [
           {
            "colorbar": {
             "outlinewidth": 0,
             "ticks": ""
            },
            "colorscale": [
             [
              0,
              "#0d0887"
             ],
             [
              0.1111111111111111,
              "#46039f"
             ],
             [
              0.2222222222222222,
              "#7201a8"
             ],
             [
              0.3333333333333333,
              "#9c179e"
             ],
             [
              0.4444444444444444,
              "#bd3786"
             ],
             [
              0.5555555555555556,
              "#d8576b"
             ],
             [
              0.6666666666666666,
              "#ed7953"
             ],
             [
              0.7777777777777778,
              "#fb9f3a"
             ],
             [
              0.8888888888888888,
              "#fdca26"
             ],
             [
              1,
              "#f0f921"
             ]
            ],
            "type": "contour"
           }
          ],
          "contourcarpet": [
           {
            "colorbar": {
             "outlinewidth": 0,
             "ticks": ""
            },
            "type": "contourcarpet"
           }
          ],
          "heatmap": [
           {
            "colorbar": {
             "outlinewidth": 0,
             "ticks": ""
            },
            "colorscale": [
             [
              0,
              "#0d0887"
             ],
             [
              0.1111111111111111,
              "#46039f"
             ],
             [
              0.2222222222222222,
              "#7201a8"
             ],
             [
              0.3333333333333333,
              "#9c179e"
             ],
             [
              0.4444444444444444,
              "#bd3786"
             ],
             [
              0.5555555555555556,
              "#d8576b"
             ],
             [
              0.6666666666666666,
              "#ed7953"
             ],
             [
              0.7777777777777778,
              "#fb9f3a"
             ],
             [
              0.8888888888888888,
              "#fdca26"
             ],
             [
              1,
              "#f0f921"
             ]
            ],
            "type": "heatmap"
           }
          ],
          "heatmapgl": [
           {
            "colorbar": {
             "outlinewidth": 0,
             "ticks": ""
            },
            "colorscale": [
             [
              0,
              "#0d0887"
             ],
             [
              0.1111111111111111,
              "#46039f"
             ],
             [
              0.2222222222222222,
              "#7201a8"
             ],
             [
              0.3333333333333333,
              "#9c179e"
             ],
             [
              0.4444444444444444,
              "#bd3786"
             ],
             [
              0.5555555555555556,
              "#d8576b"
             ],
             [
              0.6666666666666666,
              "#ed7953"
             ],
             [
              0.7777777777777778,
              "#fb9f3a"
             ],
             [
              0.8888888888888888,
              "#fdca26"
             ],
             [
              1,
              "#f0f921"
             ]
            ],
            "type": "heatmapgl"
           }
          ],
          "histogram": [
           {
            "marker": {
             "pattern": {
              "fillmode": "overlay",
              "size": 10,
              "solidity": 0.2
             }
            },
            "type": "histogram"
           }
          ],
          "histogram2d": [
           {
            "colorbar": {
             "outlinewidth": 0,
             "ticks": ""
            },
            "colorscale": [
             [
              0,
              "#0d0887"
             ],
             [
              0.1111111111111111,
              "#46039f"
             ],
             [
              0.2222222222222222,
              "#7201a8"
             ],
             [
              0.3333333333333333,
              "#9c179e"
             ],
             [
              0.4444444444444444,
              "#bd3786"
             ],
             [
              0.5555555555555556,
              "#d8576b"
             ],
             [
              0.6666666666666666,
              "#ed7953"
             ],
             [
              0.7777777777777778,
              "#fb9f3a"
             ],
             [
              0.8888888888888888,
              "#fdca26"
             ],
             [
              1,
              "#f0f921"
             ]
            ],
            "type": "histogram2d"
           }
          ],
          "histogram2dcontour": [
           {
            "colorbar": {
             "outlinewidth": 0,
             "ticks": ""
            },
            "colorscale": [
             [
              0,
              "#0d0887"
             ],
             [
              0.1111111111111111,
              "#46039f"
             ],
             [
              0.2222222222222222,
              "#7201a8"
             ],
             [
              0.3333333333333333,
              "#9c179e"
             ],
             [
              0.4444444444444444,
              "#bd3786"
             ],
             [
              0.5555555555555556,
              "#d8576b"
             ],
             [
              0.6666666666666666,
              "#ed7953"
             ],
             [
              0.7777777777777778,
              "#fb9f3a"
             ],
             [
              0.8888888888888888,
              "#fdca26"
             ],
             [
              1,
              "#f0f921"
             ]
            ],
            "type": "histogram2dcontour"
           }
          ],
          "mesh3d": [
           {
            "colorbar": {
             "outlinewidth": 0,
             "ticks": ""
            },
            "type": "mesh3d"
           }
          ],
          "parcoords": [
           {
            "line": {
             "colorbar": {
              "outlinewidth": 0,
              "ticks": ""
             }
            },
            "type": "parcoords"
           }
          ],
          "pie": [
           {
            "automargin": true,
            "type": "pie"
           }
          ],
          "scatter": [
           {
            "fillpattern": {
             "fillmode": "overlay",
             "size": 10,
             "solidity": 0.2
            },
            "type": "scatter"
           }
          ],
          "scatter3d": [
           {
            "line": {
             "colorbar": {
              "outlinewidth": 0,
              "ticks": ""
             }
            },
            "marker": {
             "colorbar": {
              "outlinewidth": 0,
              "ticks": ""
             }
            },
            "type": "scatter3d"
           }
          ],
          "scattercarpet": [
           {
            "marker": {
             "colorbar": {
              "outlinewidth": 0,
              "ticks": ""
             }
            },
            "type": "scattercarpet"
           }
          ],
          "scattergeo": [
           {
            "marker": {
             "colorbar": {
              "outlinewidth": 0,
              "ticks": ""
             }
            },
            "type": "scattergeo"
           }
          ],
          "scattergl": [
           {
            "marker": {
             "colorbar": {
              "outlinewidth": 0,
              "ticks": ""
             }
            },
            "type": "scattergl"
           }
          ],
          "scattermapbox": [
           {
            "marker": {
             "colorbar": {
              "outlinewidth": 0,
              "ticks": ""
             }
            },
            "type": "scattermapbox"
           }
          ],
          "scatterpolar": [
           {
            "marker": {
             "colorbar": {
              "outlinewidth": 0,
              "ticks": ""
             }
            },
            "type": "scatterpolar"
           }
          ],
          "scatterpolargl": [
           {
            "marker": {
             "colorbar": {
              "outlinewidth": 0,
              "ticks": ""
             }
            },
            "type": "scatterpolargl"
           }
          ],
          "scatterternary": [
           {
            "marker": {
             "colorbar": {
              "outlinewidth": 0,
              "ticks": ""
             }
            },
            "type": "scatterternary"
           }
          ],
          "surface": [
           {
            "colorbar": {
             "outlinewidth": 0,
             "ticks": ""
            },
            "colorscale": [
             [
              0,
              "#0d0887"
             ],
             [
              0.1111111111111111,
              "#46039f"
             ],
             [
              0.2222222222222222,
              "#7201a8"
             ],
             [
              0.3333333333333333,
              "#9c179e"
             ],
             [
              0.4444444444444444,
              "#bd3786"
             ],
             [
              0.5555555555555556,
              "#d8576b"
             ],
             [
              0.6666666666666666,
              "#ed7953"
             ],
             [
              0.7777777777777778,
              "#fb9f3a"
             ],
             [
              0.8888888888888888,
              "#fdca26"
             ],
             [
              1,
              "#f0f921"
             ]
            ],
            "type": "surface"
           }
          ],
          "table": [
           {
            "cells": {
             "fill": {
              "color": "#EBF0F8"
             },
             "line": {
              "color": "white"
             }
            },
            "header": {
             "fill": {
              "color": "#C8D4E3"
             },
             "line": {
              "color": "white"
             }
            },
            "type": "table"
           }
          ]
         },
         "layout": {
          "annotationdefaults": {
           "arrowcolor": "#2a3f5f",
           "arrowhead": 0,
           "arrowwidth": 1
          },
          "autotypenumbers": "strict",
          "coloraxis": {
           "colorbar": {
            "outlinewidth": 0,
            "ticks": ""
           }
          },
          "colorscale": {
           "diverging": [
            [
             0,
             "#8e0152"
            ],
            [
             0.1,
             "#c51b7d"
            ],
            [
             0.2,
             "#de77ae"
            ],
            [
             0.3,
             "#f1b6da"
            ],
            [
             0.4,
             "#fde0ef"
            ],
            [
             0.5,
             "#f7f7f7"
            ],
            [
             0.6,
             "#e6f5d0"
            ],
            [
             0.7,
             "#b8e186"
            ],
            [
             0.8,
             "#7fbc41"
            ],
            [
             0.9,
             "#4d9221"
            ],
            [
             1,
             "#276419"
            ]
           ],
           "sequential": [
            [
             0,
             "#0d0887"
            ],
            [
             0.1111111111111111,
             "#46039f"
            ],
            [
             0.2222222222222222,
             "#7201a8"
            ],
            [
             0.3333333333333333,
             "#9c179e"
            ],
            [
             0.4444444444444444,
             "#bd3786"
            ],
            [
             0.5555555555555556,
             "#d8576b"
            ],
            [
             0.6666666666666666,
             "#ed7953"
            ],
            [
             0.7777777777777778,
             "#fb9f3a"
            ],
            [
             0.8888888888888888,
             "#fdca26"
            ],
            [
             1,
             "#f0f921"
            ]
           ],
           "sequentialminus": [
            [
             0,
             "#0d0887"
            ],
            [
             0.1111111111111111,
             "#46039f"
            ],
            [
             0.2222222222222222,
             "#7201a8"
            ],
            [
             0.3333333333333333,
             "#9c179e"
            ],
            [
             0.4444444444444444,
             "#bd3786"
            ],
            [
             0.5555555555555556,
             "#d8576b"
            ],
            [
             0.6666666666666666,
             "#ed7953"
            ],
            [
             0.7777777777777778,
             "#fb9f3a"
            ],
            [
             0.8888888888888888,
             "#fdca26"
            ],
            [
             1,
             "#f0f921"
            ]
           ]
          },
          "colorway": [
           "#636efa",
           "#EF553B",
           "#00cc96",
           "#ab63fa",
           "#FFA15A",
           "#19d3f3",
           "#FF6692",
           "#B6E880",
           "#FF97FF",
           "#FECB52"
          ],
          "font": {
           "color": "#2a3f5f"
          },
          "geo": {
           "bgcolor": "white",
           "lakecolor": "white",
           "landcolor": "#E5ECF6",
           "showlakes": true,
           "showland": true,
           "subunitcolor": "white"
          },
          "hoverlabel": {
           "align": "left"
          },
          "hovermode": "closest",
          "mapbox": {
           "style": "light"
          },
          "paper_bgcolor": "white",
          "plot_bgcolor": "#E5ECF6",
          "polar": {
           "angularaxis": {
            "gridcolor": "white",
            "linecolor": "white",
            "ticks": ""
           },
           "bgcolor": "#E5ECF6",
           "radialaxis": {
            "gridcolor": "white",
            "linecolor": "white",
            "ticks": ""
           }
          },
          "scene": {
           "xaxis": {
            "backgroundcolor": "#E5ECF6",
            "gridcolor": "white",
            "gridwidth": 2,
            "linecolor": "white",
            "showbackground": true,
            "ticks": "",
            "zerolinecolor": "white"
           },
           "yaxis": {
            "backgroundcolor": "#E5ECF6",
            "gridcolor": "white",
            "gridwidth": 2,
            "linecolor": "white",
            "showbackground": true,
            "ticks": "",
            "zerolinecolor": "white"
           },
           "zaxis": {
            "backgroundcolor": "#E5ECF6",
            "gridcolor": "white",
            "gridwidth": 2,
            "linecolor": "white",
            "showbackground": true,
            "ticks": "",
            "zerolinecolor": "white"
           }
          },
          "shapedefaults": {
           "line": {
            "color": "#2a3f5f"
           }
          },
          "ternary": {
           "aaxis": {
            "gridcolor": "white",
            "linecolor": "white",
            "ticks": ""
           },
           "baxis": {
            "gridcolor": "white",
            "linecolor": "white",
            "ticks": ""
           },
           "bgcolor": "#E5ECF6",
           "caxis": {
            "gridcolor": "white",
            "linecolor": "white",
            "ticks": ""
           }
          },
          "title": {
           "x": 0.05
          },
          "xaxis": {
           "automargin": true,
           "gridcolor": "white",
           "linecolor": "white",
           "ticks": "",
           "title": {
            "standoff": 15
           },
           "zerolinecolor": "white",
           "zerolinewidth": 2
          },
          "yaxis": {
           "automargin": true,
           "gridcolor": "white",
           "linecolor": "white",
           "ticks": "",
           "title": {
            "standoff": 15
           },
           "zerolinecolor": "white",
           "zerolinewidth": 2
          }
         }
        },
        "title": {
         "text": "Ground Arcs for AC Type A320"
        },
        "xaxis": {
         "title": {
          "text": "Time"
         }
        },
        "yaxis": {
         "title": {
          "text": "Airport"
         }
        }
       }
      }
     },
     "metadata": {},
     "output_type": "display_data"
    }
   ],
   "source": [
    "import plotly.graph_objects as go\n",
    "\n",
    "for k in ac_list:\n",
    "    df = events[events['AC Type'] == k].sort_values(by=['Time'])\n",
    "    fig = go.Figure()\n",
    "    \n",
    "    # Set marker color based on 'D_A' column\n",
    "    marker_color = ['red' if d_a == 'Departure' else 'blue' for d_a in df['D_A']]\n",
    "    \n",
    "    fig.add_trace(go.Scatter(x=df['Time'], y=df['Airport'], mode='markers', name='markers', marker=dict(color=marker_color)))\n",
    "\n",
    "    fig.update_layout(\n",
    "        title=\"Ground Arcs for AC Type \" + k,\n",
    "        xaxis_title=\"Time\",\n",
    "        yaxis_title=\"Airport\",\n",
    "    )\n",
    "    fig.show()\n"
   ]
  },
  {
   "cell_type": "code",
   "execution_count": 213,
   "metadata": {},
   "outputs": [
    {
     "data": {
      "text/html": [
       "<div>\n",
       "<style scoped>\n",
       "    .dataframe tbody tr th:only-of-type {\n",
       "        vertical-align: middle;\n",
       "    }\n",
       "\n",
       "    .dataframe tbody tr th {\n",
       "        vertical-align: top;\n",
       "    }\n",
       "\n",
       "    .dataframe thead th {\n",
       "        text-align: right;\n",
       "    }\n",
       "</style>\n",
       "<table border=\"1\" class=\"dataframe\">\n",
       "  <thead>\n",
       "    <tr style=\"text-align: right;\">\n",
       "      <th></th>\n",
       "      <th>AC Type</th>\n",
       "      <th>Airport</th>\n",
       "      <th>Start Time</th>\n",
       "      <th>End Time</th>\n",
       "    </tr>\n",
       "  </thead>\n",
       "  <tbody>\n",
       "    <tr>\n",
       "      <th>0</th>\n",
       "      <td>A310</td>\n",
       "      <td>PDL</td>\n",
       "      <td>22:05:00</td>\n",
       "      <td>08:40:00</td>\n",
       "    </tr>\n",
       "    <tr>\n",
       "      <th>1</th>\n",
       "      <td>A310</td>\n",
       "      <td>PDL</td>\n",
       "      <td>08:40:00</td>\n",
       "      <td>09:00:00</td>\n",
       "    </tr>\n",
       "    <tr>\n",
       "      <th>2</th>\n",
       "      <td>A310</td>\n",
       "      <td>PDL</td>\n",
       "      <td>09:00:00</td>\n",
       "      <td>09:25:00</td>\n",
       "    </tr>\n",
       "    <tr>\n",
       "      <th>3</th>\n",
       "      <td>A310</td>\n",
       "      <td>PDL</td>\n",
       "      <td>09:25:00</td>\n",
       "      <td>09:25:00</td>\n",
       "    </tr>\n",
       "    <tr>\n",
       "      <th>4</th>\n",
       "      <td>A310</td>\n",
       "      <td>PDL</td>\n",
       "      <td>09:25:00</td>\n",
       "      <td>09:35:00</td>\n",
       "    </tr>\n",
       "    <tr>\n",
       "      <th>5</th>\n",
       "      <td>A310</td>\n",
       "      <td>PDL</td>\n",
       "      <td>09:35:00</td>\n",
       "      <td>10:35:00</td>\n",
       "    </tr>\n",
       "    <tr>\n",
       "      <th>6</th>\n",
       "      <td>A310</td>\n",
       "      <td>PDL</td>\n",
       "      <td>10:35:00</td>\n",
       "      <td>11:10:00</td>\n",
       "    </tr>\n",
       "    <tr>\n",
       "      <th>7</th>\n",
       "      <td>A310</td>\n",
       "      <td>PDL</td>\n",
       "      <td>11:10:00</td>\n",
       "      <td>11:20:00</td>\n",
       "    </tr>\n",
       "    <tr>\n",
       "      <th>8</th>\n",
       "      <td>A310</td>\n",
       "      <td>PDL</td>\n",
       "      <td>11:20:00</td>\n",
       "      <td>15:15:00</td>\n",
       "    </tr>\n",
       "    <tr>\n",
       "      <th>9</th>\n",
       "      <td>A310</td>\n",
       "      <td>PDL</td>\n",
       "      <td>15:15:00</td>\n",
       "      <td>16:00:00</td>\n",
       "    </tr>\n",
       "    <tr>\n",
       "      <th>10</th>\n",
       "      <td>A310</td>\n",
       "      <td>PDL</td>\n",
       "      <td>16:00:00</td>\n",
       "      <td>16:05:00</td>\n",
       "    </tr>\n",
       "    <tr>\n",
       "      <th>11</th>\n",
       "      <td>A310</td>\n",
       "      <td>PDL</td>\n",
       "      <td>16:05:00</td>\n",
       "      <td>16:30:00</td>\n",
       "    </tr>\n",
       "    <tr>\n",
       "      <th>12</th>\n",
       "      <td>A310</td>\n",
       "      <td>PDL</td>\n",
       "      <td>16:30:00</td>\n",
       "      <td>17:10:00</td>\n",
       "    </tr>\n",
       "    <tr>\n",
       "      <th>13</th>\n",
       "      <td>A310</td>\n",
       "      <td>PDL</td>\n",
       "      <td>17:10:00</td>\n",
       "      <td>19:00:00</td>\n",
       "    </tr>\n",
       "    <tr>\n",
       "      <th>14</th>\n",
       "      <td>A310</td>\n",
       "      <td>PDL</td>\n",
       "      <td>19:00:00</td>\n",
       "      <td>19:50:00</td>\n",
       "    </tr>\n",
       "    <tr>\n",
       "      <th>15</th>\n",
       "      <td>A310</td>\n",
       "      <td>PDL</td>\n",
       "      <td>19:50:00</td>\n",
       "      <td>21:45:00</td>\n",
       "    </tr>\n",
       "    <tr>\n",
       "      <th>16</th>\n",
       "      <td>A310</td>\n",
       "      <td>PDL</td>\n",
       "      <td>21:45:00</td>\n",
       "      <td>22:05:00</td>\n",
       "    </tr>\n",
       "    <tr>\n",
       "      <th>17</th>\n",
       "      <td>A310</td>\n",
       "      <td>PDL</td>\n",
       "      <td>22:05:00</td>\n",
       "      <td>22:05:00</td>\n",
       "    </tr>\n",
       "  </tbody>\n",
       "</table>\n",
       "</div>"
      ],
      "text/plain": [
       "   AC Type Airport Start Time  End Time\n",
       "0     A310     PDL   22:05:00  08:40:00\n",
       "1     A310     PDL   08:40:00  09:00:00\n",
       "2     A310     PDL   09:00:00  09:25:00\n",
       "3     A310     PDL   09:25:00  09:25:00\n",
       "4     A310     PDL   09:25:00  09:35:00\n",
       "5     A310     PDL   09:35:00  10:35:00\n",
       "6     A310     PDL   10:35:00  11:10:00\n",
       "7     A310     PDL   11:10:00  11:20:00\n",
       "8     A310     PDL   11:20:00  15:15:00\n",
       "9     A310     PDL   15:15:00  16:00:00\n",
       "10    A310     PDL   16:00:00  16:05:00\n",
       "11    A310     PDL   16:05:00  16:30:00\n",
       "12    A310     PDL   16:30:00  17:10:00\n",
       "13    A310     PDL   17:10:00  19:00:00\n",
       "14    A310     PDL   19:00:00  19:50:00\n",
       "15    A310     PDL   19:50:00  21:45:00\n",
       "16    A310     PDL   21:45:00  22:05:00\n",
       "17    A310     PDL   22:05:00  22:05:00"
      ]
     },
     "execution_count": 213,
     "metadata": {},
     "output_type": "execute_result"
    }
   ],
   "source": [
    "df_test = events[(events['AC Type'] == 'A310') & (events['Airport'] == 'PDL')].sort_values(by=['Time'])\n",
    "\n",
    "ground_arcs = pd.DataFrame(columns=['AC Type', 'Airport', 'Start Time', 'End Time'])\n",
    "for i in range(len(df_test)):\n",
    "    if i == 0:\n",
    "        ground_arcs = pd.concat([ground_arcs, pd.DataFrame({'AC Type': 'A310', 'Airport': 'PDL', 'Start Time': [df_test.iloc[-1]['Time']], 'End Time': [df_test.iloc[i]['Time']]})], ignore_index=True)\n",
    "    else:\n",
    "        ground_arcs = pd.concat([ground_arcs, pd.DataFrame({'AC Type': 'A310', 'Airport': 'PDL', 'Start Time': [df_test.iloc[i-1]['Time']], 'End Time': [df_test.iloc[i]['Time']]})], ignore_index=True)\n",
    "\n",
    "ground_arcs"
   ]
  },
  {
   "cell_type": "code",
   "execution_count": 260,
   "metadata": {},
   "outputs": [],
   "source": [
    "# For each airport and aircraft type i need to create a loop of ground arcs, each starting from the last event and ending at the next event, if there is no more events then the last ground arc is the overnight arc and it ends at the first event of the next day (first event of the next day is the first event of the same airport and aircraft type)\n",
    "\n",
    "ground_arcs = pd.DataFrame(columns=['AC Type', 'Airport', 'Start Time', 'End Time'])\n",
    "\n",
    "for k in ac_list:\n",
    "    for n in airports:\n",
    "        df = events[(events['AC Type'] == k) & (events['Airport'] == n)].sort_values(by=['Time'])\n",
    "        for i in range(len(df)):\n",
    "            if i == 0:\n",
    "                ground_arcs = pd.concat([ground_arcs, pd.DataFrame({'AC Type': k, 'Airport': n, 'Start Time': [df.iloc[-1]['Time']], 'End Time': [df.iloc[i]['Time']]})], ignore_index=True)\n",
    "            else:\n",
    "                ground_arcs = pd.concat([ground_arcs, pd.DataFrame({'AC Type': k, 'Airport': n, 'Start Time': [df.iloc[i-1]['Time']], 'End Time': [df.iloc[i]['Time']]})], ignore_index=True)\n",
    "\n",
    "ground_arcs.sort_values(by=['AC Type', 'Airport'], inplace=True)\n",
    "# Drop rows if start time and end time are the same\n",
    "ground_arcs = ground_arcs[~ground_arcs.apply(lambda row: (row['Start Time'] == row['End Time']), axis=1)]\n",
    "ground_arcs['Arc ID'] = ground_arcs.groupby(['AC Type']).cumcount()\n",
    "ground_arcs['Overnight'] = ground_arcs.apply(lambda row: (row['End Time'] < row['Start Time']), axis=1)"
   ]
  },
  {
   "cell_type": "code",
   "execution_count": 270,
   "metadata": {},
   "outputs": [],
   "source": [
    "# Create a nodes_df\n",
    "nodes_df = ground_arcs[['AC Type', 'Airport', 'Start Time']].rename(columns={'Start Time': 'Time'})\n",
    "\n",
    "# Add a count number for each row group by AC Type and Airport\n",
    "nodes_df['Node ID'] = nodes_df.groupby(['AC Type']).cumcount()\n",
    "\n",
    "# make a dictionary with the ac type as main key and the airport as secondary key with the node as tertiary key and the time as value\n",
    "nodes = {}\n",
    "for k in ac_list:\n",
    "    nodes[k] = {}\n",
    "    for n in airports:\n",
    "        nodes[k][n] = {}\n",
    "        for i in nodes_df[(nodes_df['AC Type'] == k) & (nodes_df['Airport'] == n)]['Node ID']:\n",
    "            nodes[k][n][i] = {'Time': nodes_df[(nodes_df['AC Type'] == k) & \n",
    "                                               (nodes_df['Airport'] == n) & \n",
    "                                               (nodes_df['Node ID'] == i)]['Time'].values[0]}\n",
    "            "
   ]
  },
  {
   "cell_type": "code",
   "execution_count": 272,
   "metadata": {},
   "outputs": [],
   "source": [
    "# Add node id to the events\n",
    "events.merge(nodes_df, how='left', on=['AC Type', 'Airport', 'Time']).sort_values(by=['AC Type', 'Airport'])\n",
    "\n",
    "# Add a dictionary call departures and another one arrivals to the nodes dictionary at k,n,i+1 with \n",
    "# the events that have the same ac type, airport and time as the node\n",
    "for k in ac_list:\n",
    "    for n in airports:\n",
    "        for i in nodes_df[(nodes_df['AC Type'] == k) & (nodes_df['Airport'] == n)]['Node ID']:\n",
    "            nodes[k][n][i]['Departures'] = list(events[(events['AC Type'] == k) & (events['Airport'] == n) & (events['Time'] == nodes[k][n][i]['Time']) & (events['D_A'] == 'Departure')]['Flight N'])\n",
    "            nodes[k][n][i]['Arrivals'] = list(events[(events['AC Type'] == k) & (events['Airport'] == n) & (events['Time'] == nodes[k][n][i]['Time']) & (events['D_A'] == 'Arrival')]['Flight N'])\n"
   ]
  },
  {
   "cell_type": "code",
   "execution_count": 251,
   "metadata": {},
   "outputs": [
    {
     "data": {
      "text/html": [
       "<div>\n",
       "<style scoped>\n",
       "    .dataframe tbody tr th:only-of-type {\n",
       "        vertical-align: middle;\n",
       "    }\n",
       "\n",
       "    .dataframe tbody tr th {\n",
       "        vertical-align: top;\n",
       "    }\n",
       "\n",
       "    .dataframe thead th {\n",
       "        text-align: right;\n",
       "    }\n",
       "</style>\n",
       "<table border=\"1\" class=\"dataframe\">\n",
       "  <thead>\n",
       "    <tr style=\"text-align: right;\">\n",
       "      <th></th>\n",
       "      <th>AC Type</th>\n",
       "      <th>Airport</th>\n",
       "      <th>Start Time</th>\n",
       "      <th>End Time</th>\n",
       "      <th>Arc ID</th>\n",
       "      <th>Overnight</th>\n",
       "    </tr>\n",
       "  </thead>\n",
       "  <tbody>\n",
       "    <tr>\n",
       "      <th>0</th>\n",
       "      <td>A310</td>\n",
       "      <td>BOS</td>\n",
       "      <td>22:25:00</td>\n",
       "      <td>03:15:00</td>\n",
       "      <td>0</td>\n",
       "      <td>True</td>\n",
       "    </tr>\n",
       "    <tr>\n",
       "      <th>1</th>\n",
       "      <td>A310</td>\n",
       "      <td>BOS</td>\n",
       "      <td>03:15:00</td>\n",
       "      <td>22:25:00</td>\n",
       "      <td>1</td>\n",
       "      <td>False</td>\n",
       "    </tr>\n",
       "    <tr>\n",
       "      <th>2</th>\n",
       "      <td>A310</td>\n",
       "      <td>FNC</td>\n",
       "      <td>17:05:00</td>\n",
       "      <td>13:25:00</td>\n",
       "      <td>2</td>\n",
       "      <td>True</td>\n",
       "    </tr>\n",
       "    <tr>\n",
       "      <th>3</th>\n",
       "      <td>A310</td>\n",
       "      <td>FNC</td>\n",
       "      <td>13:25:00</td>\n",
       "      <td>17:05:00</td>\n",
       "      <td>3</td>\n",
       "      <td>False</td>\n",
       "    </tr>\n",
       "    <tr>\n",
       "      <th>26</th>\n",
       "      <td>A310</td>\n",
       "      <td>LIS</td>\n",
       "      <td>18:50:00</td>\n",
       "      <td>00:50:00</td>\n",
       "      <td>4</td>\n",
       "      <td>True</td>\n",
       "    </tr>\n",
       "    <tr>\n",
       "      <th>27</th>\n",
       "      <td>A310</td>\n",
       "      <td>LIS</td>\n",
       "      <td>00:50:00</td>\n",
       "      <td>06:30:00</td>\n",
       "      <td>5</td>\n",
       "      <td>False</td>\n",
       "    </tr>\n",
       "    <tr>\n",
       "      <th>28</th>\n",
       "      <td>A310</td>\n",
       "      <td>LIS</td>\n",
       "      <td>06:30:00</td>\n",
       "      <td>08:05:00</td>\n",
       "      <td>6</td>\n",
       "      <td>False</td>\n",
       "    </tr>\n",
       "    <tr>\n",
       "      <th>29</th>\n",
       "      <td>A310</td>\n",
       "      <td>LIS</td>\n",
       "      <td>08:05:00</td>\n",
       "      <td>11:00:00</td>\n",
       "      <td>7</td>\n",
       "      <td>False</td>\n",
       "    </tr>\n",
       "    <tr>\n",
       "      <th>30</th>\n",
       "      <td>A310</td>\n",
       "      <td>LIS</td>\n",
       "      <td>11:00:00</td>\n",
       "      <td>12:10:00</td>\n",
       "      <td>8</td>\n",
       "      <td>False</td>\n",
       "    </tr>\n",
       "    <tr>\n",
       "      <th>31</th>\n",
       "      <td>A310</td>\n",
       "      <td>LIS</td>\n",
       "      <td>12:10:00</td>\n",
       "      <td>14:05:00</td>\n",
       "      <td>9</td>\n",
       "      <td>False</td>\n",
       "    </tr>\n",
       "    <tr>\n",
       "      <th>32</th>\n",
       "      <td>A310</td>\n",
       "      <td>LIS</td>\n",
       "      <td>14:05:00</td>\n",
       "      <td>18:50:00</td>\n",
       "      <td>10</td>\n",
       "      <td>False</td>\n",
       "    </tr>\n",
       "    <tr>\n",
       "      <th>4</th>\n",
       "      <td>A310</td>\n",
       "      <td>OPO</td>\n",
       "      <td>21:50:00</td>\n",
       "      <td>12:25:00</td>\n",
       "      <td>11</td>\n",
       "      <td>True</td>\n",
       "    </tr>\n",
       "    <tr>\n",
       "      <th>5</th>\n",
       "      <td>A310</td>\n",
       "      <td>OPO</td>\n",
       "      <td>12:25:00</td>\n",
       "      <td>13:30:00</td>\n",
       "      <td>12</td>\n",
       "      <td>False</td>\n",
       "    </tr>\n",
       "    <tr>\n",
       "      <th>6</th>\n",
       "      <td>A310</td>\n",
       "      <td>OPO</td>\n",
       "      <td>13:30:00</td>\n",
       "      <td>19:05:00</td>\n",
       "      <td>13</td>\n",
       "      <td>False</td>\n",
       "    </tr>\n",
       "    <tr>\n",
       "      <th>7</th>\n",
       "      <td>A310</td>\n",
       "      <td>OPO</td>\n",
       "      <td>19:05:00</td>\n",
       "      <td>21:50:00</td>\n",
       "      <td>14</td>\n",
       "      <td>False</td>\n",
       "    </tr>\n",
       "    <tr>\n",
       "      <th>8</th>\n",
       "      <td>A310</td>\n",
       "      <td>PDL</td>\n",
       "      <td>22:05:00</td>\n",
       "      <td>08:40:00</td>\n",
       "      <td>15</td>\n",
       "      <td>True</td>\n",
       "    </tr>\n",
       "    <tr>\n",
       "      <th>9</th>\n",
       "      <td>A310</td>\n",
       "      <td>PDL</td>\n",
       "      <td>08:40:00</td>\n",
       "      <td>09:00:00</td>\n",
       "      <td>16</td>\n",
       "      <td>False</td>\n",
       "    </tr>\n",
       "    <tr>\n",
       "      <th>10</th>\n",
       "      <td>A310</td>\n",
       "      <td>PDL</td>\n",
       "      <td>09:00:00</td>\n",
       "      <td>09:25:00</td>\n",
       "      <td>17</td>\n",
       "      <td>False</td>\n",
       "    </tr>\n",
       "    <tr>\n",
       "      <th>12</th>\n",
       "      <td>A310</td>\n",
       "      <td>PDL</td>\n",
       "      <td>09:25:00</td>\n",
       "      <td>09:35:00</td>\n",
       "      <td>18</td>\n",
       "      <td>False</td>\n",
       "    </tr>\n",
       "    <tr>\n",
       "      <th>13</th>\n",
       "      <td>A310</td>\n",
       "      <td>PDL</td>\n",
       "      <td>09:35:00</td>\n",
       "      <td>10:35:00</td>\n",
       "      <td>19</td>\n",
       "      <td>False</td>\n",
       "    </tr>\n",
       "    <tr>\n",
       "      <th>14</th>\n",
       "      <td>A310</td>\n",
       "      <td>PDL</td>\n",
       "      <td>10:35:00</td>\n",
       "      <td>11:10:00</td>\n",
       "      <td>20</td>\n",
       "      <td>False</td>\n",
       "    </tr>\n",
       "    <tr>\n",
       "      <th>15</th>\n",
       "      <td>A310</td>\n",
       "      <td>PDL</td>\n",
       "      <td>11:10:00</td>\n",
       "      <td>11:20:00</td>\n",
       "      <td>21</td>\n",
       "      <td>False</td>\n",
       "    </tr>\n",
       "    <tr>\n",
       "      <th>16</th>\n",
       "      <td>A310</td>\n",
       "      <td>PDL</td>\n",
       "      <td>11:20:00</td>\n",
       "      <td>15:15:00</td>\n",
       "      <td>22</td>\n",
       "      <td>False</td>\n",
       "    </tr>\n",
       "    <tr>\n",
       "      <th>17</th>\n",
       "      <td>A310</td>\n",
       "      <td>PDL</td>\n",
       "      <td>15:15:00</td>\n",
       "      <td>16:00:00</td>\n",
       "      <td>23</td>\n",
       "      <td>False</td>\n",
       "    </tr>\n",
       "    <tr>\n",
       "      <th>18</th>\n",
       "      <td>A310</td>\n",
       "      <td>PDL</td>\n",
       "      <td>16:00:00</td>\n",
       "      <td>16:05:00</td>\n",
       "      <td>24</td>\n",
       "      <td>False</td>\n",
       "    </tr>\n",
       "    <tr>\n",
       "      <th>19</th>\n",
       "      <td>A310</td>\n",
       "      <td>PDL</td>\n",
       "      <td>16:05:00</td>\n",
       "      <td>16:30:00</td>\n",
       "      <td>25</td>\n",
       "      <td>False</td>\n",
       "    </tr>\n",
       "    <tr>\n",
       "      <th>20</th>\n",
       "      <td>A310</td>\n",
       "      <td>PDL</td>\n",
       "      <td>16:30:00</td>\n",
       "      <td>17:10:00</td>\n",
       "      <td>26</td>\n",
       "      <td>False</td>\n",
       "    </tr>\n",
       "    <tr>\n",
       "      <th>21</th>\n",
       "      <td>A310</td>\n",
       "      <td>PDL</td>\n",
       "      <td>17:10:00</td>\n",
       "      <td>19:00:00</td>\n",
       "      <td>27</td>\n",
       "      <td>False</td>\n",
       "    </tr>\n",
       "    <tr>\n",
       "      <th>22</th>\n",
       "      <td>A310</td>\n",
       "      <td>PDL</td>\n",
       "      <td>19:00:00</td>\n",
       "      <td>19:50:00</td>\n",
       "      <td>28</td>\n",
       "      <td>False</td>\n",
       "    </tr>\n",
       "    <tr>\n",
       "      <th>23</th>\n",
       "      <td>A310</td>\n",
       "      <td>PDL</td>\n",
       "      <td>19:50:00</td>\n",
       "      <td>21:45:00</td>\n",
       "      <td>29</td>\n",
       "      <td>False</td>\n",
       "    </tr>\n",
       "    <tr>\n",
       "      <th>24</th>\n",
       "      <td>A310</td>\n",
       "      <td>PDL</td>\n",
       "      <td>21:45:00</td>\n",
       "      <td>22:05:00</td>\n",
       "      <td>30</td>\n",
       "      <td>False</td>\n",
       "    </tr>\n",
       "    <tr>\n",
       "      <th>34</th>\n",
       "      <td>A310</td>\n",
       "      <td>YTO</td>\n",
       "      <td>02:45:00</td>\n",
       "      <td>00:25:00</td>\n",
       "      <td>31</td>\n",
       "      <td>True</td>\n",
       "    </tr>\n",
       "    <tr>\n",
       "      <th>35</th>\n",
       "      <td>A310</td>\n",
       "      <td>YTO</td>\n",
       "      <td>00:25:00</td>\n",
       "      <td>02:45:00</td>\n",
       "      <td>32</td>\n",
       "      <td>False</td>\n",
       "    </tr>\n",
       "  </tbody>\n",
       "</table>\n",
       "</div>"
      ],
      "text/plain": [
       "   AC Type Airport Start Time  End Time  Arc ID  Overnight\n",
       "0     A310     BOS   22:25:00  03:15:00       0       True\n",
       "1     A310     BOS   03:15:00  22:25:00       1      False\n",
       "2     A310     FNC   17:05:00  13:25:00       2       True\n",
       "3     A310     FNC   13:25:00  17:05:00       3      False\n",
       "26    A310     LIS   18:50:00  00:50:00       4       True\n",
       "27    A310     LIS   00:50:00  06:30:00       5      False\n",
       "28    A310     LIS   06:30:00  08:05:00       6      False\n",
       "29    A310     LIS   08:05:00  11:00:00       7      False\n",
       "30    A310     LIS   11:00:00  12:10:00       8      False\n",
       "31    A310     LIS   12:10:00  14:05:00       9      False\n",
       "32    A310     LIS   14:05:00  18:50:00      10      False\n",
       "4     A310     OPO   21:50:00  12:25:00      11       True\n",
       "5     A310     OPO   12:25:00  13:30:00      12      False\n",
       "6     A310     OPO   13:30:00  19:05:00      13      False\n",
       "7     A310     OPO   19:05:00  21:50:00      14      False\n",
       "8     A310     PDL   22:05:00  08:40:00      15       True\n",
       "9     A310     PDL   08:40:00  09:00:00      16      False\n",
       "10    A310     PDL   09:00:00  09:25:00      17      False\n",
       "12    A310     PDL   09:25:00  09:35:00      18      False\n",
       "13    A310     PDL   09:35:00  10:35:00      19      False\n",
       "14    A310     PDL   10:35:00  11:10:00      20      False\n",
       "15    A310     PDL   11:10:00  11:20:00      21      False\n",
       "16    A310     PDL   11:20:00  15:15:00      22      False\n",
       "17    A310     PDL   15:15:00  16:00:00      23      False\n",
       "18    A310     PDL   16:00:00  16:05:00      24      False\n",
       "19    A310     PDL   16:05:00  16:30:00      25      False\n",
       "20    A310     PDL   16:30:00  17:10:00      26      False\n",
       "21    A310     PDL   17:10:00  19:00:00      27      False\n",
       "22    A310     PDL   19:00:00  19:50:00      28      False\n",
       "23    A310     PDL   19:50:00  21:45:00      29      False\n",
       "24    A310     PDL   21:45:00  22:05:00      30      False\n",
       "34    A310     YTO   02:45:00  00:25:00      31       True\n",
       "35    A310     YTO   00:25:00  02:45:00      32      False"
      ]
     },
     "execution_count": 251,
     "metadata": {},
     "output_type": "execute_result"
    }
   ],
   "source": [
    "ground_arcs[ground_arcs['AC Type'] == 'A310']"
   ]
  },
  {
   "cell_type": "code",
   "execution_count": 291,
   "metadata": {},
   "outputs": [],
   "source": [
    "# n+: ground arcs originating at any node n (start time)\n",
    "# n-: ground arcs ending at any node n (end time)\n",
    "n_plus = ground_arcs[['Airport', 'AC Type', 'Start Time', 'Arc ID']].rename(columns={'Start Time': 'Time'})\n",
    "n_minus = ground_arcs[['Airport', 'AC Type', 'End Time', 'Arc ID']].rename(columns={'End Time': 'Time'})\n",
    "\n",
    "# Add a dictionary call n+ and another one n- to the nodes dictionary at k,n,i+1 with \n",
    "# the events that have the same ac type, airport and time as the node\n",
    "for k in ac_list:\n",
    "    for n in airports:\n",
    "        for i in nodes_df[(nodes_df['AC Type'] == k) & (nodes_df['Airport'] == n)]['Node ID']:\n",
    "            nodes[k][n][i]['n+'] = list(n_plus[(n_plus['AC Type'] == k) & (n_plus['Airport'] == n) & (n_plus['Time'] == nodes[k][n][i]['Time'])]['Arc ID'])\n",
    "            nodes[k][n][i]['n-'] = list(n_minus[(n_minus['AC Type'] == k) & (n_minus['Airport'] == n) & (n_minus['Time'] == nodes[k][n][i]['Time'])]['Arc ID'])"
   ]
  },
  {
   "cell_type": "code",
   "execution_count": 132,
   "metadata": {},
   "outputs": [
    {
     "data": {
      "text/plain": [
       "{'A310': {'BOS': ['S4221'],\n",
       "  'FNC': ['S4160'],\n",
       "  'OPO': ['S4320', 'S4212'],\n",
       "  'PDL': ['S4121',\n",
       "   'S4229',\n",
       "   'S4125',\n",
       "   'S4129',\n",
       "   'S4321',\n",
       "   'S4213',\n",
       "   'S4161',\n",
       "   'S4223',\n",
       "   'S4230'],\n",
       "  'LIS': ['S4120', 'S4220', 'S4124', 'S4128'],\n",
       "  'YTO': ['S4222']},\n",
       " 'A320': {'BOS': ['S4221'],\n",
       "  'FNC': ['S4160'],\n",
       "  'OPO': ['S4320', 'S4212'],\n",
       "  'PDL': ['S4121',\n",
       "   'S4229',\n",
       "   'S4125',\n",
       "   'S4129',\n",
       "   'S4321',\n",
       "   'S4213',\n",
       "   'S4161',\n",
       "   'S4230'],\n",
       "  'LIS': ['S4120', 'S4220', 'S4124', 'S4128'],\n",
       "  'YTO': []}}"
      ]
     },
     "execution_count": 132,
     "metadata": {},
     "output_type": "execute_result"
    }
   ],
   "source": [
    "# Create an outbound and inbound dictionary\n",
    "outbound = {}\n",
    "inbound = {}\n",
    "unfeasible = {}\n",
    "for k in ac_list:\n",
    "    outbound[k] = {}\n",
    "    inbound[k] = {}\n",
    "    for n in airports:\n",
    "        outbound[k][n] = []\n",
    "        inbound[k][n] = []\n",
    "        for l in flight_list:\n",
    "            if flights[l]['Distance'] <= aircraft[k]['Range']:\n",
    "                if flights[l]['From'] == n:\n",
    "                    outbound[k][n].append(l)\n",
    "                if flights[l]['To'] == n:\n",
    "                    inbound[k][n].append(l)\n",
    "            else:\n",
    "                unfeasible[l] = True\n",
    "\n",
    "inbound"
   ]
  },
  {
   "cell_type": "code",
   "execution_count": 297,
   "metadata": {},
   "outputs": [
    {
     "data": {
      "text/html": [
       "<div>\n",
       "<style scoped>\n",
       "    .dataframe tbody tr th:only-of-type {\n",
       "        vertical-align: middle;\n",
       "    }\n",
       "\n",
       "    .dataframe tbody tr th {\n",
       "        vertical-align: top;\n",
       "    }\n",
       "\n",
       "    .dataframe thead th {\n",
       "        text-align: right;\n",
       "    }\n",
       "</style>\n",
       "<table border=\"1\" class=\"dataframe\">\n",
       "  <thead>\n",
       "    <tr style=\"text-align: right;\">\n",
       "      <th></th>\n",
       "      <th>From</th>\n",
       "      <th>To</th>\n",
       "      <th>Departure</th>\n",
       "      <th>Arrival</th>\n",
       "      <th>Demand</th>\n",
       "      <th>Overnight</th>\n",
       "    </tr>\n",
       "    <tr>\n",
       "      <th>Flight no.</th>\n",
       "      <th></th>\n",
       "      <th></th>\n",
       "      <th></th>\n",
       "      <th></th>\n",
       "      <th></th>\n",
       "      <th></th>\n",
       "    </tr>\n",
       "  </thead>\n",
       "  <tbody>\n",
       "    <tr>\n",
       "      <th>S4120</th>\n",
       "      <td>PDL</td>\n",
       "      <td>LIS</td>\n",
       "      <td>09:25:00</td>\n",
       "      <td>11:30:00</td>\n",
       "      <td>195</td>\n",
       "      <td>False</td>\n",
       "    </tr>\n",
       "    <tr>\n",
       "      <th>S4220</th>\n",
       "      <td>PDL</td>\n",
       "      <td>LIS</td>\n",
       "      <td>11:20:00</td>\n",
       "      <td>13:25:00</td>\n",
       "      <td>167</td>\n",
       "      <td>False</td>\n",
       "    </tr>\n",
       "    <tr>\n",
       "      <th>S4124</th>\n",
       "      <td>PDL</td>\n",
       "      <td>LIS</td>\n",
       "      <td>16:05:00</td>\n",
       "      <td>18:10:00</td>\n",
       "      <td>151</td>\n",
       "      <td>False</td>\n",
       "    </tr>\n",
       "    <tr>\n",
       "      <th>S4128</th>\n",
       "      <td>PDL</td>\n",
       "      <td>LIS</td>\n",
       "      <td>22:05:00</td>\n",
       "      <td>00:10:00</td>\n",
       "      <td>184</td>\n",
       "      <td>True</td>\n",
       "    </tr>\n",
       "    <tr>\n",
       "      <th>S4320</th>\n",
       "      <td>PDL</td>\n",
       "      <td>OPO</td>\n",
       "      <td>09:35:00</td>\n",
       "      <td>11:45:00</td>\n",
       "      <td>166</td>\n",
       "      <td>False</td>\n",
       "    </tr>\n",
       "    <tr>\n",
       "      <th>S4212</th>\n",
       "      <td>PDL</td>\n",
       "      <td>OPO</td>\n",
       "      <td>19:00:00</td>\n",
       "      <td>21:10:00</td>\n",
       "      <td>134</td>\n",
       "      <td>False</td>\n",
       "    </tr>\n",
       "    <tr>\n",
       "      <th>S4160</th>\n",
       "      <td>PDL</td>\n",
       "      <td>FNC</td>\n",
       "      <td>10:35:00</td>\n",
       "      <td>12:45:00</td>\n",
       "      <td>155</td>\n",
       "      <td>False</td>\n",
       "    </tr>\n",
       "    <tr>\n",
       "      <th>S4222</th>\n",
       "      <td>PDL</td>\n",
       "      <td>YTO</td>\n",
       "      <td>17:10:00</td>\n",
       "      <td>23:45:00</td>\n",
       "      <td>214</td>\n",
       "      <td>False</td>\n",
       "    </tr>\n",
       "    <tr>\n",
       "      <th>S4221</th>\n",
       "      <td>PDL</td>\n",
       "      <td>BOS</td>\n",
       "      <td>16:00:00</td>\n",
       "      <td>21:45:00</td>\n",
       "      <td>198</td>\n",
       "      <td>False</td>\n",
       "    </tr>\n",
       "    <tr>\n",
       "      <th>S4121</th>\n",
       "      <td>LIS</td>\n",
       "      <td>PDL</td>\n",
       "      <td>06:30:00</td>\n",
       "      <td>08:45:00</td>\n",
       "      <td>148</td>\n",
       "      <td>False</td>\n",
       "    </tr>\n",
       "    <tr>\n",
       "      <th>S4229</th>\n",
       "      <td>LIS</td>\n",
       "      <td>PDL</td>\n",
       "      <td>08:05:00</td>\n",
       "      <td>10:30:00</td>\n",
       "      <td>191</td>\n",
       "      <td>False</td>\n",
       "    </tr>\n",
       "    <tr>\n",
       "      <th>S4125</th>\n",
       "      <td>LIS</td>\n",
       "      <td>PDL</td>\n",
       "      <td>11:00:00</td>\n",
       "      <td>14:35:00</td>\n",
       "      <td>154</td>\n",
       "      <td>False</td>\n",
       "    </tr>\n",
       "    <tr>\n",
       "      <th>S4129</th>\n",
       "      <td>LIS</td>\n",
       "      <td>PDL</td>\n",
       "      <td>18:50:00</td>\n",
       "      <td>21:05:00</td>\n",
       "      <td>194</td>\n",
       "      <td>False</td>\n",
       "    </tr>\n",
       "    <tr>\n",
       "      <th>S4321</th>\n",
       "      <td>OPO</td>\n",
       "      <td>PDL</td>\n",
       "      <td>13:30:00</td>\n",
       "      <td>15:50:00</td>\n",
       "      <td>166</td>\n",
       "      <td>False</td>\n",
       "    </tr>\n",
       "    <tr>\n",
       "      <th>S4213</th>\n",
       "      <td>OPO</td>\n",
       "      <td>PDL</td>\n",
       "      <td>19:05:00</td>\n",
       "      <td>21:25:00</td>\n",
       "      <td>134</td>\n",
       "      <td>False</td>\n",
       "    </tr>\n",
       "    <tr>\n",
       "      <th>S4161</th>\n",
       "      <td>FNC</td>\n",
       "      <td>PDL</td>\n",
       "      <td>17:05:00</td>\n",
       "      <td>19:10:00</td>\n",
       "      <td>155</td>\n",
       "      <td>False</td>\n",
       "    </tr>\n",
       "    <tr>\n",
       "      <th>S4223</th>\n",
       "      <td>YTO</td>\n",
       "      <td>PDL</td>\n",
       "      <td>02:45:00</td>\n",
       "      <td>08:20:00</td>\n",
       "      <td>214</td>\n",
       "      <td>False</td>\n",
       "    </tr>\n",
       "    <tr>\n",
       "      <th>S4230</th>\n",
       "      <td>BOS</td>\n",
       "      <td>PDL</td>\n",
       "      <td>03:15:00</td>\n",
       "      <td>08:00:00</td>\n",
       "      <td>198</td>\n",
       "      <td>False</td>\n",
       "    </tr>\n",
       "  </tbody>\n",
       "</table>\n",
       "</div>"
      ],
      "text/plain": [
       "           From   To Departure   Arrival  Demand  Overnight\n",
       "Flight no.                                                 \n",
       "S4120       PDL  LIS  09:25:00  11:30:00     195      False\n",
       "S4220       PDL  LIS  11:20:00  13:25:00     167      False\n",
       "S4124       PDL  LIS  16:05:00  18:10:00     151      False\n",
       "S4128       PDL  LIS  22:05:00  00:10:00     184       True\n",
       "S4320       PDL  OPO  09:35:00  11:45:00     166      False\n",
       "S4212       PDL  OPO  19:00:00  21:10:00     134      False\n",
       "S4160       PDL  FNC  10:35:00  12:45:00     155      False\n",
       "S4222       PDL  YTO  17:10:00  23:45:00     214      False\n",
       "S4221       PDL  BOS  16:00:00  21:45:00     198      False\n",
       "S4121       LIS  PDL  06:30:00  08:45:00     148      False\n",
       "S4229       LIS  PDL  08:05:00  10:30:00     191      False\n",
       "S4125       LIS  PDL  11:00:00  14:35:00     154      False\n",
       "S4129       LIS  PDL  18:50:00  21:05:00     194      False\n",
       "S4321       OPO  PDL  13:30:00  15:50:00     166      False\n",
       "S4213       OPO  PDL  19:05:00  21:25:00     134      False\n",
       "S4161       FNC  PDL  17:05:00  19:10:00     155      False\n",
       "S4223       YTO  PDL  02:45:00  08:20:00     214      False\n",
       "S4230       BOS  PDL  03:15:00  08:00:00     198      False"
      ]
     },
     "execution_count": 297,
     "metadata": {},
     "output_type": "execute_result"
    }
   ],
   "source": [
    "overnight_arcs = ground_arcs[ground_arcs['Overnight'] == True][['AC Type', 'Airport', 'Start Time', 'End Time']].rename(columns={'Start Time': 'Time'})\n",
    "flights_df\n",
    "#overnight_flights = flights_df[flights_df['Overnight'] == True][['AC Type', 'From', 'To', 'Departure', 'Arrival']].rename(columns={'Departure': 'Time'})"
   ]
  },
  {
   "cell_type": "code",
   "execution_count": 287,
   "metadata": {},
   "outputs": [],
   "source": [
    "# Define the model\n",
    "m = gp.Model('FAM')\n",
    "\n",
    "# Define the decision variables\n",
    "# f[i,k] 1 if flight arc i is assigned to aircraft type k, 0 otherwise\n",
    "f = {}\n",
    "for i in flight_list:\n",
    "    for k in ac_list:\n",
    "        f[i, k] = m.addVar(vtype=GRB.BINARY, name='f_' + str(i) + '_' + str(k))\n",
    "\n",
    "# y_ak = number of aircraft of type k on the ground arc a (integer with lowerbound 0)\n",
    "y = {}\n",
    "for k in ac_list:\n",
    "    for a in range(len(ground_arcs[(ground_arcs['AC Type'] == k)])):\n",
    "        y[a, k] = m.addVar(vtype=GRB.INTEGER, name='y_' + str(a) + '_' + str(k))\n",
    "\n",
    "m.update()\n",
    "\n",
    "# Define the objective function\n",
    "m.setObjective(gp.quicksum(aircraft[k]['CASK'] *        # Cost per Available Seat Kilometer\n",
    "                           aircraft[k]['Seats'] *       # Number of seats\n",
    "                           flights[i]['Distance'] *     # Distance\n",
    "                           f[i,k]                       # Binary variable\n",
    "                           for i in flight_list for k in ac_list), GRB.MINIMIZE)\n",
    "\n",
    "\n",
    "# Define the constraints\n",
    "# Constraint 1: Each flight is assigned to exactly one aircraft type\n",
    "m.addConstrs((gp.quicksum(f[i,k] for k in ac_list) == 1 for i in flight_list), name='one_ac')\n",
    "\n",
    "# Constraint 2: The number of AC arriving = AC departing, for each type at each node\n",
    "# y_n+_k + sum(f_i,k) = y_n-_k + sum(f_i,k)\n",
    "for k in ac_list:\n",
    "    for n in airports:\n",
    "        for i in nodes[k][n]:\n",
    "            m.addConstr((y[nodes[k][n][i]['n+'][0], k] + gp.quicksum(f[i,k] for i in nodes[k][n][i]['Arrivals']) == y[nodes[k][n][i]['n-'][0], k] + gp.quicksum(f[i,k] for i in nodes[k][n][i]['Departures'])), name='balance_' + str(i) + '_' + str(k) + '_' + str(n))\n",
    "\n",
    "# Constraint 3: The number \n",
    "m.update()"
   ]
  },
  {
   "cell_type": "code",
   "execution_count": 290,
   "metadata": {},
   "outputs": [
    {
     "name": "stdout",
     "output_type": "stream",
     "text": [
      "y_11_A310\n",
      "f_S4212_A310\n",
      "y_14_A310\n",
      "\n",
      "y_12_A310\n",
      "f_S4320_A310\n",
      "y_11_A310\n",
      "\n",
      "y_13_A310\n",
      "y_12_A310\n",
      "f_S4321_A310\n",
      "\n",
      "y_14_A310\n",
      "y_13_A310\n",
      "f_S4213_A310\n",
      "\n"
     ]
    }
   ],
   "source": [
    "for i in nodes['A310']['OPO']:\n",
    "    print(y[nodes['A310']['OPO'][i]['n+'][0], 'A310'].varName)\n",
    "    for w in nodes['A310']['OPO'][i]['Arrivals']:\n",
    "        print(f[w, 'A310'].varName)\n",
    "    print(y[nodes['A310']['OPO'][i]['n-'][0], 'A310'].varName)\n",
    "    for w in nodes['A310']['OPO'][i]['Departures']:\n",
    "        print(f[w, 'A310'].varName)\n",
    "    print('')"
   ]
  },
  {
   "cell_type": "code",
   "execution_count": 247,
   "metadata": {},
   "outputs": [
    {
     "name": "stdout",
     "output_type": "stream",
     "text": [
      "y_0_A310\n",
      "y_1_A310\n",
      "y_2_A310\n",
      "y_3_A310\n",
      "y_4_A310\n",
      "y_5_A310\n",
      "y_6_A310\n",
      "y_7_A310\n",
      "y_8_A310\n",
      "y_9_A310\n",
      "y_10_A310\n",
      "y_11_A310\n",
      "y_12_A310\n",
      "y_13_A310\n",
      "y_14_A310\n",
      "y_15_A310\n",
      "y_16_A310\n",
      "y_17_A310\n",
      "y_18_A310\n",
      "y_19_A310\n",
      "y_20_A310\n",
      "y_21_A310\n",
      "y_22_A310\n",
      "y_23_A310\n",
      "y_24_A310\n",
      "y_25_A310\n",
      "y_26_A310\n",
      "y_27_A310\n",
      "y_28_A310\n",
      "y_29_A310\n",
      "y_30_A310\n",
      "y_31_A310\n",
      "y_32_A310\n",
      "y_0_A320\n",
      "y_1_A320\n",
      "y_2_A320\n",
      "y_3_A320\n",
      "y_4_A320\n",
      "y_5_A320\n",
      "y_6_A320\n",
      "y_7_A320\n",
      "y_8_A320\n",
      "y_9_A320\n",
      "y_10_A320\n",
      "y_11_A320\n",
      "y_12_A320\n",
      "y_13_A320\n",
      "y_14_A320\n",
      "y_15_A320\n",
      "y_16_A320\n",
      "y_17_A320\n",
      "y_18_A320\n",
      "y_19_A320\n",
      "y_20_A320\n",
      "y_21_A320\n",
      "y_22_A320\n",
      "y_23_A320\n",
      "y_24_A320\n",
      "y_25_A320\n",
      "y_26_A320\n",
      "y_27_A320\n",
      "y_28_A320\n",
      "y_29_A320\n",
      "y_30_A320\n",
      "y_31_A320\n"
     ]
    }
   ],
   "source": [
    "for v in m.getVars():\n",
    "    if v.varName[0] == 'y':\n",
    "        print(v.varName)"
   ]
  },
  {
   "cell_type": "code",
   "execution_count": 239,
   "metadata": {},
   "outputs": [
    {
     "ename": "KeyError",
     "evalue": "8",
     "output_type": "error",
     "traceback": [
      "\u001b[0;31m---------------------------------------------------------------------------\u001b[0m",
      "\u001b[0;31mKeyError\u001b[0m                                  Traceback (most recent call last)",
      "\u001b[1;32m/Users/allanguzmanf/Library/CloudStorage/OneDrive-Personal/6. TU Delft/AE4423 - Airline Planning and Optimization/AE4426/Example_FAM.ipynb Cell 18\u001b[0m line \u001b[0;36m1\n\u001b[0;32m----> <a href='vscode-notebook-cell:/Users/allanguzmanf/Library/CloudStorage/OneDrive-Personal/6.%20TU%20Delft/AE4423%20-%20Airline%20Planning%20and%20Optimization/AE4426/Example_FAM.ipynb#X45sZmlsZQ%3D%3D?line=0'>1</a>\u001b[0m \u001b[39mfor\u001b[39;00m l \u001b[39min\u001b[39;00m nodes[k][n][i][\u001b[39m'\u001b[39m\u001b[39mArrivals\u001b[39m\u001b[39m'\u001b[39m]:\n\u001b[1;32m      <a href='vscode-notebook-cell:/Users/allanguzmanf/Library/CloudStorage/OneDrive-Personal/6.%20TU%20Delft/AE4423%20-%20Airline%20Planning%20and%20Optimization/AE4426/Example_FAM.ipynb#X45sZmlsZQ%3D%3D?line=1'>2</a>\u001b[0m     \u001b[39mprint\u001b[39m(f[l,k]\u001b[39m.\u001b[39mvarName)\n",
      "\u001b[0;31mKeyError\u001b[0m: 8"
     ]
    }
   ],
   "source": [
    "for k in ac_list:\n",
    "    for n in airports:\n",
    "        for i in nodes[k][n]:\n",
    "            print(f[l,k].varName)\n",
    "\n"
   ]
  },
  {
   "cell_type": "code",
   "execution_count": 19,
   "metadata": {},
   "outputs": [
    {
     "name": "stdout",
     "output_type": "stream",
     "text": [
      "f_S4120_A310\n",
      "f_S4120_A320\n",
      "f_S4220_A310\n",
      "f_S4220_A320\n",
      "f_S4124_A310\n",
      "f_S4124_A320\n",
      "f_S4128_A310\n",
      "f_S4128_A320\n",
      "f_S4320_A310\n",
      "f_S4320_A320\n",
      "f_S4212_A310\n",
      "f_S4212_A320\n",
      "f_S4160_A310\n",
      "f_S4160_A320\n",
      "f_S4222_A310\n",
      "f_S4222_A320\n",
      "f_S4221_A310\n",
      "f_S4221_A320\n",
      "f_S4121_A310\n",
      "f_S4121_A320\n",
      "f_S4229_A310\n",
      "f_S4229_A320\n",
      "f_S4125_A310\n",
      "f_S4125_A320\n",
      "f_S4129_A310\n",
      "f_S4129_A320\n",
      "f_S4321_A310\n",
      "f_S4321_A320\n",
      "f_S4213_A310\n",
      "f_S4213_A320\n",
      "f_S4161_A310\n",
      "f_S4161_A320\n",
      "f_S4223_A310\n",
      "f_S4223_A320\n",
      "f_S4230_A310\n",
      "f_S4230_A320\n",
      "y_ak[A310,A310]\n",
      "y_ak[A310,A320]\n",
      "y_ak[A320,A310]\n",
      "y_ak[A320,A320]\n",
      "one_ac[S4120]\n",
      "one_ac[S4220]\n",
      "one_ac[S4124]\n",
      "one_ac[S4128]\n",
      "one_ac[S4320]\n",
      "one_ac[S4212]\n",
      "one_ac[S4160]\n",
      "one_ac[S4222]\n",
      "one_ac[S4221]\n",
      "one_ac[S4121]\n",
      "one_ac[S4229]\n",
      "one_ac[S4125]\n",
      "one_ac[S4129]\n",
      "one_ac[S4321]\n",
      "one_ac[S4213]\n",
      "one_ac[S4161]\n",
      "one_ac[S4223]\n",
      "one_ac[S4230]\n",
      "ac_balance[A310,BOS]\n",
      "ac_balance[A310,FNC]\n",
      "ac_balance[A310,OPO]\n",
      "ac_balance[A310,PDL]\n",
      "ac_balance[A310,LIS]\n",
      "ac_balance[A310,YTO]\n",
      "ac_balance[A320,BOS]\n",
      "ac_balance[A320,FNC]\n",
      "ac_balance[A320,OPO]\n",
      "ac_balance[A320,PDL]\n",
      "ac_balance[A320,LIS]\n",
      "ac_balance[A320,YTO]\n"
     ]
    }
   ],
   "source": [
    "for v in m.getVars():\n",
    "    print(v.varName)\n",
    "for c in m.getConstrs():\n",
    "    print(c.ConstrName)"
   ]
  }
 ],
 "metadata": {
  "kernelspec": {
   "display_name": "AE4426",
   "language": "python",
   "name": "python3"
  },
  "language_info": {
   "codemirror_mode": {
    "name": "ipython",
    "version": 3
   },
   "file_extension": ".py",
   "mimetype": "text/x-python",
   "name": "python",
   "nbconvert_exporter": "python",
   "pygments_lexer": "ipython3",
   "version": "3.10.13"
  }
 },
 "nbformat": 4,
 "nbformat_minor": 2
}
