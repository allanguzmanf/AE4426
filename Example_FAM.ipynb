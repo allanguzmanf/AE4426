{
 "cells": [
  {
   "cell_type": "code",
   "execution_count": 73,
   "metadata": {},
   "outputs": [],
   "source": [
    "import gurobipy as gp\n",
    "from gurobipy import GRB\n",
    "import pandas as pd\n",
    "import re \n",
    "from geopy.distance import geodesic\n",
    "from datetime import datetime, timedelta, time, date\n",
    "import matplotlib.pyplot as plt\n",
    "# Example 5. FAM (Fleet Assignment Model)"
   ]
  },
  {
   "cell_type": "code",
   "execution_count": 74,
   "metadata": {},
   "outputs": [],
   "source": [
    "# Define the inputs\n",
    "# Define the inputs\n",
    "\n",
    "# L: set of flights\n",
    "flights_df = pd.read_excel('Example_Data_Fam.xlsx', sheet_name='Flight')#.set_index('Flight no.')\n",
    "flights_list = flights_df['Flight no.'].to_list() \n",
    "\n",
    "# K: set of aircraft types\n",
    "aircraft_df = pd.read_excel('Example_Data_Fam.xlsx', sheet_name='Aircraft').set_index('AC Type')\n",
    "aircraft = aircraft_df.to_dict(orient='index')\n",
    "ac_list = list(aircraft.keys())\n",
    "\n",
    "for k in aircraft:\n",
    "    aircraft[k]['TAT'] = timedelta(minutes=aircraft[k]['TAT'])\n",
    "\n",
    "flights = flights_df.merge(aircraft_df.reset_index()[['AC Type', 'Range']], how='cross')"
   ]
  },
  {
   "cell_type": "code",
   "execution_count": 75,
   "metadata": {},
   "outputs": [],
   "source": [
    "flight_distance = {     # Distance [km]\n",
    "    'PDL': {'PDL': 0, 'LIS': 1461, 'OPO': 1536, 'FNC': 975, 'YTO': 4545, 'BOS': 3888},\n",
    "    'LIS': {'PDL': 1461, 'LIS': 0, 'OPO': 336, 'FNC': 973, 'YTO': 5790, 'BOS': 5177},\n",
    "    'OPO': {'PDL': 1536, 'LIS': 336, 'OPO': 0, 'FNC': 1244, 'YTO': 5671, 'BOS': 5081},\n",
    "    'FNC': {'PDL': 975, 'LIS': 973, 'OPO': 1244, 'FNC': 0, 'YTO': 5515, 'BOS': 4851},\n",
    "    'YTO': {'PDL': 4545, 'LIS': 5790, 'OPO': 5671, 'FNC': 5515, 'YTO': 0, 'BOS': 691},\n",
    "    'BOS': {'PDL': 3888, 'LIS': 5177, 'OPO': 5081, 'FNC': 4851, 'YTO': 691, 'BOS': 0}\n",
    "}"
   ]
  },
  {
   "cell_type": "code",
   "execution_count": 76,
   "metadata": {},
   "outputs": [],
   "source": [
    "# List of unique airports from Origin and Destination columns\n",
    "airports = list(set(flights['From'].unique()).union(set(flights['To'].unique())))"
   ]
  },
  {
   "cell_type": "code",
   "execution_count": 77,
   "metadata": {},
   "outputs": [
    {
     "name": "stdout",
     "output_type": "stream",
     "text": [
      "Flights not feasible with aircraft:\n",
      "   Flight no. AC Type From   To  Distance\n",
      "15      S4222    A320  PDL  YTO      4545\n",
      "17      S4221    A320  PDL  BOS      3888\n",
      "33      S4223    A320  YTO  PDL      4545\n",
      "35      S422X    A320  BOS  PDL      3888\n",
      "\n",
      "\n"
     ]
    }
   ],
   "source": [
    "misc_date = date(1,1,1)\n",
    "\n",
    "flights['Distance'] = flights.apply(lambda row: flight_distance[row['From']][row['To']], axis=1)\n",
    "\n",
    "# Drop rows with distance > range\n",
    "unfeasible_flights = flights[flights['Distance'] > flights['Range']]\n",
    "flights = flights[flights['Distance'] <= flights['Range']].drop(columns=['Range'])\n",
    "flights['Arrival'] = flights.apply(lambda row: (datetime.combine(misc_date,row['Arrival']) + aircraft[row['AC Type']]['TAT']).time(), axis=1)\n",
    "flights['Overnight'] = flights.apply(lambda row: row['Arrival'] < row['Departure'], axis=1)\n",
    "\n",
    "# Print flight: X not feasible with aircraft: Y\n",
    "print('Flights not feasible with aircraft:')\n",
    "print(unfeasible_flights[['Flight no.', 'AC Type', 'From', 'To', 'Distance']])\n",
    "print('\\n')"
   ]
  },
  {
   "cell_type": "code",
   "execution_count": 62,
   "metadata": {},
   "outputs": [],
   "source": [
    "# Make flights dictionary with main keys: AC Type, with a sub dictionary of flight numbers and each with flight details\n",
    "flights_dict = {}\n",
    "for i in flights_list:\n",
    "    flights_dict[i] = flights[flights['Flight no.'] == i].set_index('AC Type').to_dict(orient='index')\n",
    "\n",
    "flights = flights_dict"
   ]
  },
  {
   "cell_type": "code",
   "execution_count": 63,
   "metadata": {},
   "outputs": [],
   "source": [
    "import pandas as pd\n",
    "\n",
    "# Create an empty list to store the data\n",
    "data = []\n",
    "# Iterate over airports, aircraft types, and flights\n",
    "for l in flights:\n",
    "    for k in flights[l]:\n",
    "        if flights[l][k]['Distance'] < aircraft[k]['Range']:\n",
    "            for n in airports:\n",
    "                if flights[l][k]['From'] == n:\n",
    "                    data.append([k, n, l, flights[l][k]['Departure'], flights[l][k]['Distance'], 'Departure'])\n",
    "                if flights[l][k]['To'] == n:\n",
    "                    data.append([k, n, l, flights[l][k]['Arrival'], flights[l][k]['Distance'], 'Arrival'])\n",
    "\n",
    "# Create a dataframe with the data\n",
    "events = pd.DataFrame(data, columns=['AC Type','Airport', 'Flight N', 'Time', 'Distance', 'D_A'])\n",
    "\n",
    "# Add the TAT to the arrival times\n",
    "\n",
    "events.sort_values(by=['AC Type', 'Airport', 'Time'], inplace=True)\n",
    "\n",
    "# Reset the numbering of the events\n",
    "events.reset_index(drop=True, inplace=True)"
   ]
  },
  {
   "cell_type": "code",
   "execution_count": 64,
   "metadata": {},
   "outputs": [
    {
     "data": {
      "text/html": [
       "<div>\n",
       "<style scoped>\n",
       "    .dataframe tbody tr th:only-of-type {\n",
       "        vertical-align: middle;\n",
       "    }\n",
       "\n",
       "    .dataframe tbody tr th {\n",
       "        vertical-align: top;\n",
       "    }\n",
       "\n",
       "    .dataframe thead th {\n",
       "        text-align: right;\n",
       "    }\n",
       "</style>\n",
       "<table border=\"1\" class=\"dataframe\">\n",
       "  <thead>\n",
       "    <tr style=\"text-align: right;\">\n",
       "      <th></th>\n",
       "      <th>AC Type</th>\n",
       "      <th>Airport</th>\n",
       "      <th>Flight N</th>\n",
       "      <th>Time</th>\n",
       "      <th>Distance</th>\n",
       "      <th>D_A</th>\n",
       "    </tr>\n",
       "  </thead>\n",
       "  <tbody>\n",
       "    <tr>\n",
       "      <th>0</th>\n",
       "      <td>A310</td>\n",
       "      <td>BOS</td>\n",
       "      <td>S422X</td>\n",
       "      <td>03:15:00</td>\n",
       "      <td>3888</td>\n",
       "      <td>Departure</td>\n",
       "    </tr>\n",
       "    <tr>\n",
       "      <th>1</th>\n",
       "      <td>A310</td>\n",
       "      <td>BOS</td>\n",
       "      <td>S4221</td>\n",
       "      <td>22:25:00</td>\n",
       "      <td>3888</td>\n",
       "      <td>Arrival</td>\n",
       "    </tr>\n",
       "    <tr>\n",
       "      <th>2</th>\n",
       "      <td>A310</td>\n",
       "      <td>FNC</td>\n",
       "      <td>S4160</td>\n",
       "      <td>13:25:00</td>\n",
       "      <td>975</td>\n",
       "      <td>Arrival</td>\n",
       "    </tr>\n",
       "    <tr>\n",
       "      <th>3</th>\n",
       "      <td>A310</td>\n",
       "      <td>FNC</td>\n",
       "      <td>S4161</td>\n",
       "      <td>17:05:00</td>\n",
       "      <td>975</td>\n",
       "      <td>Departure</td>\n",
       "    </tr>\n",
       "    <tr>\n",
       "      <th>4</th>\n",
       "      <td>A310</td>\n",
       "      <td>LIS</td>\n",
       "      <td>S4128</td>\n",
       "      <td>00:50:00</td>\n",
       "      <td>1461</td>\n",
       "      <td>Arrival</td>\n",
       "    </tr>\n",
       "    <tr>\n",
       "      <th>...</th>\n",
       "      <td>...</td>\n",
       "      <td>...</td>\n",
       "      <td>...</td>\n",
       "      <td>...</td>\n",
       "      <td>...</td>\n",
       "      <td>...</td>\n",
       "    </tr>\n",
       "    <tr>\n",
       "      <th>59</th>\n",
       "      <td>A320</td>\n",
       "      <td>PDL</td>\n",
       "      <td>S4212</td>\n",
       "      <td>19:00:00</td>\n",
       "      <td>1536</td>\n",
       "      <td>Departure</td>\n",
       "    </tr>\n",
       "    <tr>\n",
       "      <th>60</th>\n",
       "      <td>A320</td>\n",
       "      <td>PDL</td>\n",
       "      <td>S4161</td>\n",
       "      <td>19:35:00</td>\n",
       "      <td>975</td>\n",
       "      <td>Arrival</td>\n",
       "    </tr>\n",
       "    <tr>\n",
       "      <th>61</th>\n",
       "      <td>A320</td>\n",
       "      <td>PDL</td>\n",
       "      <td>S4129</td>\n",
       "      <td>21:30:00</td>\n",
       "      <td>1461</td>\n",
       "      <td>Arrival</td>\n",
       "    </tr>\n",
       "    <tr>\n",
       "      <th>62</th>\n",
       "      <td>A320</td>\n",
       "      <td>PDL</td>\n",
       "      <td>S4213</td>\n",
       "      <td>21:50:00</td>\n",
       "      <td>1536</td>\n",
       "      <td>Arrival</td>\n",
       "    </tr>\n",
       "    <tr>\n",
       "      <th>63</th>\n",
       "      <td>A320</td>\n",
       "      <td>PDL</td>\n",
       "      <td>S4128</td>\n",
       "      <td>22:05:00</td>\n",
       "      <td>1461</td>\n",
       "      <td>Departure</td>\n",
       "    </tr>\n",
       "  </tbody>\n",
       "</table>\n",
       "<p>64 rows × 6 columns</p>\n",
       "</div>"
      ],
      "text/plain": [
       "   AC Type Airport Flight N      Time  Distance        D_A\n",
       "0     A310     BOS    S422X  03:15:00      3888  Departure\n",
       "1     A310     BOS    S4221  22:25:00      3888    Arrival\n",
       "2     A310     FNC    S4160  13:25:00       975    Arrival\n",
       "3     A310     FNC    S4161  17:05:00       975  Departure\n",
       "4     A310     LIS    S4128  00:50:00      1461    Arrival\n",
       "..     ...     ...      ...       ...       ...        ...\n",
       "59    A320     PDL    S4212  19:00:00      1536  Departure\n",
       "60    A320     PDL    S4161  19:35:00       975    Arrival\n",
       "61    A320     PDL    S4129  21:30:00      1461    Arrival\n",
       "62    A320     PDL    S4213  21:50:00      1536    Arrival\n",
       "63    A320     PDL    S4128  22:05:00      1461  Departure\n",
       "\n",
       "[64 rows x 6 columns]"
      ]
     },
     "execution_count": 64,
     "metadata": {},
     "output_type": "execute_result"
    }
   ],
   "source": [
    "events"
   ]
  },
  {
   "cell_type": "code",
   "execution_count": 65,
   "metadata": {},
   "outputs": [],
   "source": [
    "# For each airport and aircraft type i need to create a loop of ground arcs, each starting from the last event and ending at the next event, if there is no more events then the last ground arc is the overnight arc and it ends at the first event of the next day (first event of the next day is the first event of the same airport and aircraft type)\n",
    "\n",
    "ground_arcs = pd.DataFrame(columns=['AC Type', 'Airport', 'Start Time', 'End Time'])\n",
    "\n",
    "for k in ac_list:\n",
    "    for n in airports:\n",
    "        df = events[(events['AC Type'] == k) & (events['Airport'] == n)].sort_values(by=['Time'])\n",
    "        for i in range(len(df)):\n",
    "            if i == 0:\n",
    "                ground_arcs = pd.concat([ground_arcs, pd.DataFrame({'AC Type': k, 'Airport': n, 'Start Time': [df.iloc[-1]['Time']], 'End Time': [df.iloc[i]['Time']]})], ignore_index=True)\n",
    "            else:\n",
    "                ground_arcs = pd.concat([ground_arcs, pd.DataFrame({'AC Type': k, 'Airport': n, 'Start Time': [df.iloc[i-1]['Time']], 'End Time': [df.iloc[i]['Time']]})], ignore_index=True)\n",
    "\n",
    "ground_arcs.sort_values(by=['AC Type', 'Airport'], inplace=True)\n",
    "# Drop rows if start time and end time are the same\n",
    "ground_arcs = ground_arcs[~ground_arcs.apply(lambda row: (row['Start Time'] == row['End Time']), axis=1)]\n",
    "ground_arcs['Arc ID'] = ground_arcs.groupby(['AC Type','Airport']).cumcount()\n",
    "# Add the AC Type and Airport to the Arc ID\n",
    "ground_arcs['Arc ID'] = ground_arcs.apply(lambda row: str(row['AC Type']) + '_' + str(row['Airport']) + '_' + str(row['Arc ID']), axis=1)\n",
    "ground_arcs['Overnight'] = ground_arcs.apply(lambda row: (row['End Time'] < row['Start Time']), axis=1)\n",
    "ground_arcs.sort_values(by='Arc ID', inplace=True)"
   ]
  },
  {
   "cell_type": "code",
   "execution_count": 66,
   "metadata": {},
   "outputs": [
    {
     "data": {
      "text/html": [
       "<div>\n",
       "<style scoped>\n",
       "    .dataframe tbody tr th:only-of-type {\n",
       "        vertical-align: middle;\n",
       "    }\n",
       "\n",
       "    .dataframe tbody tr th {\n",
       "        vertical-align: top;\n",
       "    }\n",
       "\n",
       "    .dataframe thead th {\n",
       "        text-align: right;\n",
       "    }\n",
       "</style>\n",
       "<table border=\"1\" class=\"dataframe\">\n",
       "  <thead>\n",
       "    <tr style=\"text-align: right;\">\n",
       "      <th></th>\n",
       "      <th>AC Type</th>\n",
       "      <th>Airport</th>\n",
       "      <th>Start Time</th>\n",
       "      <th>End Time</th>\n",
       "      <th>Arc ID</th>\n",
       "      <th>Overnight</th>\n",
       "    </tr>\n",
       "  </thead>\n",
       "  <tbody>\n",
       "    <tr>\n",
       "      <th>8</th>\n",
       "      <td>A310</td>\n",
       "      <td>BOS</td>\n",
       "      <td>22:25:00</td>\n",
       "      <td>03:15:00</td>\n",
       "      <td>A310_BOS_0</td>\n",
       "      <td>True</td>\n",
       "    </tr>\n",
       "    <tr>\n",
       "      <th>9</th>\n",
       "      <td>A310</td>\n",
       "      <td>BOS</td>\n",
       "      <td>03:15:00</td>\n",
       "      <td>22:25:00</td>\n",
       "      <td>A310_BOS_1</td>\n",
       "      <td>False</td>\n",
       "    </tr>\n",
       "    <tr>\n",
       "      <th>2</th>\n",
       "      <td>A310</td>\n",
       "      <td>FNC</td>\n",
       "      <td>17:05:00</td>\n",
       "      <td>13:25:00</td>\n",
       "      <td>A310_FNC_0</td>\n",
       "      <td>True</td>\n",
       "    </tr>\n",
       "    <tr>\n",
       "      <th>3</th>\n",
       "      <td>A310</td>\n",
       "      <td>FNC</td>\n",
       "      <td>13:25:00</td>\n",
       "      <td>17:05:00</td>\n",
       "      <td>A310_FNC_1</td>\n",
       "      <td>False</td>\n",
       "    </tr>\n",
       "    <tr>\n",
       "      <th>28</th>\n",
       "      <td>A310</td>\n",
       "      <td>LIS</td>\n",
       "      <td>18:50:00</td>\n",
       "      <td>00:50:00</td>\n",
       "      <td>A310_LIS_0</td>\n",
       "      <td>True</td>\n",
       "    </tr>\n",
       "    <tr>\n",
       "      <th>29</th>\n",
       "      <td>A310</td>\n",
       "      <td>LIS</td>\n",
       "      <td>00:50:00</td>\n",
       "      <td>06:30:00</td>\n",
       "      <td>A310_LIS_1</td>\n",
       "      <td>False</td>\n",
       "    </tr>\n",
       "    <tr>\n",
       "      <th>30</th>\n",
       "      <td>A310</td>\n",
       "      <td>LIS</td>\n",
       "      <td>06:30:00</td>\n",
       "      <td>08:05:00</td>\n",
       "      <td>A310_LIS_2</td>\n",
       "      <td>False</td>\n",
       "    </tr>\n",
       "    <tr>\n",
       "      <th>31</th>\n",
       "      <td>A310</td>\n",
       "      <td>LIS</td>\n",
       "      <td>08:05:00</td>\n",
       "      <td>11:00:00</td>\n",
       "      <td>A310_LIS_3</td>\n",
       "      <td>False</td>\n",
       "    </tr>\n",
       "    <tr>\n",
       "      <th>32</th>\n",
       "      <td>A310</td>\n",
       "      <td>LIS</td>\n",
       "      <td>11:00:00</td>\n",
       "      <td>12:10:00</td>\n",
       "      <td>A310_LIS_4</td>\n",
       "      <td>False</td>\n",
       "    </tr>\n",
       "    <tr>\n",
       "      <th>33</th>\n",
       "      <td>A310</td>\n",
       "      <td>LIS</td>\n",
       "      <td>12:10:00</td>\n",
       "      <td>14:05:00</td>\n",
       "      <td>A310_LIS_5</td>\n",
       "      <td>False</td>\n",
       "    </tr>\n",
       "    <tr>\n",
       "      <th>34</th>\n",
       "      <td>A310</td>\n",
       "      <td>LIS</td>\n",
       "      <td>14:05:00</td>\n",
       "      <td>18:50:00</td>\n",
       "      <td>A310_LIS_6</td>\n",
       "      <td>False</td>\n",
       "    </tr>\n",
       "    <tr>\n",
       "      <th>4</th>\n",
       "      <td>A310</td>\n",
       "      <td>OPO</td>\n",
       "      <td>21:50:00</td>\n",
       "      <td>12:25:00</td>\n",
       "      <td>A310_OPO_0</td>\n",
       "      <td>True</td>\n",
       "    </tr>\n",
       "    <tr>\n",
       "      <th>5</th>\n",
       "      <td>A310</td>\n",
       "      <td>OPO</td>\n",
       "      <td>12:25:00</td>\n",
       "      <td>13:30:00</td>\n",
       "      <td>A310_OPO_1</td>\n",
       "      <td>False</td>\n",
       "    </tr>\n",
       "    <tr>\n",
       "      <th>6</th>\n",
       "      <td>A310</td>\n",
       "      <td>OPO</td>\n",
       "      <td>13:30:00</td>\n",
       "      <td>19:05:00</td>\n",
       "      <td>A310_OPO_2</td>\n",
       "      <td>False</td>\n",
       "    </tr>\n",
       "    <tr>\n",
       "      <th>7</th>\n",
       "      <td>A310</td>\n",
       "      <td>OPO</td>\n",
       "      <td>19:05:00</td>\n",
       "      <td>21:50:00</td>\n",
       "      <td>A310_OPO_3</td>\n",
       "      <td>False</td>\n",
       "    </tr>\n",
       "    <tr>\n",
       "      <th>10</th>\n",
       "      <td>A310</td>\n",
       "      <td>PDL</td>\n",
       "      <td>22:05:00</td>\n",
       "      <td>08:40:00</td>\n",
       "      <td>A310_PDL_0</td>\n",
       "      <td>True</td>\n",
       "    </tr>\n",
       "    <tr>\n",
       "      <th>11</th>\n",
       "      <td>A310</td>\n",
       "      <td>PDL</td>\n",
       "      <td>08:40:00</td>\n",
       "      <td>09:00:00</td>\n",
       "      <td>A310_PDL_1</td>\n",
       "      <td>False</td>\n",
       "    </tr>\n",
       "    <tr>\n",
       "      <th>21</th>\n",
       "      <td>A310</td>\n",
       "      <td>PDL</td>\n",
       "      <td>16:05:00</td>\n",
       "      <td>16:30:00</td>\n",
       "      <td>A310_PDL_10</td>\n",
       "      <td>False</td>\n",
       "    </tr>\n",
       "    <tr>\n",
       "      <th>22</th>\n",
       "      <td>A310</td>\n",
       "      <td>PDL</td>\n",
       "      <td>16:30:00</td>\n",
       "      <td>17:10:00</td>\n",
       "      <td>A310_PDL_11</td>\n",
       "      <td>False</td>\n",
       "    </tr>\n",
       "    <tr>\n",
       "      <th>23</th>\n",
       "      <td>A310</td>\n",
       "      <td>PDL</td>\n",
       "      <td>17:10:00</td>\n",
       "      <td>19:00:00</td>\n",
       "      <td>A310_PDL_12</td>\n",
       "      <td>False</td>\n",
       "    </tr>\n",
       "    <tr>\n",
       "      <th>24</th>\n",
       "      <td>A310</td>\n",
       "      <td>PDL</td>\n",
       "      <td>19:00:00</td>\n",
       "      <td>19:50:00</td>\n",
       "      <td>A310_PDL_13</td>\n",
       "      <td>False</td>\n",
       "    </tr>\n",
       "    <tr>\n",
       "      <th>25</th>\n",
       "      <td>A310</td>\n",
       "      <td>PDL</td>\n",
       "      <td>19:50:00</td>\n",
       "      <td>21:45:00</td>\n",
       "      <td>A310_PDL_14</td>\n",
       "      <td>False</td>\n",
       "    </tr>\n",
       "    <tr>\n",
       "      <th>26</th>\n",
       "      <td>A310</td>\n",
       "      <td>PDL</td>\n",
       "      <td>21:45:00</td>\n",
       "      <td>22:05:00</td>\n",
       "      <td>A310_PDL_15</td>\n",
       "      <td>False</td>\n",
       "    </tr>\n",
       "    <tr>\n",
       "      <th>12</th>\n",
       "      <td>A310</td>\n",
       "      <td>PDL</td>\n",
       "      <td>09:00:00</td>\n",
       "      <td>09:25:00</td>\n",
       "      <td>A310_PDL_2</td>\n",
       "      <td>False</td>\n",
       "    </tr>\n",
       "    <tr>\n",
       "      <th>14</th>\n",
       "      <td>A310</td>\n",
       "      <td>PDL</td>\n",
       "      <td>09:25:00</td>\n",
       "      <td>09:35:00</td>\n",
       "      <td>A310_PDL_3</td>\n",
       "      <td>False</td>\n",
       "    </tr>\n",
       "    <tr>\n",
       "      <th>15</th>\n",
       "      <td>A310</td>\n",
       "      <td>PDL</td>\n",
       "      <td>09:35:00</td>\n",
       "      <td>10:35:00</td>\n",
       "      <td>A310_PDL_4</td>\n",
       "      <td>False</td>\n",
       "    </tr>\n",
       "    <tr>\n",
       "      <th>16</th>\n",
       "      <td>A310</td>\n",
       "      <td>PDL</td>\n",
       "      <td>10:35:00</td>\n",
       "      <td>11:10:00</td>\n",
       "      <td>A310_PDL_5</td>\n",
       "      <td>False</td>\n",
       "    </tr>\n",
       "    <tr>\n",
       "      <th>17</th>\n",
       "      <td>A310</td>\n",
       "      <td>PDL</td>\n",
       "      <td>11:10:00</td>\n",
       "      <td>11:20:00</td>\n",
       "      <td>A310_PDL_6</td>\n",
       "      <td>False</td>\n",
       "    </tr>\n",
       "    <tr>\n",
       "      <th>18</th>\n",
       "      <td>A310</td>\n",
       "      <td>PDL</td>\n",
       "      <td>11:20:00</td>\n",
       "      <td>15:15:00</td>\n",
       "      <td>A310_PDL_7</td>\n",
       "      <td>False</td>\n",
       "    </tr>\n",
       "    <tr>\n",
       "      <th>19</th>\n",
       "      <td>A310</td>\n",
       "      <td>PDL</td>\n",
       "      <td>15:15:00</td>\n",
       "      <td>16:00:00</td>\n",
       "      <td>A310_PDL_8</td>\n",
       "      <td>False</td>\n",
       "    </tr>\n",
       "    <tr>\n",
       "      <th>20</th>\n",
       "      <td>A310</td>\n",
       "      <td>PDL</td>\n",
       "      <td>16:00:00</td>\n",
       "      <td>16:05:00</td>\n",
       "      <td>A310_PDL_9</td>\n",
       "      <td>False</td>\n",
       "    </tr>\n",
       "    <tr>\n",
       "      <th>0</th>\n",
       "      <td>A310</td>\n",
       "      <td>YTO</td>\n",
       "      <td>02:45:00</td>\n",
       "      <td>00:25:00</td>\n",
       "      <td>A310_YTO_0</td>\n",
       "      <td>True</td>\n",
       "    </tr>\n",
       "    <tr>\n",
       "      <th>1</th>\n",
       "      <td>A310</td>\n",
       "      <td>YTO</td>\n",
       "      <td>00:25:00</td>\n",
       "      <td>02:45:00</td>\n",
       "      <td>A310_YTO_1</td>\n",
       "      <td>False</td>\n",
       "    </tr>\n",
       "  </tbody>\n",
       "</table>\n",
       "</div>"
      ],
      "text/plain": [
       "   AC Type Airport Start Time  End Time       Arc ID  Overnight\n",
       "8     A310     BOS   22:25:00  03:15:00   A310_BOS_0       True\n",
       "9     A310     BOS   03:15:00  22:25:00   A310_BOS_1      False\n",
       "2     A310     FNC   17:05:00  13:25:00   A310_FNC_0       True\n",
       "3     A310     FNC   13:25:00  17:05:00   A310_FNC_1      False\n",
       "28    A310     LIS   18:50:00  00:50:00   A310_LIS_0       True\n",
       "29    A310     LIS   00:50:00  06:30:00   A310_LIS_1      False\n",
       "30    A310     LIS   06:30:00  08:05:00   A310_LIS_2      False\n",
       "31    A310     LIS   08:05:00  11:00:00   A310_LIS_3      False\n",
       "32    A310     LIS   11:00:00  12:10:00   A310_LIS_4      False\n",
       "33    A310     LIS   12:10:00  14:05:00   A310_LIS_5      False\n",
       "34    A310     LIS   14:05:00  18:50:00   A310_LIS_6      False\n",
       "4     A310     OPO   21:50:00  12:25:00   A310_OPO_0       True\n",
       "5     A310     OPO   12:25:00  13:30:00   A310_OPO_1      False\n",
       "6     A310     OPO   13:30:00  19:05:00   A310_OPO_2      False\n",
       "7     A310     OPO   19:05:00  21:50:00   A310_OPO_3      False\n",
       "10    A310     PDL   22:05:00  08:40:00   A310_PDL_0       True\n",
       "11    A310     PDL   08:40:00  09:00:00   A310_PDL_1      False\n",
       "21    A310     PDL   16:05:00  16:30:00  A310_PDL_10      False\n",
       "22    A310     PDL   16:30:00  17:10:00  A310_PDL_11      False\n",
       "23    A310     PDL   17:10:00  19:00:00  A310_PDL_12      False\n",
       "24    A310     PDL   19:00:00  19:50:00  A310_PDL_13      False\n",
       "25    A310     PDL   19:50:00  21:45:00  A310_PDL_14      False\n",
       "26    A310     PDL   21:45:00  22:05:00  A310_PDL_15      False\n",
       "12    A310     PDL   09:00:00  09:25:00   A310_PDL_2      False\n",
       "14    A310     PDL   09:25:00  09:35:00   A310_PDL_3      False\n",
       "15    A310     PDL   09:35:00  10:35:00   A310_PDL_4      False\n",
       "16    A310     PDL   10:35:00  11:10:00   A310_PDL_5      False\n",
       "17    A310     PDL   11:10:00  11:20:00   A310_PDL_6      False\n",
       "18    A310     PDL   11:20:00  15:15:00   A310_PDL_7      False\n",
       "19    A310     PDL   15:15:00  16:00:00   A310_PDL_8      False\n",
       "20    A310     PDL   16:00:00  16:05:00   A310_PDL_9      False\n",
       "0     A310     YTO   02:45:00  00:25:00   A310_YTO_0       True\n",
       "1     A310     YTO   00:25:00  02:45:00   A310_YTO_1      False"
      ]
     },
     "execution_count": 66,
     "metadata": {},
     "output_type": "execute_result"
    }
   ],
   "source": [
    "ground_arcs[ground_arcs['AC Type'] == 'A310'].sort_values(by=['AC Type', 'Airport', 'Arc ID'])"
   ]
  },
  {
   "cell_type": "code",
   "execution_count": 67,
   "metadata": {},
   "outputs": [],
   "source": [
    "# Create a nodes_df\n",
    "nodes_df = ground_arcs[['AC Type', 'Airport', 'Start Time']].rename(columns={'Start Time': 'Time'})\n",
    "\n",
    "# Add a count number for each row group by AC Type and Airport\n",
    "nodes_df['Node ID'] = nodes_df.groupby(['AC Type']).cumcount()\n",
    "\n",
    "# make a dictionary with the ac type as main key and the airport as secondary key with the node as tertiary key and the time as value\n",
    "nodes = {}\n",
    "for k in ac_list:\n",
    "    nodes[k] = {}\n",
    "    for n in airports:\n",
    "        nodes[k][n] = {}\n",
    "        for i in nodes_df[(nodes_df['AC Type'] == k) & (nodes_df['Airport'] == n)]['Node ID']:\n",
    "            nodes[k][n][i] = {'Time': nodes_df[(nodes_df['AC Type'] == k) & \n",
    "                                               (nodes_df['Airport'] == n) & \n",
    "                                               (nodes_df['Node ID'] == i)]['Time'].values[0]}\n",
    "            "
   ]
  },
  {
   "cell_type": "code",
   "execution_count": 68,
   "metadata": {},
   "outputs": [],
   "source": [
    "# Add node id to the events\n",
    "events.merge(nodes_df, how='left', on=['AC Type', 'Airport', 'Time']).sort_values(by=['AC Type', 'Airport'])\n",
    "\n",
    "# Add a dictionary call departures and another one arrivals to the nodes dictionary at k,n,i+1 with \n",
    "# the events that have the same ac type, airport and time as the node\n",
    "for k in ac_list:\n",
    "    for n in airports:\n",
    "        for i in nodes_df[(nodes_df['AC Type'] == k) & (nodes_df['Airport'] == n)]['Node ID']:\n",
    "            nodes[k][n][i]['Departures'] = list(events[(events['AC Type'] == k) & (events['Airport'] == n) & (events['Time'] == nodes[k][n][i]['Time']) & (events['D_A'] == 'Departure')]['Flight N'])\n",
    "            nodes[k][n][i]['Arrivals'] = list(events[(events['AC Type'] == k) & (events['Airport'] == n) & (events['Time'] == nodes[k][n][i]['Time']) & (events['D_A'] == 'Arrival')]['Flight N'])\n"
   ]
  },
  {
   "cell_type": "code",
   "execution_count": 69,
   "metadata": {},
   "outputs": [],
   "source": [
    "# n+: ground arcs originating at any node n (start time)\n",
    "# n-: ground arcs ending at any node n (end time)\n",
    "n_plus = ground_arcs[['Airport', 'AC Type', 'Start Time', 'Arc ID']].rename(columns={'Start Time': 'Time'})\n",
    "n_minus = ground_arcs[['Airport', 'AC Type', 'End Time', 'Arc ID']].rename(columns={'End Time': 'Time'})\n",
    "\n",
    "# Add a dictionary call n+ and another one n- to the nodes dictionary at k,n,i+1 with \n",
    "# the events that have the same ac type, airport and time as the node\n",
    "for k in ac_list:\n",
    "    for n in airports:\n",
    "        for i in nodes_df[(nodes_df['AC Type'] == k) & (nodes_df['Airport'] == n)]['Node ID']:\n",
    "            nodes[k][n][i]['n+'] = list(n_plus[(n_plus['AC Type'] == k) & (n_plus['Airport'] == n) & (n_plus['Time'] == nodes[k][n][i]['Time'])]['Arc ID'])\n",
    "            nodes[k][n][i]['n-'] = list(n_minus[(n_minus['AC Type'] == k) & (n_minus['Airport'] == n) & (n_minus['Time'] == nodes[k][n][i]['Time'])]['Arc ID'])"
   ]
  },
  {
   "cell_type": "code",
   "execution_count": 70,
   "metadata": {},
   "outputs": [],
   "source": [
    "overnight_arcs = ground_arcs[ground_arcs['Overnight'] == True][['AC Type', 'Airport', 'Arc ID']]\n",
    "overnight_flights = []\n",
    "for l in flights:\n",
    "    for k in flights[l]:\n",
    "        if flights[l][k]['Overnight']:\n",
    "            overnight_flights.append([k, l])\n",
    "\n",
    "overnight_flights = pd.DataFrame(overnight_flights, columns=['AC Type', 'Flight no.'])"
   ]
  },
  {
   "cell_type": "code",
   "execution_count": 71,
   "metadata": {},
   "outputs": [
    {
     "data": {
      "text/html": [
       "<div>\n",
       "<style scoped>\n",
       "    .dataframe tbody tr th:only-of-type {\n",
       "        vertical-align: middle;\n",
       "    }\n",
       "\n",
       "    .dataframe tbody tr th {\n",
       "        vertical-align: top;\n",
       "    }\n",
       "\n",
       "    .dataframe thead th {\n",
       "        text-align: right;\n",
       "    }\n",
       "</style>\n",
       "<table border=\"1\" class=\"dataframe\">\n",
       "  <thead>\n",
       "    <tr style=\"text-align: right;\">\n",
       "      <th></th>\n",
       "      <th>AC Type</th>\n",
       "      <th>Flight no.</th>\n",
       "    </tr>\n",
       "  </thead>\n",
       "  <tbody>\n",
       "    <tr>\n",
       "      <th>0</th>\n",
       "      <td>A310</td>\n",
       "      <td>S4128</td>\n",
       "    </tr>\n",
       "    <tr>\n",
       "      <th>1</th>\n",
       "      <td>A320</td>\n",
       "      <td>S4128</td>\n",
       "    </tr>\n",
       "  </tbody>\n",
       "</table>\n",
       "</div>"
      ],
      "text/plain": [
       "  AC Type Flight no.\n",
       "0    A310      S4128\n",
       "1    A320      S4128"
      ]
     },
     "execution_count": 71,
     "metadata": {},
     "output_type": "execute_result"
    }
   ],
   "source": [
    "overnight_flights"
   ]
  },
  {
   "cell_type": "code",
   "execution_count": 72,
   "metadata": {},
   "outputs": [
    {
     "data": {
      "application/vnd.plotly.v1+json": {
       "config": {
        "plotlyServerURL": "https://plot.ly"
       },
       "data": [
        {
         "hovertemplate": [
          "<b>Flight no.</b>: S4222<br>",
          "<b>Flight no.</b>: S4128<br>",
          "<b>Flight no.</b>: S4223<br>",
          "<b>Flight no.</b>: S422X<br>",
          "<b>Flight no.</b>: S4121<br>",
          "<b>Flight no.</b>: S422Y<br>",
          "<b>Flight no.</b>: S422X<br>",
          "<b>Flight no.</b>: S4223<br>",
          "<b>Flight no.</b>: S4120<br>",
          "<b>Flight no.</b>: S4121<br>",
          "<b>Flight no.</b>: S4320<br>",
          "<b>Flight no.</b>: S4160<br>",
          "<b>Flight no.</b>: S4125<br>",
          "<b>Flight no.</b>: S422Y<br>",
          "<b>Flight no.</b>: S4220<br>",
          "<b>Flight no.</b>: S4120<br>",
          "<b>Flight no.</b>: S4320<br>",
          "<b>Flight no.</b>: S4160<br>",
          "<b>Flight no.</b>: S4321<br>",
          "<b>Flight no.</b>: S4220<br>",
          "<b>Flight no.</b>: S4125<br>",
          "<b>Flight no.</b>: S4221<br>",
          "<b>Flight no.</b>: S4124<br>",
          "<b>Flight no.</b>: S4321<br>",
          "<b>Flight no.</b>: S4161<br>",
          "<b>Flight no.</b>: S4222<br>",
          "<b>Flight no.</b>: S4124<br>",
          "<b>Flight no.</b>: S4129<br>",
          "<b>Flight no.</b>: S4212<br>",
          "<b>Flight no.</b>: S4213<br>",
          "<b>Flight no.</b>: S4161<br>",
          "<b>Flight no.</b>: S4129<br>",
          "<b>Flight no.</b>: S4212<br>",
          "<b>Flight no.</b>: S4128<br>",
          "<b>Flight no.</b>: S4213<br>",
          "<b>Flight no.</b>: S4221<br>"
         ],
         "marker": {
          "color": [
           "blue",
           "blue",
           "red",
           "red",
           "red",
           "red",
           "blue",
           "blue",
           "red",
           "blue",
           "red",
           "red",
           "red",
           "blue",
           "red",
           "blue",
           "blue",
           "blue",
           "red",
           "blue",
           "blue",
           "red",
           "red",
           "blue",
           "red",
           "red",
           "blue",
           "red",
           "red",
           "red",
           "blue",
           "blue",
           "blue",
           "red",
           "blue",
           "blue"
          ]
         },
         "mode": "markers+text",
         "type": "scatter",
         "x": [
          "00:25:00",
          "00:50:00",
          "02:45:00",
          "03:15:00",
          "06:30:00",
          "08:05:00",
          "08:40:00",
          "09:00:00",
          "09:25:00",
          "09:25:00",
          "09:35:00",
          "10:35:00",
          "11:00:00",
          "11:10:00",
          "11:20:00",
          "12:10:00",
          "12:25:00",
          "13:25:00",
          "13:30:00",
          "14:05:00",
          "15:15:00",
          "16:00:00",
          "16:05:00",
          "16:30:00",
          "17:05:00",
          "17:10:00",
          "18:50:00",
          "18:50:00",
          "19:00:00",
          "19:05:00",
          "19:50:00",
          "21:45:00",
          "21:50:00",
          "22:05:00",
          "22:05:00",
          "22:25:00"
         ],
         "y": [
          "YTO",
          "LIS",
          "YTO",
          "BOS",
          "LIS",
          "LIS",
          "PDL",
          "PDL",
          "PDL",
          "PDL",
          "PDL",
          "PDL",
          "LIS",
          "PDL",
          "PDL",
          "LIS",
          "OPO",
          "FNC",
          "OPO",
          "LIS",
          "PDL",
          "PDL",
          "PDL",
          "PDL",
          "FNC",
          "PDL",
          "LIS",
          "LIS",
          "PDL",
          "OPO",
          "PDL",
          "PDL",
          "OPO",
          "PDL",
          "PDL",
          "BOS"
         ]
        }
       ],
       "layout": {
        "shapes": [
         {
          "line": {
           "color": "#B968A7",
           "width": 2
          },
          "type": "line",
          "x0": "22:25:00",
          "x1": "03:15:00",
          "y0": "BOS",
          "y1": "BOS"
         },
         {
          "line": {
           "color": "#666C7A",
           "width": 2
          },
          "type": "line",
          "x0": "03:15:00",
          "x1": "22:25:00",
          "y0": "BOS",
          "y1": "BOS"
         },
         {
          "line": {
           "color": "#54D2A3",
           "width": 2
          },
          "type": "line",
          "x0": "17:05:00",
          "x1": "13:25:00",
          "y0": "FNC",
          "y1": "FNC"
         },
         {
          "line": {
           "color": "#03A24B",
           "width": 2
          },
          "type": "line",
          "x0": "13:25:00",
          "x1": "17:05:00",
          "y0": "FNC",
          "y1": "FNC"
         },
         {
          "line": {
           "color": "#F70656",
           "width": 2
          },
          "type": "line",
          "x0": "18:50:00",
          "x1": "00:50:00",
          "y0": "LIS",
          "y1": "LIS"
         },
         {
          "line": {
           "color": "#392E0C",
           "width": 2
          },
          "type": "line",
          "x0": "00:50:00",
          "x1": "06:30:00",
          "y0": "LIS",
          "y1": "LIS"
         },
         {
          "line": {
           "color": "#EE914A",
           "width": 2
          },
          "type": "line",
          "x0": "06:30:00",
          "x1": "08:05:00",
          "y0": "LIS",
          "y1": "LIS"
         },
         {
          "line": {
           "color": "#0C3560",
           "width": 2
          },
          "type": "line",
          "x0": "08:05:00",
          "x1": "11:00:00",
          "y0": "LIS",
          "y1": "LIS"
         },
         {
          "line": {
           "color": "#124C8F",
           "width": 2
          },
          "type": "line",
          "x0": "11:00:00",
          "x1": "12:10:00",
          "y0": "LIS",
          "y1": "LIS"
         },
         {
          "line": {
           "color": "#BE5E2D",
           "width": 2
          },
          "type": "line",
          "x0": "12:10:00",
          "x1": "14:05:00",
          "y0": "LIS",
          "y1": "LIS"
         },
         {
          "line": {
           "color": "#A8676C",
           "width": 2
          },
          "type": "line",
          "x0": "14:05:00",
          "x1": "18:50:00",
          "y0": "LIS",
          "y1": "LIS"
         },
         {
          "line": {
           "color": "#00EEF1",
           "width": 2
          },
          "type": "line",
          "x0": "21:50:00",
          "x1": "12:25:00",
          "y0": "OPO",
          "y1": "OPO"
         },
         {
          "line": {
           "color": "#C467E8",
           "width": 2
          },
          "type": "line",
          "x0": "12:25:00",
          "x1": "13:30:00",
          "y0": "OPO",
          "y1": "OPO"
         },
         {
          "line": {
           "color": "#3209C5",
           "width": 2
          },
          "type": "line",
          "x0": "13:30:00",
          "x1": "19:05:00",
          "y0": "OPO",
          "y1": "OPO"
         },
         {
          "line": {
           "color": "#7F14E0",
           "width": 2
          },
          "type": "line",
          "x0": "19:05:00",
          "x1": "21:50:00",
          "y0": "OPO",
          "y1": "OPO"
         },
         {
          "line": {
           "color": "#1825D0",
           "width": 2
          },
          "type": "line",
          "x0": "22:05:00",
          "x1": "08:40:00",
          "y0": "PDL",
          "y1": "PDL"
         },
         {
          "line": {
           "color": "#56EE40",
           "width": 2
          },
          "type": "line",
          "x0": "08:40:00",
          "x1": "09:00:00",
          "y0": "PDL",
          "y1": "PDL"
         },
         {
          "line": {
           "color": "#0448FF",
           "width": 2
          },
          "type": "line",
          "x0": "16:05:00",
          "x1": "16:30:00",
          "y0": "PDL",
          "y1": "PDL"
         },
         {
          "line": {
           "color": "#40EB0C",
           "width": 2
          },
          "type": "line",
          "x0": "16:30:00",
          "x1": "17:10:00",
          "y0": "PDL",
          "y1": "PDL"
         },
         {
          "line": {
           "color": "#103E8B",
           "width": 2
          },
          "type": "line",
          "x0": "17:10:00",
          "x1": "19:00:00",
          "y0": "PDL",
          "y1": "PDL"
         },
         {
          "line": {
           "color": "#8C36A9",
           "width": 2
          },
          "type": "line",
          "x0": "19:00:00",
          "x1": "19:50:00",
          "y0": "PDL",
          "y1": "PDL"
         },
         {
          "line": {
           "color": "#A2B6DB",
           "width": 2
          },
          "type": "line",
          "x0": "19:50:00",
          "x1": "21:45:00",
          "y0": "PDL",
          "y1": "PDL"
         },
         {
          "line": {
           "color": "#A183E5",
           "width": 2
          },
          "type": "line",
          "x0": "21:45:00",
          "x1": "22:05:00",
          "y0": "PDL",
          "y1": "PDL"
         },
         {
          "line": {
           "color": "#26A0A0",
           "width": 2
          },
          "type": "line",
          "x0": "09:00:00",
          "x1": "09:25:00",
          "y0": "PDL",
          "y1": "PDL"
         },
         {
          "line": {
           "color": "#58ACEB",
           "width": 2
          },
          "type": "line",
          "x0": "09:25:00",
          "x1": "09:35:00",
          "y0": "PDL",
          "y1": "PDL"
         },
         {
          "line": {
           "color": "#6E50A1",
           "width": 2
          },
          "type": "line",
          "x0": "09:35:00",
          "x1": "10:35:00",
          "y0": "PDL",
          "y1": "PDL"
         },
         {
          "line": {
           "color": "#B21BEA",
           "width": 2
          },
          "type": "line",
          "x0": "10:35:00",
          "x1": "11:10:00",
          "y0": "PDL",
          "y1": "PDL"
         },
         {
          "line": {
           "color": "#127FC4",
           "width": 2
          },
          "type": "line",
          "x0": "11:10:00",
          "x1": "11:20:00",
          "y0": "PDL",
          "y1": "PDL"
         },
         {
          "line": {
           "color": "#EF1E59",
           "width": 2
          },
          "type": "line",
          "x0": "11:20:00",
          "x1": "15:15:00",
          "y0": "PDL",
          "y1": "PDL"
         },
         {
          "line": {
           "color": "#693506",
           "width": 2
          },
          "type": "line",
          "x0": "15:15:00",
          "x1": "16:00:00",
          "y0": "PDL",
          "y1": "PDL"
         },
         {
          "line": {
           "color": "#9272F1",
           "width": 2
          },
          "type": "line",
          "x0": "16:00:00",
          "x1": "16:05:00",
          "y0": "PDL",
          "y1": "PDL"
         },
         {
          "line": {
           "color": "#827832",
           "width": 2
          },
          "type": "line",
          "x0": "02:45:00",
          "x1": "00:25:00",
          "y0": "YTO",
          "y1": "YTO"
         },
         {
          "line": {
           "color": "#0E0875",
           "width": 2
          },
          "type": "line",
          "x0": "00:25:00",
          "x1": "02:45:00",
          "y0": "YTO",
          "y1": "YTO"
         }
        ],
        "template": {
         "data": {
          "bar": [
           {
            "error_x": {
             "color": "#2a3f5f"
            },
            "error_y": {
             "color": "#2a3f5f"
            },
            "marker": {
             "line": {
              "color": "#E5ECF6",
              "width": 0.5
             },
             "pattern": {
              "fillmode": "overlay",
              "size": 10,
              "solidity": 0.2
             }
            },
            "type": "bar"
           }
          ],
          "barpolar": [
           {
            "marker": {
             "line": {
              "color": "#E5ECF6",
              "width": 0.5
             },
             "pattern": {
              "fillmode": "overlay",
              "size": 10,
              "solidity": 0.2
             }
            },
            "type": "barpolar"
           }
          ],
          "carpet": [
           {
            "aaxis": {
             "endlinecolor": "#2a3f5f",
             "gridcolor": "white",
             "linecolor": "white",
             "minorgridcolor": "white",
             "startlinecolor": "#2a3f5f"
            },
            "baxis": {
             "endlinecolor": "#2a3f5f",
             "gridcolor": "white",
             "linecolor": "white",
             "minorgridcolor": "white",
             "startlinecolor": "#2a3f5f"
            },
            "type": "carpet"
           }
          ],
          "choropleth": [
           {
            "colorbar": {
             "outlinewidth": 0,
             "ticks": ""
            },
            "type": "choropleth"
           }
          ],
          "contour": [
           {
            "colorbar": {
             "outlinewidth": 0,
             "ticks": ""
            },
            "colorscale": [
             [
              0,
              "#0d0887"
             ],
             [
              0.1111111111111111,
              "#46039f"
             ],
             [
              0.2222222222222222,
              "#7201a8"
             ],
             [
              0.3333333333333333,
              "#9c179e"
             ],
             [
              0.4444444444444444,
              "#bd3786"
             ],
             [
              0.5555555555555556,
              "#d8576b"
             ],
             [
              0.6666666666666666,
              "#ed7953"
             ],
             [
              0.7777777777777778,
              "#fb9f3a"
             ],
             [
              0.8888888888888888,
              "#fdca26"
             ],
             [
              1,
              "#f0f921"
             ]
            ],
            "type": "contour"
           }
          ],
          "contourcarpet": [
           {
            "colorbar": {
             "outlinewidth": 0,
             "ticks": ""
            },
            "type": "contourcarpet"
           }
          ],
          "heatmap": [
           {
            "colorbar": {
             "outlinewidth": 0,
             "ticks": ""
            },
            "colorscale": [
             [
              0,
              "#0d0887"
             ],
             [
              0.1111111111111111,
              "#46039f"
             ],
             [
              0.2222222222222222,
              "#7201a8"
             ],
             [
              0.3333333333333333,
              "#9c179e"
             ],
             [
              0.4444444444444444,
              "#bd3786"
             ],
             [
              0.5555555555555556,
              "#d8576b"
             ],
             [
              0.6666666666666666,
              "#ed7953"
             ],
             [
              0.7777777777777778,
              "#fb9f3a"
             ],
             [
              0.8888888888888888,
              "#fdca26"
             ],
             [
              1,
              "#f0f921"
             ]
            ],
            "type": "heatmap"
           }
          ],
          "heatmapgl": [
           {
            "colorbar": {
             "outlinewidth": 0,
             "ticks": ""
            },
            "colorscale": [
             [
              0,
              "#0d0887"
             ],
             [
              0.1111111111111111,
              "#46039f"
             ],
             [
              0.2222222222222222,
              "#7201a8"
             ],
             [
              0.3333333333333333,
              "#9c179e"
             ],
             [
              0.4444444444444444,
              "#bd3786"
             ],
             [
              0.5555555555555556,
              "#d8576b"
             ],
             [
              0.6666666666666666,
              "#ed7953"
             ],
             [
              0.7777777777777778,
              "#fb9f3a"
             ],
             [
              0.8888888888888888,
              "#fdca26"
             ],
             [
              1,
              "#f0f921"
             ]
            ],
            "type": "heatmapgl"
           }
          ],
          "histogram": [
           {
            "marker": {
             "pattern": {
              "fillmode": "overlay",
              "size": 10,
              "solidity": 0.2
             }
            },
            "type": "histogram"
           }
          ],
          "histogram2d": [
           {
            "colorbar": {
             "outlinewidth": 0,
             "ticks": ""
            },
            "colorscale": [
             [
              0,
              "#0d0887"
             ],
             [
              0.1111111111111111,
              "#46039f"
             ],
             [
              0.2222222222222222,
              "#7201a8"
             ],
             [
              0.3333333333333333,
              "#9c179e"
             ],
             [
              0.4444444444444444,
              "#bd3786"
             ],
             [
              0.5555555555555556,
              "#d8576b"
             ],
             [
              0.6666666666666666,
              "#ed7953"
             ],
             [
              0.7777777777777778,
              "#fb9f3a"
             ],
             [
              0.8888888888888888,
              "#fdca26"
             ],
             [
              1,
              "#f0f921"
             ]
            ],
            "type": "histogram2d"
           }
          ],
          "histogram2dcontour": [
           {
            "colorbar": {
             "outlinewidth": 0,
             "ticks": ""
            },
            "colorscale": [
             [
              0,
              "#0d0887"
             ],
             [
              0.1111111111111111,
              "#46039f"
             ],
             [
              0.2222222222222222,
              "#7201a8"
             ],
             [
              0.3333333333333333,
              "#9c179e"
             ],
             [
              0.4444444444444444,
              "#bd3786"
             ],
             [
              0.5555555555555556,
              "#d8576b"
             ],
             [
              0.6666666666666666,
              "#ed7953"
             ],
             [
              0.7777777777777778,
              "#fb9f3a"
             ],
             [
              0.8888888888888888,
              "#fdca26"
             ],
             [
              1,
              "#f0f921"
             ]
            ],
            "type": "histogram2dcontour"
           }
          ],
          "mesh3d": [
           {
            "colorbar": {
             "outlinewidth": 0,
             "ticks": ""
            },
            "type": "mesh3d"
           }
          ],
          "parcoords": [
           {
            "line": {
             "colorbar": {
              "outlinewidth": 0,
              "ticks": ""
             }
            },
            "type": "parcoords"
           }
          ],
          "pie": [
           {
            "automargin": true,
            "type": "pie"
           }
          ],
          "scatter": [
           {
            "fillpattern": {
             "fillmode": "overlay",
             "size": 10,
             "solidity": 0.2
            },
            "type": "scatter"
           }
          ],
          "scatter3d": [
           {
            "line": {
             "colorbar": {
              "outlinewidth": 0,
              "ticks": ""
             }
            },
            "marker": {
             "colorbar": {
              "outlinewidth": 0,
              "ticks": ""
             }
            },
            "type": "scatter3d"
           }
          ],
          "scattercarpet": [
           {
            "marker": {
             "colorbar": {
              "outlinewidth": 0,
              "ticks": ""
             }
            },
            "type": "scattercarpet"
           }
          ],
          "scattergeo": [
           {
            "marker": {
             "colorbar": {
              "outlinewidth": 0,
              "ticks": ""
             }
            },
            "type": "scattergeo"
           }
          ],
          "scattergl": [
           {
            "marker": {
             "colorbar": {
              "outlinewidth": 0,
              "ticks": ""
             }
            },
            "type": "scattergl"
           }
          ],
          "scattermapbox": [
           {
            "marker": {
             "colorbar": {
              "outlinewidth": 0,
              "ticks": ""
             }
            },
            "type": "scattermapbox"
           }
          ],
          "scatterpolar": [
           {
            "marker": {
             "colorbar": {
              "outlinewidth": 0,
              "ticks": ""
             }
            },
            "type": "scatterpolar"
           }
          ],
          "scatterpolargl": [
           {
            "marker": {
             "colorbar": {
              "outlinewidth": 0,
              "ticks": ""
             }
            },
            "type": "scatterpolargl"
           }
          ],
          "scatterternary": [
           {
            "marker": {
             "colorbar": {
              "outlinewidth": 0,
              "ticks": ""
             }
            },
            "type": "scatterternary"
           }
          ],
          "surface": [
           {
            "colorbar": {
             "outlinewidth": 0,
             "ticks": ""
            },
            "colorscale": [
             [
              0,
              "#0d0887"
             ],
             [
              0.1111111111111111,
              "#46039f"
             ],
             [
              0.2222222222222222,
              "#7201a8"
             ],
             [
              0.3333333333333333,
              "#9c179e"
             ],
             [
              0.4444444444444444,
              "#bd3786"
             ],
             [
              0.5555555555555556,
              "#d8576b"
             ],
             [
              0.6666666666666666,
              "#ed7953"
             ],
             [
              0.7777777777777778,
              "#fb9f3a"
             ],
             [
              0.8888888888888888,
              "#fdca26"
             ],
             [
              1,
              "#f0f921"
             ]
            ],
            "type": "surface"
           }
          ],
          "table": [
           {
            "cells": {
             "fill": {
              "color": "#EBF0F8"
             },
             "line": {
              "color": "white"
             }
            },
            "header": {
             "fill": {
              "color": "#C8D4E3"
             },
             "line": {
              "color": "white"
             }
            },
            "type": "table"
           }
          ]
         },
         "layout": {
          "annotationdefaults": {
           "arrowcolor": "#2a3f5f",
           "arrowhead": 0,
           "arrowwidth": 1
          },
          "autotypenumbers": "strict",
          "coloraxis": {
           "colorbar": {
            "outlinewidth": 0,
            "ticks": ""
           }
          },
          "colorscale": {
           "diverging": [
            [
             0,
             "#8e0152"
            ],
            [
             0.1,
             "#c51b7d"
            ],
            [
             0.2,
             "#de77ae"
            ],
            [
             0.3,
             "#f1b6da"
            ],
            [
             0.4,
             "#fde0ef"
            ],
            [
             0.5,
             "#f7f7f7"
            ],
            [
             0.6,
             "#e6f5d0"
            ],
            [
             0.7,
             "#b8e186"
            ],
            [
             0.8,
             "#7fbc41"
            ],
            [
             0.9,
             "#4d9221"
            ],
            [
             1,
             "#276419"
            ]
           ],
           "sequential": [
            [
             0,
             "#0d0887"
            ],
            [
             0.1111111111111111,
             "#46039f"
            ],
            [
             0.2222222222222222,
             "#7201a8"
            ],
            [
             0.3333333333333333,
             "#9c179e"
            ],
            [
             0.4444444444444444,
             "#bd3786"
            ],
            [
             0.5555555555555556,
             "#d8576b"
            ],
            [
             0.6666666666666666,
             "#ed7953"
            ],
            [
             0.7777777777777778,
             "#fb9f3a"
            ],
            [
             0.8888888888888888,
             "#fdca26"
            ],
            [
             1,
             "#f0f921"
            ]
           ],
           "sequentialminus": [
            [
             0,
             "#0d0887"
            ],
            [
             0.1111111111111111,
             "#46039f"
            ],
            [
             0.2222222222222222,
             "#7201a8"
            ],
            [
             0.3333333333333333,
             "#9c179e"
            ],
            [
             0.4444444444444444,
             "#bd3786"
            ],
            [
             0.5555555555555556,
             "#d8576b"
            ],
            [
             0.6666666666666666,
             "#ed7953"
            ],
            [
             0.7777777777777778,
             "#fb9f3a"
            ],
            [
             0.8888888888888888,
             "#fdca26"
            ],
            [
             1,
             "#f0f921"
            ]
           ]
          },
          "colorway": [
           "#636efa",
           "#EF553B",
           "#00cc96",
           "#ab63fa",
           "#FFA15A",
           "#19d3f3",
           "#FF6692",
           "#B6E880",
           "#FF97FF",
           "#FECB52"
          ],
          "font": {
           "color": "#2a3f5f"
          },
          "geo": {
           "bgcolor": "white",
           "lakecolor": "white",
           "landcolor": "#E5ECF6",
           "showlakes": true,
           "showland": true,
           "subunitcolor": "white"
          },
          "hoverlabel": {
           "align": "left"
          },
          "hovermode": "closest",
          "mapbox": {
           "style": "light"
          },
          "paper_bgcolor": "white",
          "plot_bgcolor": "#E5ECF6",
          "polar": {
           "angularaxis": {
            "gridcolor": "white",
            "linecolor": "white",
            "ticks": ""
           },
           "bgcolor": "#E5ECF6",
           "radialaxis": {
            "gridcolor": "white",
            "linecolor": "white",
            "ticks": ""
           }
          },
          "scene": {
           "xaxis": {
            "backgroundcolor": "#E5ECF6",
            "gridcolor": "white",
            "gridwidth": 2,
            "linecolor": "white",
            "showbackground": true,
            "ticks": "",
            "zerolinecolor": "white"
           },
           "yaxis": {
            "backgroundcolor": "#E5ECF6",
            "gridcolor": "white",
            "gridwidth": 2,
            "linecolor": "white",
            "showbackground": true,
            "ticks": "",
            "zerolinecolor": "white"
           },
           "zaxis": {
            "backgroundcolor": "#E5ECF6",
            "gridcolor": "white",
            "gridwidth": 2,
            "linecolor": "white",
            "showbackground": true,
            "ticks": "",
            "zerolinecolor": "white"
           }
          },
          "shapedefaults": {
           "line": {
            "color": "#2a3f5f"
           }
          },
          "ternary": {
           "aaxis": {
            "gridcolor": "white",
            "linecolor": "white",
            "ticks": ""
           },
           "baxis": {
            "gridcolor": "white",
            "linecolor": "white",
            "ticks": ""
           },
           "bgcolor": "#E5ECF6",
           "caxis": {
            "gridcolor": "white",
            "linecolor": "white",
            "ticks": ""
           }
          },
          "title": {
           "x": 0.05
          },
          "xaxis": {
           "automargin": true,
           "gridcolor": "white",
           "linecolor": "white",
           "ticks": "",
           "title": {
            "standoff": 15
           },
           "zerolinecolor": "white",
           "zerolinewidth": 2
          },
          "yaxis": {
           "automargin": true,
           "gridcolor": "white",
           "linecolor": "white",
           "ticks": "",
           "title": {
            "standoff": 15
           },
           "zerolinecolor": "white",
           "zerolinewidth": 2
          }
         }
        },
        "title": {
         "text": "Ground Arcs for AC Type A310"
        },
        "xaxis": {
         "title": {
          "text": "Time"
         }
        },
        "yaxis": {
         "title": {
          "text": "Airport"
         }
        }
       }
      }
     },
     "metadata": {},
     "output_type": "display_data"
    },
    {
     "data": {
      "application/vnd.plotly.v1+json": {
       "config": {
        "plotlyServerURL": "https://plot.ly"
       },
       "data": [
        {
         "hovertemplate": [
          "<b>Flight no.</b>: S4128<br>",
          "<b>Flight no.</b>: S4121<br>",
          "<b>Flight no.</b>: S422Y<br>",
          "<b>Flight no.</b>: S4121<br>",
          "<b>Flight no.</b>: S4120<br>",
          "<b>Flight no.</b>: S4320<br>",
          "<b>Flight no.</b>: S4160<br>",
          "<b>Flight no.</b>: S422Y<br>",
          "<b>Flight no.</b>: S4125<br>",
          "<b>Flight no.</b>: S4220<br>",
          "<b>Flight no.</b>: S4120<br>",
          "<b>Flight no.</b>: S4320<br>",
          "<b>Flight no.</b>: S4160<br>",
          "<b>Flight no.</b>: S4321<br>",
          "<b>Flight no.</b>: S4220<br>",
          "<b>Flight no.</b>: S4125<br>",
          "<b>Flight no.</b>: S4124<br>",
          "<b>Flight no.</b>: S4321<br>",
          "<b>Flight no.</b>: S4161<br>",
          "<b>Flight no.</b>: S4124<br>",
          "<b>Flight no.</b>: S4129<br>",
          "<b>Flight no.</b>: S4212<br>",
          "<b>Flight no.</b>: S4213<br>",
          "<b>Flight no.</b>: S4161<br>",
          "<b>Flight no.</b>: S4129<br>",
          "<b>Flight no.</b>: S4212<br>",
          "<b>Flight no.</b>: S4213<br>",
          "<b>Flight no.</b>: S4128<br>"
         ],
         "marker": {
          "color": [
           "blue",
           "red",
           "red",
           "blue",
           "red",
           "red",
           "red",
           "blue",
           "red",
           "red",
           "blue",
           "blue",
           "blue",
           "red",
           "blue",
           "blue",
           "red",
           "blue",
           "red",
           "blue",
           "red",
           "red",
           "red",
           "blue",
           "blue",
           "blue",
           "blue",
           "red"
          ]
         },
         "mode": "markers+text",
         "type": "scatter",
         "x": [
          "00:35:00",
          "06:30:00",
          "08:05:00",
          "09:10:00",
          "09:25:00",
          "09:35:00",
          "10:35:00",
          "10:55:00",
          "11:00:00",
          "11:20:00",
          "11:55:00",
          "12:10:00",
          "13:10:00",
          "13:30:00",
          "13:50:00",
          "15:00:00",
          "16:05:00",
          "16:15:00",
          "17:05:00",
          "18:35:00",
          "18:50:00",
          "19:00:00",
          "19:05:00",
          "19:35:00",
          "21:30:00",
          "21:35:00",
          "21:50:00",
          "22:05:00"
         ],
         "y": [
          "LIS",
          "LIS",
          "LIS",
          "PDL",
          "PDL",
          "PDL",
          "PDL",
          "PDL",
          "LIS",
          "PDL",
          "LIS",
          "OPO",
          "FNC",
          "OPO",
          "LIS",
          "PDL",
          "PDL",
          "PDL",
          "FNC",
          "LIS",
          "LIS",
          "PDL",
          "OPO",
          "PDL",
          "PDL",
          "OPO",
          "PDL",
          "PDL"
         ]
        }
       ],
       "layout": {
        "shapes": [
         {
          "line": {
           "color": "#782778",
           "width": 2
          },
          "type": "line",
          "x0": "17:05:00",
          "x1": "13:10:00",
          "y0": "FNC",
          "y1": "FNC"
         },
         {
          "line": {
           "color": "#F36969",
           "width": 2
          },
          "type": "line",
          "x0": "13:10:00",
          "x1": "17:05:00",
          "y0": "FNC",
          "y1": "FNC"
         },
         {
          "line": {
           "color": "#9DDE7D",
           "width": 2
          },
          "type": "line",
          "x0": "18:50:00",
          "x1": "00:35:00",
          "y0": "LIS",
          "y1": "LIS"
         },
         {
          "line": {
           "color": "#EF30D4",
           "width": 2
          },
          "type": "line",
          "x0": "00:35:00",
          "x1": "06:30:00",
          "y0": "LIS",
          "y1": "LIS"
         },
         {
          "line": {
           "color": "#2059B8",
           "width": 2
          },
          "type": "line",
          "x0": "06:30:00",
          "x1": "08:05:00",
          "y0": "LIS",
          "y1": "LIS"
         },
         {
          "line": {
           "color": "#6003AF",
           "width": 2
          },
          "type": "line",
          "x0": "08:05:00",
          "x1": "11:00:00",
          "y0": "LIS",
          "y1": "LIS"
         },
         {
          "line": {
           "color": "#9E4E53",
           "width": 2
          },
          "type": "line",
          "x0": "11:00:00",
          "x1": "11:55:00",
          "y0": "LIS",
          "y1": "LIS"
         },
         {
          "line": {
           "color": "#5F489F",
           "width": 2
          },
          "type": "line",
          "x0": "11:55:00",
          "x1": "13:50:00",
          "y0": "LIS",
          "y1": "LIS"
         },
         {
          "line": {
           "color": "#6F73FB",
           "width": 2
          },
          "type": "line",
          "x0": "13:50:00",
          "x1": "18:35:00",
          "y0": "LIS",
          "y1": "LIS"
         },
         {
          "line": {
           "color": "#041671",
           "width": 2
          },
          "type": "line",
          "x0": "18:35:00",
          "x1": "18:50:00",
          "y0": "LIS",
          "y1": "LIS"
         },
         {
          "line": {
           "color": "#DD277F",
           "width": 2
          },
          "type": "line",
          "x0": "21:35:00",
          "x1": "12:10:00",
          "y0": "OPO",
          "y1": "OPO"
         },
         {
          "line": {
           "color": "#FBE655",
           "width": 2
          },
          "type": "line",
          "x0": "12:10:00",
          "x1": "13:30:00",
          "y0": "OPO",
          "y1": "OPO"
         },
         {
          "line": {
           "color": "#8AB2AF",
           "width": 2
          },
          "type": "line",
          "x0": "13:30:00",
          "x1": "19:05:00",
          "y0": "OPO",
          "y1": "OPO"
         },
         {
          "line": {
           "color": "#5F2C62",
           "width": 2
          },
          "type": "line",
          "x0": "19:05:00",
          "x1": "21:35:00",
          "y0": "OPO",
          "y1": "OPO"
         },
         {
          "line": {
           "color": "#DF6E1A",
           "width": 2
          },
          "type": "line",
          "x0": "22:05:00",
          "x1": "09:10:00",
          "y0": "PDL",
          "y1": "PDL"
         },
         {
          "line": {
           "color": "#B2390F",
           "width": 2
          },
          "type": "line",
          "x0": "09:10:00",
          "x1": "09:25:00",
          "y0": "PDL",
          "y1": "PDL"
         },
         {
          "line": {
           "color": "#EAD246",
           "width": 2
          },
          "type": "line",
          "x0": "19:00:00",
          "x1": "19:35:00",
          "y0": "PDL",
          "y1": "PDL"
         },
         {
          "line": {
           "color": "#CF1DC4",
           "width": 2
          },
          "type": "line",
          "x0": "19:35:00",
          "x1": "21:30:00",
          "y0": "PDL",
          "y1": "PDL"
         },
         {
          "line": {
           "color": "#DB5829",
           "width": 2
          },
          "type": "line",
          "x0": "21:30:00",
          "x1": "21:50:00",
          "y0": "PDL",
          "y1": "PDL"
         },
         {
          "line": {
           "color": "#F1EC37",
           "width": 2
          },
          "type": "line",
          "x0": "21:50:00",
          "x1": "22:05:00",
          "y0": "PDL",
          "y1": "PDL"
         },
         {
          "line": {
           "color": "#F6C6B9",
           "width": 2
          },
          "type": "line",
          "x0": "09:25:00",
          "x1": "09:35:00",
          "y0": "PDL",
          "y1": "PDL"
         },
         {
          "line": {
           "color": "#6DA2D2",
           "width": 2
          },
          "type": "line",
          "x0": "09:35:00",
          "x1": "10:35:00",
          "y0": "PDL",
          "y1": "PDL"
         },
         {
          "line": {
           "color": "#4985D1",
           "width": 2
          },
          "type": "line",
          "x0": "10:35:00",
          "x1": "10:55:00",
          "y0": "PDL",
          "y1": "PDL"
         },
         {
          "line": {
           "color": "#553C45",
           "width": 2
          },
          "type": "line",
          "x0": "10:55:00",
          "x1": "11:20:00",
          "y0": "PDL",
          "y1": "PDL"
         },
         {
          "line": {
           "color": "#806224",
           "width": 2
          },
          "type": "line",
          "x0": "11:20:00",
          "x1": "15:00:00",
          "y0": "PDL",
          "y1": "PDL"
         },
         {
          "line": {
           "color": "#72DD72",
           "width": 2
          },
          "type": "line",
          "x0": "15:00:00",
          "x1": "16:05:00",
          "y0": "PDL",
          "y1": "PDL"
         },
         {
          "line": {
           "color": "#55E523",
           "width": 2
          },
          "type": "line",
          "x0": "16:05:00",
          "x1": "16:15:00",
          "y0": "PDL",
          "y1": "PDL"
         },
         {
          "line": {
           "color": "#426951",
           "width": 2
          },
          "type": "line",
          "x0": "16:15:00",
          "x1": "19:00:00",
          "y0": "PDL",
          "y1": "PDL"
         }
        ],
        "template": {
         "data": {
          "bar": [
           {
            "error_x": {
             "color": "#2a3f5f"
            },
            "error_y": {
             "color": "#2a3f5f"
            },
            "marker": {
             "line": {
              "color": "#E5ECF6",
              "width": 0.5
             },
             "pattern": {
              "fillmode": "overlay",
              "size": 10,
              "solidity": 0.2
             }
            },
            "type": "bar"
           }
          ],
          "barpolar": [
           {
            "marker": {
             "line": {
              "color": "#E5ECF6",
              "width": 0.5
             },
             "pattern": {
              "fillmode": "overlay",
              "size": 10,
              "solidity": 0.2
             }
            },
            "type": "barpolar"
           }
          ],
          "carpet": [
           {
            "aaxis": {
             "endlinecolor": "#2a3f5f",
             "gridcolor": "white",
             "linecolor": "white",
             "minorgridcolor": "white",
             "startlinecolor": "#2a3f5f"
            },
            "baxis": {
             "endlinecolor": "#2a3f5f",
             "gridcolor": "white",
             "linecolor": "white",
             "minorgridcolor": "white",
             "startlinecolor": "#2a3f5f"
            },
            "type": "carpet"
           }
          ],
          "choropleth": [
           {
            "colorbar": {
             "outlinewidth": 0,
             "ticks": ""
            },
            "type": "choropleth"
           }
          ],
          "contour": [
           {
            "colorbar": {
             "outlinewidth": 0,
             "ticks": ""
            },
            "colorscale": [
             [
              0,
              "#0d0887"
             ],
             [
              0.1111111111111111,
              "#46039f"
             ],
             [
              0.2222222222222222,
              "#7201a8"
             ],
             [
              0.3333333333333333,
              "#9c179e"
             ],
             [
              0.4444444444444444,
              "#bd3786"
             ],
             [
              0.5555555555555556,
              "#d8576b"
             ],
             [
              0.6666666666666666,
              "#ed7953"
             ],
             [
              0.7777777777777778,
              "#fb9f3a"
             ],
             [
              0.8888888888888888,
              "#fdca26"
             ],
             [
              1,
              "#f0f921"
             ]
            ],
            "type": "contour"
           }
          ],
          "contourcarpet": [
           {
            "colorbar": {
             "outlinewidth": 0,
             "ticks": ""
            },
            "type": "contourcarpet"
           }
          ],
          "heatmap": [
           {
            "colorbar": {
             "outlinewidth": 0,
             "ticks": ""
            },
            "colorscale": [
             [
              0,
              "#0d0887"
             ],
             [
              0.1111111111111111,
              "#46039f"
             ],
             [
              0.2222222222222222,
              "#7201a8"
             ],
             [
              0.3333333333333333,
              "#9c179e"
             ],
             [
              0.4444444444444444,
              "#bd3786"
             ],
             [
              0.5555555555555556,
              "#d8576b"
             ],
             [
              0.6666666666666666,
              "#ed7953"
             ],
             [
              0.7777777777777778,
              "#fb9f3a"
             ],
             [
              0.8888888888888888,
              "#fdca26"
             ],
             [
              1,
              "#f0f921"
             ]
            ],
            "type": "heatmap"
           }
          ],
          "heatmapgl": [
           {
            "colorbar": {
             "outlinewidth": 0,
             "ticks": ""
            },
            "colorscale": [
             [
              0,
              "#0d0887"
             ],
             [
              0.1111111111111111,
              "#46039f"
             ],
             [
              0.2222222222222222,
              "#7201a8"
             ],
             [
              0.3333333333333333,
              "#9c179e"
             ],
             [
              0.4444444444444444,
              "#bd3786"
             ],
             [
              0.5555555555555556,
              "#d8576b"
             ],
             [
              0.6666666666666666,
              "#ed7953"
             ],
             [
              0.7777777777777778,
              "#fb9f3a"
             ],
             [
              0.8888888888888888,
              "#fdca26"
             ],
             [
              1,
              "#f0f921"
             ]
            ],
            "type": "heatmapgl"
           }
          ],
          "histogram": [
           {
            "marker": {
             "pattern": {
              "fillmode": "overlay",
              "size": 10,
              "solidity": 0.2
             }
            },
            "type": "histogram"
           }
          ],
          "histogram2d": [
           {
            "colorbar": {
             "outlinewidth": 0,
             "ticks": ""
            },
            "colorscale": [
             [
              0,
              "#0d0887"
             ],
             [
              0.1111111111111111,
              "#46039f"
             ],
             [
              0.2222222222222222,
              "#7201a8"
             ],
             [
              0.3333333333333333,
              "#9c179e"
             ],
             [
              0.4444444444444444,
              "#bd3786"
             ],
             [
              0.5555555555555556,
              "#d8576b"
             ],
             [
              0.6666666666666666,
              "#ed7953"
             ],
             [
              0.7777777777777778,
              "#fb9f3a"
             ],
             [
              0.8888888888888888,
              "#fdca26"
             ],
             [
              1,
              "#f0f921"
             ]
            ],
            "type": "histogram2d"
           }
          ],
          "histogram2dcontour": [
           {
            "colorbar": {
             "outlinewidth": 0,
             "ticks": ""
            },
            "colorscale": [
             [
              0,
              "#0d0887"
             ],
             [
              0.1111111111111111,
              "#46039f"
             ],
             [
              0.2222222222222222,
              "#7201a8"
             ],
             [
              0.3333333333333333,
              "#9c179e"
             ],
             [
              0.4444444444444444,
              "#bd3786"
             ],
             [
              0.5555555555555556,
              "#d8576b"
             ],
             [
              0.6666666666666666,
              "#ed7953"
             ],
             [
              0.7777777777777778,
              "#fb9f3a"
             ],
             [
              0.8888888888888888,
              "#fdca26"
             ],
             [
              1,
              "#f0f921"
             ]
            ],
            "type": "histogram2dcontour"
           }
          ],
          "mesh3d": [
           {
            "colorbar": {
             "outlinewidth": 0,
             "ticks": ""
            },
            "type": "mesh3d"
           }
          ],
          "parcoords": [
           {
            "line": {
             "colorbar": {
              "outlinewidth": 0,
              "ticks": ""
             }
            },
            "type": "parcoords"
           }
          ],
          "pie": [
           {
            "automargin": true,
            "type": "pie"
           }
          ],
          "scatter": [
           {
            "fillpattern": {
             "fillmode": "overlay",
             "size": 10,
             "solidity": 0.2
            },
            "type": "scatter"
           }
          ],
          "scatter3d": [
           {
            "line": {
             "colorbar": {
              "outlinewidth": 0,
              "ticks": ""
             }
            },
            "marker": {
             "colorbar": {
              "outlinewidth": 0,
              "ticks": ""
             }
            },
            "type": "scatter3d"
           }
          ],
          "scattercarpet": [
           {
            "marker": {
             "colorbar": {
              "outlinewidth": 0,
              "ticks": ""
             }
            },
            "type": "scattercarpet"
           }
          ],
          "scattergeo": [
           {
            "marker": {
             "colorbar": {
              "outlinewidth": 0,
              "ticks": ""
             }
            },
            "type": "scattergeo"
           }
          ],
          "scattergl": [
           {
            "marker": {
             "colorbar": {
              "outlinewidth": 0,
              "ticks": ""
             }
            },
            "type": "scattergl"
           }
          ],
          "scattermapbox": [
           {
            "marker": {
             "colorbar": {
              "outlinewidth": 0,
              "ticks": ""
             }
            },
            "type": "scattermapbox"
           }
          ],
          "scatterpolar": [
           {
            "marker": {
             "colorbar": {
              "outlinewidth": 0,
              "ticks": ""
             }
            },
            "type": "scatterpolar"
           }
          ],
          "scatterpolargl": [
           {
            "marker": {
             "colorbar": {
              "outlinewidth": 0,
              "ticks": ""
             }
            },
            "type": "scatterpolargl"
           }
          ],
          "scatterternary": [
           {
            "marker": {
             "colorbar": {
              "outlinewidth": 0,
              "ticks": ""
             }
            },
            "type": "scatterternary"
           }
          ],
          "surface": [
           {
            "colorbar": {
             "outlinewidth": 0,
             "ticks": ""
            },
            "colorscale": [
             [
              0,
              "#0d0887"
             ],
             [
              0.1111111111111111,
              "#46039f"
             ],
             [
              0.2222222222222222,
              "#7201a8"
             ],
             [
              0.3333333333333333,
              "#9c179e"
             ],
             [
              0.4444444444444444,
              "#bd3786"
             ],
             [
              0.5555555555555556,
              "#d8576b"
             ],
             [
              0.6666666666666666,
              "#ed7953"
             ],
             [
              0.7777777777777778,
              "#fb9f3a"
             ],
             [
              0.8888888888888888,
              "#fdca26"
             ],
             [
              1,
              "#f0f921"
             ]
            ],
            "type": "surface"
           }
          ],
          "table": [
           {
            "cells": {
             "fill": {
              "color": "#EBF0F8"
             },
             "line": {
              "color": "white"
             }
            },
            "header": {
             "fill": {
              "color": "#C8D4E3"
             },
             "line": {
              "color": "white"
             }
            },
            "type": "table"
           }
          ]
         },
         "layout": {
          "annotationdefaults": {
           "arrowcolor": "#2a3f5f",
           "arrowhead": 0,
           "arrowwidth": 1
          },
          "autotypenumbers": "strict",
          "coloraxis": {
           "colorbar": {
            "outlinewidth": 0,
            "ticks": ""
           }
          },
          "colorscale": {
           "diverging": [
            [
             0,
             "#8e0152"
            ],
            [
             0.1,
             "#c51b7d"
            ],
            [
             0.2,
             "#de77ae"
            ],
            [
             0.3,
             "#f1b6da"
            ],
            [
             0.4,
             "#fde0ef"
            ],
            [
             0.5,
             "#f7f7f7"
            ],
            [
             0.6,
             "#e6f5d0"
            ],
            [
             0.7,
             "#b8e186"
            ],
            [
             0.8,
             "#7fbc41"
            ],
            [
             0.9,
             "#4d9221"
            ],
            [
             1,
             "#276419"
            ]
           ],
           "sequential": [
            [
             0,
             "#0d0887"
            ],
            [
             0.1111111111111111,
             "#46039f"
            ],
            [
             0.2222222222222222,
             "#7201a8"
            ],
            [
             0.3333333333333333,
             "#9c179e"
            ],
            [
             0.4444444444444444,
             "#bd3786"
            ],
            [
             0.5555555555555556,
             "#d8576b"
            ],
            [
             0.6666666666666666,
             "#ed7953"
            ],
            [
             0.7777777777777778,
             "#fb9f3a"
            ],
            [
             0.8888888888888888,
             "#fdca26"
            ],
            [
             1,
             "#f0f921"
            ]
           ],
           "sequentialminus": [
            [
             0,
             "#0d0887"
            ],
            [
             0.1111111111111111,
             "#46039f"
            ],
            [
             0.2222222222222222,
             "#7201a8"
            ],
            [
             0.3333333333333333,
             "#9c179e"
            ],
            [
             0.4444444444444444,
             "#bd3786"
            ],
            [
             0.5555555555555556,
             "#d8576b"
            ],
            [
             0.6666666666666666,
             "#ed7953"
            ],
            [
             0.7777777777777778,
             "#fb9f3a"
            ],
            [
             0.8888888888888888,
             "#fdca26"
            ],
            [
             1,
             "#f0f921"
            ]
           ]
          },
          "colorway": [
           "#636efa",
           "#EF553B",
           "#00cc96",
           "#ab63fa",
           "#FFA15A",
           "#19d3f3",
           "#FF6692",
           "#B6E880",
           "#FF97FF",
           "#FECB52"
          ],
          "font": {
           "color": "#2a3f5f"
          },
          "geo": {
           "bgcolor": "white",
           "lakecolor": "white",
           "landcolor": "#E5ECF6",
           "showlakes": true,
           "showland": true,
           "subunitcolor": "white"
          },
          "hoverlabel": {
           "align": "left"
          },
          "hovermode": "closest",
          "mapbox": {
           "style": "light"
          },
          "paper_bgcolor": "white",
          "plot_bgcolor": "#E5ECF6",
          "polar": {
           "angularaxis": {
            "gridcolor": "white",
            "linecolor": "white",
            "ticks": ""
           },
           "bgcolor": "#E5ECF6",
           "radialaxis": {
            "gridcolor": "white",
            "linecolor": "white",
            "ticks": ""
           }
          },
          "scene": {
           "xaxis": {
            "backgroundcolor": "#E5ECF6",
            "gridcolor": "white",
            "gridwidth": 2,
            "linecolor": "white",
            "showbackground": true,
            "ticks": "",
            "zerolinecolor": "white"
           },
           "yaxis": {
            "backgroundcolor": "#E5ECF6",
            "gridcolor": "white",
            "gridwidth": 2,
            "linecolor": "white",
            "showbackground": true,
            "ticks": "",
            "zerolinecolor": "white"
           },
           "zaxis": {
            "backgroundcolor": "#E5ECF6",
            "gridcolor": "white",
            "gridwidth": 2,
            "linecolor": "white",
            "showbackground": true,
            "ticks": "",
            "zerolinecolor": "white"
           }
          },
          "shapedefaults": {
           "line": {
            "color": "#2a3f5f"
           }
          },
          "ternary": {
           "aaxis": {
            "gridcolor": "white",
            "linecolor": "white",
            "ticks": ""
           },
           "baxis": {
            "gridcolor": "white",
            "linecolor": "white",
            "ticks": ""
           },
           "bgcolor": "#E5ECF6",
           "caxis": {
            "gridcolor": "white",
            "linecolor": "white",
            "ticks": ""
           }
          },
          "title": {
           "x": 0.05
          },
          "xaxis": {
           "automargin": true,
           "gridcolor": "white",
           "linecolor": "white",
           "ticks": "",
           "title": {
            "standoff": 15
           },
           "zerolinecolor": "white",
           "zerolinewidth": 2
          },
          "yaxis": {
           "automargin": true,
           "gridcolor": "white",
           "linecolor": "white",
           "ticks": "",
           "title": {
            "standoff": 15
           },
           "zerolinecolor": "white",
           "zerolinewidth": 2
          }
         }
        },
        "title": {
         "text": "Ground Arcs for AC Type A320"
        },
        "xaxis": {
         "title": {
          "text": "Time"
         }
        },
        "yaxis": {
         "title": {
          "text": "Airport"
         }
        }
       }
      }
     },
     "metadata": {},
     "output_type": "display_data"
    }
   ],
   "source": [
    "import random\n",
    "import plotly.graph_objects as go\n",
    "\n",
    "for k in ac_list:\n",
    "    df = events[events['AC Type'] == k].sort_values(by=['Time'])\n",
    "    fig = go.Figure()\n",
    "    \n",
    "    # Set marker color based on 'D_A' column\n",
    "    marker_color = ['red' if d_a == 'Departure' else 'blue' for d_a in df['D_A']]\n",
    "    \n",
    "    # Add ground arcs\n",
    "    ground_arcs_k = ground_arcs[ground_arcs['AC Type'] == k]\n",
    "    for i, row in ground_arcs_k.iterrows():\n",
    "        # Generate a random color\n",
    "        random_color = '#' + ''.join(random.choices('0123456789ABCDEF', k=6))\n",
    "        fig.add_shape(\n",
    "            type=\"line\",\n",
    "            x0=row['Start Time'],\n",
    "            y0=row['Airport'],\n",
    "            x1=row['End Time'],\n",
    "            y1=row['Airport'],\n",
    "            line=dict(color=random_color, width=2)\n",
    "        )\n",
    "    \n",
    "    fig.add_trace(go.Scatter(\n",
    "        x=df['Time'], \n",
    "        y=df['Airport'], \n",
    "        mode='markers+text',\n",
    "        marker=dict(color=marker_color),\n",
    "        hovertemplate= '<b>Flight no.</b>: ' + df['Flight N'] + '<br>' ))\n",
    "    \n",
    "    \n",
    "    fig.update_layout(\n",
    "        title=\"Ground Arcs for AC Type \" + k,\n",
    "        xaxis_title=\"Time\",\n",
    "        yaxis_title=\"Airport\",\n",
    "    )\n",
    "    fig.show()\n"
   ]
  },
  {
   "cell_type": "code",
   "execution_count": 16,
   "metadata": {},
   "outputs": [
    {
     "name": "stdout",
     "output_type": "stream",
     "text": [
      "Set parameter Username\n",
      "Academic license - for non-commercial use only - expires 2024-11-19\n"
     ]
    }
   ],
   "source": [
    "# Define the model\n",
    "m = gp.Model('FAM')\n",
    "\n",
    "# Define the decision variables\n",
    "# f[i,k] 1 if flight arc i is assigned to aircraft type k, 0 otherwise\n",
    "f = {}\n",
    "\n",
    "for i in flights:\n",
    "    for k in flights[i]:\n",
    "        f[i, k] = m.addVar(vtype=GRB.BINARY, name='f_' + str(i) + '_' + str(k))\n",
    "\n",
    "# y_ak = number of aircraft of type k on the ground arc a (integer with lowerbound 0)\n",
    "y = {}\n",
    "for k in ac_list:\n",
    "    for a in list(ground_arcs[(ground_arcs['AC Type'] == k)]['Arc ID']):\n",
    "        y[a, k] = m.addVar(vtype=GRB.INTEGER, name='y_' + str(a) + '_' + str(k))\n",
    "\n",
    "m.update()\n",
    "\n",
    "# Define the objective function\n",
    "m.setObjective(gp.quicksum(aircraft[k]['CASK']/100 *        # Cost per Available Seat Kilometer\n",
    "                           aircraft[k]['Seats'] *       # Number of seats\n",
    "                           flights[i][k]['Distance'] *     # Distance\n",
    "                           f[i,k]                       # Binary variable\n",
    "                           for i in flights for k in flights[i]), GRB.MINIMIZE)\n",
    "\n",
    "\n",
    "# Define the constraints\n",
    "# Constraint 1: Each flight is assigned to exactly one aircraft type\n",
    "for i in flights:\n",
    "    m.addConstr((gp.quicksum(f[i,k] for k in flights[i]) == 1), name='one_ac')\n",
    "\n",
    "# Constraint 2: The number of AC arriving = AC departing, for each type at each node\n",
    "# y_n+_k + sum(f_i,k) = y_n-_k + sum(f_i,k)\n",
    "for k in ac_list:\n",
    "    for n in airports:\n",
    "        for i in nodes[k][n]:\n",
    "            m.addConstr((y[nodes[k][n][i]['n+'][0], k] + gp.quicksum(f[w,k] for w in nodes[k][n][i]['Departures']) == \n",
    "                         y[nodes[k][n][i]['n-'][0], k] + gp.quicksum(f[w,k] for w in nodes[k][n][i]['Arrivals']) ),\n",
    "                         name='balance_' + str(i) + '_' + str(k) + '_' + str(n))\n",
    "\n",
    "# Constraint 3: The number of overnight arcs + the number of overnight flights = the number of aircraft of each type \n",
    "# using overnight_arcs and overnight_flights\n",
    "# sum(y_a,k) + sum(f_i,k) = number of aircraft of type k\n",
    "for k in ac_list:\n",
    "    m.addConstr((gp.quicksum(y[a, k] for a in list(overnight_arcs[(overnight_arcs['AC Type'] == k)]['Arc ID'])) #+ \n",
    "                 #gp.quicksum(f[i,k] for i in list(overnight_flights[(overnight_flights['AC Type'] == k)]['Flight no.'])) \n",
    "                 == aircraft[k]['Fleet']), name='overnight_' + str(k))\n",
    "\n",
    "m.update()"
   ]
  },
  {
   "cell_type": "code",
   "execution_count": 17,
   "metadata": {},
   "outputs": [
    {
     "name": "stdout",
     "output_type": "stream",
     "text": [
      "Optimal solution: 437.7\n"
     ]
    }
   ],
   "source": [
    "# Optimize the model but dont print the output\n",
    "m.Params.OutputFlag = 0\n",
    "m.optimize()\n",
    "print('Optimal solution: %0.1f' % (m.objVal / 1000))"
   ]
  },
  {
   "cell_type": "code",
   "execution_count": 18,
   "metadata": {},
   "outputs": [
    {
     "name": "stdout",
     "output_type": "stream",
     "text": [
      "31 | A310 | YTO | 02:45:00 | y_31_A310 (n+) + f_S4223_A310 (f+) = y_32_A310 (n-)\n",
      "32 | A310 | YTO | 00:25:00 | y_32_A310 (n+) = y_31_A310 (n-) + f_S4222_A310 (f-)\n",
      "2 | A310 | FNC | 17:05:00 | y_2_A310 (n+) + f_S4161_A310 (f+) = y_3_A310 (n-)\n",
      "3 | A310 | FNC | 13:25:00 | y_3_A310 (n+) = y_2_A310 (n-) + f_S4160_A310 (f-)\n",
      "11 | A310 | OPO | 21:50:00 | y_11_A310 (n+) = y_14_A310 (n-) + f_S4212_A310 (f-)\n",
      "12 | A310 | OPO | 12:25:00 | y_12_A310 (n+) = y_11_A310 (n-) + f_S4320_A310 (f-)\n",
      "13 | A310 | OPO | 13:30:00 | y_13_A310 (n+) + f_S4321_A310 (f+) = y_12_A310 (n-)\n",
      "14 | A310 | OPO | 19:05:00 | y_14_A310 (n+) + f_S4213_A310 (f+) = y_13_A310 (n-)\n",
      "0 | A310 | BOS | 22:25:00 | y_0_A310 (n+) = y_1_A310 (n-) + f_S4221_A310 (f-)\n",
      "1 | A310 | BOS | 03:15:00 | y_1_A310 (n+) + f_S422X_A310 (f+) = y_0_A310 (n-)\n",
      "15 | A310 | PDL | 22:05:00 | y_15_A310 (n+) + f_S4128_A310 (f+) = y_30_A310 (n-) + f_S4213_A310 (f-)\n",
      "16 | A310 | PDL | 08:40:00 | y_16_A310 (n+) = y_15_A310 (n-) + f_S422X_A310 (f-)\n",
      "17 | A310 | PDL | 09:00:00 | y_17_A310 (n+) = y_16_A310 (n-) + f_S4223_A310 (f-)\n",
      "18 | A310 | PDL | 09:25:00 | y_18_A310 (n+) + f_S4120_A310 (f+) = y_17_A310 (n-) + f_S4121_A310 (f-)\n",
      "19 | A310 | PDL | 09:35:00 | y_19_A310 (n+) + f_S4320_A310 (f+) = y_18_A310 (n-)\n",
      "20 | A310 | PDL | 10:35:00 | y_20_A310 (n+) + f_S4160_A310 (f+) = y_19_A310 (n-)\n",
      "21 | A310 | PDL | 11:10:00 | y_21_A310 (n+) = y_20_A310 (n-) + f_S422Y_A310 (f-)\n",
      "22 | A310 | PDL | 11:20:00 | y_22_A310 (n+) + f_S4220_A310 (f+) = y_21_A310 (n-)\n",
      "23 | A310 | PDL | 15:15:00 | y_23_A310 (n+) = y_22_A310 (n-) + f_S4125_A310 (f-)\n",
      "24 | A310 | PDL | 16:00:00 | y_24_A310 (n+) + f_S4221_A310 (f+) = y_23_A310 (n-)\n",
      "25 | A310 | PDL | 16:05:00 | y_25_A310 (n+) + f_S4124_A310 (f+) = y_24_A310 (n-)\n",
      "26 | A310 | PDL | 16:30:00 | y_26_A310 (n+) = y_25_A310 (n-) + f_S4321_A310 (f-)\n",
      "27 | A310 | PDL | 17:10:00 | y_27_A310 (n+) + f_S4222_A310 (f+) = y_26_A310 (n-)\n",
      "28 | A310 | PDL | 19:00:00 | y_28_A310 (n+) + f_S4212_A310 (f+) = y_27_A310 (n-)\n",
      "29 | A310 | PDL | 19:50:00 | y_29_A310 (n+) = y_28_A310 (n-) + f_S4161_A310 (f-)\n",
      "30 | A310 | PDL | 21:45:00 | y_30_A310 (n+) = y_29_A310 (n-) + f_S4129_A310 (f-)\n",
      "4 | A310 | LIS | 18:50:00 | y_4_A310 (n+) + f_S4129_A310 (f+) = y_10_A310 (n-) + f_S4124_A310 (f-)\n",
      "5 | A310 | LIS | 00:50:00 | y_5_A310 (n+) = y_4_A310 (n-) + f_S4128_A310 (f-)\n",
      "6 | A310 | LIS | 06:30:00 | y_6_A310 (n+) + f_S4121_A310 (f+) = y_5_A310 (n-)\n",
      "7 | A310 | LIS | 08:05:00 | y_7_A310 (n+) + f_S422Y_A310 (f+) = y_6_A310 (n-)\n",
      "8 | A310 | LIS | 11:00:00 | y_8_A310 (n+) + f_S4125_A310 (f+) = y_7_A310 (n-)\n",
      "9 | A310 | LIS | 12:10:00 | y_9_A310 (n+) = y_8_A310 (n-) + f_S4120_A310 (f-)\n",
      "10 | A310 | LIS | 14:05:00 | y_10_A310 (n+) = y_9_A310 (n-) + f_S4220_A310 (f-)\n",
      "0 | A320 | FNC | 17:05:00 | y_0_A320 (n+) + f_S4161_A320 (f+) = y_1_A320 (n-)\n",
      "1 | A320 | FNC | 13:10:00 | y_1_A320 (n+) = y_0_A320 (n-) + f_S4160_A320 (f-)\n",
      "10 | A320 | OPO | 21:35:00 | y_10_A320 (n+) = y_13_A320 (n-) + f_S4212_A320 (f-)\n",
      "11 | A320 | OPO | 12:10:00 | y_11_A320 (n+) = y_10_A320 (n-) + f_S4320_A320 (f-)\n",
      "12 | A320 | OPO | 13:30:00 | y_12_A320 (n+) + f_S4321_A320 (f+) = y_11_A320 (n-)\n",
      "13 | A320 | OPO | 19:05:00 | y_13_A320 (n+) + f_S4213_A320 (f+) = y_12_A320 (n-)\n",
      "14 | A320 | PDL | 22:05:00 | y_14_A320 (n+) + f_S4128_A320 (f+) = y_27_A320 (n-)\n",
      "15 | A320 | PDL | 09:10:00 | y_15_A320 (n+) = y_14_A320 (n-) + f_S4121_A320 (f-)\n",
      "16 | A320 | PDL | 09:25:00 | y_16_A320 (n+) + f_S4120_A320 (f+) = y_15_A320 (n-)\n",
      "17 | A320 | PDL | 09:35:00 | y_17_A320 (n+) + f_S4320_A320 (f+) = y_16_A320 (n-)\n",
      "18 | A320 | PDL | 10:35:00 | y_18_A320 (n+) + f_S4160_A320 (f+) = y_17_A320 (n-)\n",
      "19 | A320 | PDL | 10:55:00 | y_19_A320 (n+) = y_18_A320 (n-) + f_S422Y_A320 (f-)\n",
      "20 | A320 | PDL | 11:20:00 | y_20_A320 (n+) + f_S4220_A320 (f+) = y_19_A320 (n-)\n",
      "21 | A320 | PDL | 15:00:00 | y_21_A320 (n+) = y_20_A320 (n-) + f_S4125_A320 (f-)\n",
      "22 | A320 | PDL | 16:05:00 | y_22_A320 (n+) + f_S4124_A320 (f+) = y_21_A320 (n-)\n",
      "23 | A320 | PDL | 16:15:00 | y_23_A320 (n+) = y_22_A320 (n-) + f_S4321_A320 (f-)\n",
      "24 | A320 | PDL | 19:00:00 | y_24_A320 (n+) + f_S4212_A320 (f+) = y_23_A320 (n-)\n",
      "25 | A320 | PDL | 19:35:00 | y_25_A320 (n+) = y_24_A320 (n-) + f_S4161_A320 (f-)\n",
      "26 | A320 | PDL | 21:30:00 | y_26_A320 (n+) = y_25_A320 (n-) + f_S4129_A320 (f-)\n",
      "27 | A320 | PDL | 21:50:00 | y_27_A320 (n+) = y_26_A320 (n-) + f_S4213_A320 (f-)\n",
      "2 | A320 | LIS | 18:50:00 | y_2_A320 (n+) + f_S4129_A320 (f+) = y_9_A320 (n-)\n",
      "3 | A320 | LIS | 00:35:00 | y_3_A320 (n+) = y_2_A320 (n-) + f_S4128_A320 (f-)\n",
      "4 | A320 | LIS | 06:30:00 | y_4_A320 (n+) + f_S4121_A320 (f+) = y_3_A320 (n-)\n",
      "5 | A320 | LIS | 08:05:00 | y_5_A320 (n+) + f_S422Y_A320 (f+) = y_4_A320 (n-)\n",
      "6 | A320 | LIS | 11:00:00 | y_6_A320 (n+) + f_S4125_A320 (f+) = y_5_A320 (n-)\n",
      "7 | A320 | LIS | 11:55:00 | y_7_A320 (n+) = y_6_A320 (n-) + f_S4120_A320 (f-)\n",
      "8 | A320 | LIS | 13:50:00 | y_8_A320 (n+) = y_7_A320 (n-) + f_S4220_A320 (f-)\n",
      "9 | A320 | LIS | 18:35:00 | y_9_A320 (n+) = y_8_A320 (n-) + f_S4124_A320 (f-)\n"
     ]
    }
   ],
   "source": [
    "for k in ac_list:\n",
    "    for n in airports:\n",
    "        for i in nodes[k][n]:\n",
    "            # val = 0\n",
    "            s = str(i) + \" | \" + str(k) + \" | \"  + str(n)+ \" | \" +str(nodes[k][n][i]['Time']) + \" | \" \n",
    "            s += str(y[nodes[k][n][i]['n+'][0], k].varName) + ' (n+)'\n",
    "            # val += y[nodes[k][n][i]['n+'][0], k].varName\n",
    "            for w in nodes[k][n][i]['Departures']:\n",
    "                s += ' + ' + str(f[w, k].varName) + ' (f+)'\n",
    "                # val += f[w, k].varName\n",
    "            s += ' = ' + str(y[nodes[k][n][i]['n-'][0], k].varName)  + ' (n-)'\n",
    "            # val -= y[nodes[k][n][i]['n-'][0], k].varName\n",
    "            for w in nodes[k][n][i]['Arrivals']:\n",
    "                s += ' + ' + str(f[w, k].varName) + ' (f-)'\n",
    "                # val -= f[w, k].varName\n",
    "            # s += ' = ' + str(val)\n",
    "            print(s)"
   ]
  },
  {
   "cell_type": "code",
   "execution_count": 19,
   "metadata": {},
   "outputs": [
    {
     "name": "stdout",
     "output_type": "stream",
     "text": [
      "31 | A310 | YTO | 02:45:00 | -0.0 (n+) + 1.0 (f+) = 1.0 (n-) = 0.0\n",
      "32 | A310 | YTO | 00:25:00 | 1.0 (n+) = -0.0 (n-) + 1.0 (f-) = 0.0\n",
      "2 | A310 | FNC | 17:05:00 | -0.0 (n+) + 1.0 (f+) = 1.0 (n-) = 0.0\n",
      "3 | A310 | FNC | 13:25:00 | 1.0 (n+) = -0.0 (n-) + 1.0 (f-) = 0.0\n",
      "11 | A310 | OPO | 21:50:00 | 0.0 (n+) = 0.0 (n-) + -0.0 (f-) = 0.0\n",
      "12 | A310 | OPO | 12:25:00 | 0.0 (n+) = 0.0 (n-) + -0.0 (f-) = 0.0\n",
      "13 | A310 | OPO | 13:30:00 | 0.0 (n+) + -0.0 (f+) = 0.0 (n-) = 0.0\n",
      "14 | A310 | OPO | 19:05:00 | 0.0 (n+) + -0.0 (f+) = 0.0 (n-) = 0.0\n",
      "0 | A310 | BOS | 22:25:00 | 3.0 (n+) = 2.0 (n-) + 1.0 (f-) = 0.0\n",
      "1 | A310 | BOS | 03:15:00 | 2.0 (n+) + 1.0 (f+) = 3.0 (n-) = 0.0\n",
      "15 | A310 | PDL | 22:05:00 | 1.0 (n+) + -0.0 (f+) = 1.0 (n-) + -0.0 (f-) = 0.0\n",
      "16 | A310 | PDL | 08:40:00 | 2.0 (n+) = 1.0 (n-) + 1.0 (f-) = 0.0\n",
      "17 | A310 | PDL | 09:00:00 | 3.0 (n+) = 2.0 (n-) + 1.0 (f-) = 0.0\n",
      "18 | A310 | PDL | 09:25:00 | 3.0 (n+) + -0.0 (f+) = 3.0 (n-) + -0.0 (f-) = 0.0\n",
      "19 | A310 | PDL | 09:35:00 | 3.0 (n+) + -0.0 (f+) = 3.0 (n-) = 0.0\n",
      "20 | A310 | PDL | 10:35:00 | 2.0 (n+) + 1.0 (f+) = 3.0 (n-) = 0.0\n",
      "21 | A310 | PDL | 11:10:00 | 2.0 (n+) = 2.0 (n-) + -0.0 (f-) = 0.0\n",
      "22 | A310 | PDL | 11:20:00 | 2.0 (n+) + -0.0 (f+) = 2.0 (n-) = 0.0\n",
      "23 | A310 | PDL | 15:15:00 | 2.0 (n+) = 2.0 (n-) + -0.0 (f-) = 0.0\n",
      "24 | A310 | PDL | 16:00:00 | 1.0 (n+) + 1.0 (f+) = 2.0 (n-) = 0.0\n",
      "25 | A310 | PDL | 16:05:00 | 1.0 (n+) + -0.0 (f+) = 1.0 (n-) = 0.0\n",
      "26 | A310 | PDL | 16:30:00 | 1.0 (n+) = 1.0 (n-) + -0.0 (f-) = 0.0\n",
      "27 | A310 | PDL | 17:10:00 | 0.0 (n+) + 1.0 (f+) = 1.0 (n-) = 0.0\n",
      "28 | A310 | PDL | 19:00:00 | -0.0 (n+) + -0.0 (f+) = 0.0 (n-) = 0.0\n",
      "29 | A310 | PDL | 19:50:00 | 1.0 (n+) = -0.0 (n-) + 1.0 (f-) = 0.0\n",
      "30 | A310 | PDL | 21:45:00 | 1.0 (n+) = 1.0 (n-) + -0.0 (f-) = 0.0\n",
      "4 | A310 | LIS | 18:50:00 | -0.0 (n+) + -0.0 (f+) = 0.0 (n-) + -0.0 (f-) = 0.0\n",
      "5 | A310 | LIS | 00:50:00 | 0.0 (n+) = -0.0 (n-) + -0.0 (f-) = 0.0\n",
      "6 | A310 | LIS | 06:30:00 | -0.0 (n+) + -0.0 (f+) = 0.0 (n-) = 0.0\n",
      "7 | A310 | LIS | 08:05:00 | 0.0 (n+) + -0.0 (f+) = -0.0 (n-) = 0.0\n",
      "8 | A310 | LIS | 11:00:00 | -0.0 (n+) + -0.0 (f+) = 0.0 (n-) = 0.0\n",
      "9 | A310 | LIS | 12:10:00 | 0.0 (n+) = -0.0 (n-) + -0.0 (f-) = 0.0\n",
      "10 | A310 | LIS | 14:05:00 | 0.0 (n+) = 0.0 (n-) + -0.0 (f-) = 0.0\n",
      "0 | A320 | FNC | 17:05:00 | 0.0 (n+) + 0.0 (f+) = 0.0 (n-) = 0.0\n",
      "1 | A320 | FNC | 13:10:00 | 0.0 (n+) = 0.0 (n-) + 0.0 (f-) = 0.0\n",
      "10 | A320 | OPO | 21:35:00 | 1.0 (n+) = -0.0 (n-) + 1.0 (f-) = 0.0\n",
      "11 | A320 | OPO | 12:10:00 | 2.0 (n+) = 1.0 (n-) + 1.0 (f-) = 0.0\n",
      "12 | A320 | OPO | 13:30:00 | 1.0 (n+) + 1.0 (f+) = 2.0 (n-) = 0.0\n",
      "13 | A320 | OPO | 19:05:00 | -0.0 (n+) + 1.0 (f+) = 1.0 (n-) = 0.0\n",
      "14 | A320 | PDL | 22:05:00 | 1.0 (n+) + 1.0 (f+) = 2.0 (n-) = 0.0\n",
      "15 | A320 | PDL | 09:10:00 | 2.0 (n+) = 1.0 (n-) + 1.0 (f-) = 0.0\n",
      "16 | A320 | PDL | 09:25:00 | 1.0 (n+) + 1.0 (f+) = 2.0 (n-) = 0.0\n",
      "17 | A320 | PDL | 09:35:00 | 0.0 (n+) + 1.0 (f+) = 1.0 (n-) = 0.0\n",
      "18 | A320 | PDL | 10:35:00 | -0.0 (n+) + 0.0 (f+) = 0.0 (n-) = 0.0\n",
      "19 | A320 | PDL | 10:55:00 | 1.0 (n+) = -0.0 (n-) + 1.0 (f-) = 0.0\n",
      "20 | A320 | PDL | 11:20:00 | -0.0 (n+) + 1.0 (f+) = 1.0 (n-) = 0.0\n",
      "21 | A320 | PDL | 15:00:00 | 1.0 (n+) = -0.0 (n-) + 1.0 (f-) = 0.0\n",
      "22 | A320 | PDL | 16:05:00 | -0.0 (n+) + 1.0 (f+) = 1.0 (n-) = 0.0\n",
      "23 | A320 | PDL | 16:15:00 | 1.0 (n+) = -0.0 (n-) + 1.0 (f-) = 0.0\n",
      "24 | A320 | PDL | 19:00:00 | -0.0 (n+) + 1.0 (f+) = 1.0 (n-) = 0.0\n",
      "25 | A320 | PDL | 19:35:00 | 0.0 (n+) = -0.0 (n-) + 0.0 (f-) = 0.0\n",
      "26 | A320 | PDL | 21:30:00 | 1.0 (n+) = 0.0 (n-) + 1.0 (f-) = 0.0\n",
      "27 | A320 | PDL | 21:50:00 | 2.0 (n+) = 1.0 (n-) + 1.0 (f-) = 0.0\n",
      "2 | A320 | LIS | 18:50:00 | 2.0 (n+) + 1.0 (f+) = 3.0 (n-) = 0.0\n",
      "3 | A320 | LIS | 00:35:00 | 3.0 (n+) = 2.0 (n-) + 1.0 (f-) = 0.0\n",
      "4 | A320 | LIS | 06:30:00 | 2.0 (n+) + 1.0 (f+) = 3.0 (n-) = 0.0\n",
      "5 | A320 | LIS | 08:05:00 | 1.0 (n+) + 1.0 (f+) = 2.0 (n-) = 0.0\n",
      "6 | A320 | LIS | 11:00:00 | -0.0 (n+) + 1.0 (f+) = 1.0 (n-) = 0.0\n",
      "7 | A320 | LIS | 11:55:00 | 1.0 (n+) = -0.0 (n-) + 1.0 (f-) = 0.0\n",
      "8 | A320 | LIS | 13:50:00 | 2.0 (n+) = 1.0 (n-) + 1.0 (f-) = 0.0\n",
      "9 | A320 | LIS | 18:35:00 | 3.0 (n+) = 2.0 (n-) + 1.0 (f-) = 0.0\n"
     ]
    }
   ],
   "source": [
    "for k in ac_list:\n",
    "    for n in airports:\n",
    "        for i in nodes[k][n]:\n",
    "            val = 0\n",
    "            s = str(i) + \" | \" + str(k) + \" | \"  + str(n)+ \" | \" +str(nodes[k][n][i]['Time']) + \" | \" \n",
    "            s += str(y[nodes[k][n][i]['n+'][0], k].x) + ' (n+)'\n",
    "            val += y[nodes[k][n][i]['n+'][0], k].x\n",
    "            for w in nodes[k][n][i]['Departures']:\n",
    "                s += ' + ' + str(f[w, k].x) + ' (f+)'\n",
    "                val += f[w, k].x\n",
    "            s += ' = ' + str(y[nodes[k][n][i]['n-'][0], k].x)  + ' (n-)'\n",
    "            val -= y[nodes[k][n][i]['n-'][0], k].x\n",
    "            for w in nodes[k][n][i]['Arrivals']:\n",
    "                s += ' + ' + str(f[w, k].x) + ' (f-)'\n",
    "                val -= f[w, k].x\n",
    "            s += ' = ' + str(val)\n",
    "            print(s)"
   ]
  },
  {
   "cell_type": "code",
   "execution_count": 20,
   "metadata": {},
   "outputs": [
    {
     "name": "stdout",
     "output_type": "stream",
     "text": [
      "Flights assigned to aircraft type: A320\n",
      "S4120 A320 Cost 1.10\n",
      "S4220 A320 Cost 1.10\n",
      "S4124 A320 Cost 1.10\n",
      "S4128 A320 Cost 1.10\n",
      "S4320 A320 Cost 1.16\n",
      "S4212 A320 Cost 1.16\n",
      "S4121 A320 Cost 1.10\n",
      "S422Y A320 Cost 1.10\n",
      "S4125 A320 Cost 1.10\n",
      "S4129 A320 Cost 1.10\n",
      "S4321 A320 Cost 1.16\n",
      "S4213 A320 Cost 1.16\n",
      "\n",
      "\n",
      "Flights assigned to aircraft type: A310\n",
      "S4160 A310 Cost 1.57\n",
      "S4222 A310 Cost 7.32\n",
      "S4221 A310 Cost 6.26\n",
      "S4161 A310 Cost 1.57\n",
      "S4223 A310 Cost 7.32\n",
      "S422X A310 Cost 6.26\n"
     ]
    }
   ],
   "source": [
    "print('Flights assigned to aircraft type: A320')\n",
    "for i in flights:\n",
    "    for k in flights[i]:\n",
    "        if f[i,k].x > 0 and k == 'A320':\n",
    "            print(i, k, ('Cost %0.2f' % (aircraft[k]['CASK'] *  aircraft[k]['Seats'] *  flights[i][k]['Distance'] * f[i,k].x / 1000000)))\n",
    "print('\\n')\n",
    "\n",
    "print('Flights assigned to aircraft type: A310')\n",
    "for i in flights:\n",
    "    for k in flights[i]:\n",
    "        if f[i,k].x > 0 and k == 'A310':\n",
    "            print(i, k, ('Cost %0.2f' % (aircraft[k]['CASK'] *  aircraft[k]['Seats'] *  flights[i][k]['Distance'] * f[i,k].x / 1000000)))            "
   ]
  },
  {
   "cell_type": "code",
   "execution_count": 21,
   "metadata": {},
   "outputs": [
    {
     "name": "stdout",
     "output_type": "stream",
     "text": [
      "y_0_A310 3\n",
      "y_1_A310 2\n",
      "y_3_A310 1\n",
      "y_15_A310 1\n",
      "y_16_A310 2\n",
      "y_17_A310 3\n",
      "y_18_A310 3\n",
      "y_19_A310 3\n",
      "y_20_A310 2\n",
      "y_21_A310 2\n",
      "y_22_A310 2\n",
      "y_23_A310 2\n",
      "y_24_A310 1\n",
      "y_25_A310 1\n",
      "y_26_A310 1\n",
      "y_29_A310 1\n",
      "y_30_A310 1\n",
      "y_32_A310 1\n",
      "y_2_A320 2\n",
      "y_3_A320 3\n",
      "y_4_A320 2\n",
      "y_5_A320 1\n",
      "y_7_A320 1\n",
      "y_8_A320 2\n",
      "y_9_A320 3\n",
      "y_10_A320 1\n",
      "y_11_A320 2\n",
      "y_12_A320 1\n",
      "y_14_A320 1\n",
      "y_15_A320 2\n",
      "y_16_A320 1\n",
      "y_19_A320 1\n",
      "y_21_A320 1\n",
      "y_23_A320 1\n",
      "y_26_A320 1\n",
      "y_27_A320 2\n"
     ]
    }
   ],
   "source": [
    "for v in m.getVars():\n",
    "    for k in ac_list:\n",
    "        if v.x != 0 and v.varName[0] == 'y'and v.varName[-4:] == k:\n",
    "            print('%s %g' % (v.varName, v.x))"
   ]
  },
  {
   "cell_type": "code",
   "execution_count": 22,
   "metadata": {},
   "outputs": [
    {
     "data": {
      "text/html": [
       "<div>\n",
       "<style scoped>\n",
       "    .dataframe tbody tr th:only-of-type {\n",
       "        vertical-align: middle;\n",
       "    }\n",
       "\n",
       "    .dataframe tbody tr th {\n",
       "        vertical-align: top;\n",
       "    }\n",
       "\n",
       "    .dataframe thead th {\n",
       "        text-align: right;\n",
       "    }\n",
       "</style>\n",
       "<table border=\"1\" class=\"dataframe\">\n",
       "  <thead>\n",
       "    <tr style=\"text-align: right;\">\n",
       "      <th></th>\n",
       "      <th>A310</th>\n",
       "      <th>A320</th>\n",
       "    </tr>\n",
       "  </thead>\n",
       "  <tbody>\n",
       "    <tr>\n",
       "      <th>YTO</th>\n",
       "      <td>0.0</td>\n",
       "      <td>0.0</td>\n",
       "    </tr>\n",
       "    <tr>\n",
       "      <th>FNC</th>\n",
       "      <td>0.0</td>\n",
       "      <td>0.0</td>\n",
       "    </tr>\n",
       "    <tr>\n",
       "      <th>OPO</th>\n",
       "      <td>0.0</td>\n",
       "      <td>1.0</td>\n",
       "    </tr>\n",
       "    <tr>\n",
       "      <th>BOS</th>\n",
       "      <td>3.0</td>\n",
       "      <td>0.0</td>\n",
       "    </tr>\n",
       "    <tr>\n",
       "      <th>PDL</th>\n",
       "      <td>1.0</td>\n",
       "      <td>1.0</td>\n",
       "    </tr>\n",
       "    <tr>\n",
       "      <th>LIS</th>\n",
       "      <td>0.0</td>\n",
       "      <td>2.0</td>\n",
       "    </tr>\n",
       "  </tbody>\n",
       "</table>\n",
       "</div>"
      ],
      "text/plain": [
       "     A310  A320\n",
       "YTO   0.0   0.0\n",
       "FNC   0.0   0.0\n",
       "OPO   0.0   1.0\n",
       "BOS   3.0   0.0\n",
       "PDL   1.0   1.0\n",
       "LIS   0.0   2.0"
      ]
     },
     "execution_count": 22,
     "metadata": {},
     "output_type": "execute_result"
    }
   ],
   "source": [
    "# Make a df with AC grounded at overnight on each airport\n",
    "grounded_overnight = pd.DataFrame(columns=ac_list, index=airports)\n",
    "overnight_arcs['count'] = overnight_arcs.apply(lambda row: y[row['Arc ID'], row['AC Type']].x, axis=1)\n",
    "\n",
    "# Reorganize the df, make the columns the unique AC types and the rows the unique airports and the values the count\n",
    "for k in ac_list:\n",
    "    grounded_overnight[k] = overnight_arcs[overnight_arcs['AC Type'] == k].groupby(['Airport']).sum()['count']\n",
    "\n",
    "# Fill the NaN values with 0\n",
    "grounded_overnight.fillna(0, inplace=True)\n",
    "grounded_overnight"
   ]
  },
  {
   "cell_type": "code",
   "execution_count": 23,
   "metadata": {},
   "outputs": [
    {
     "data": {
      "text/plain": [
       "{'A310': {'YTO': {31: {'Time': datetime.time(2, 45),\n",
       "    'Departures': ['S4223'],\n",
       "    'Arrivals': [],\n",
       "    'n+': [31],\n",
       "    'n-': [32]},\n",
       "   32: {'Time': datetime.time(0, 25),\n",
       "    'Departures': [],\n",
       "    'Arrivals': ['S4222'],\n",
       "    'n+': [32],\n",
       "    'n-': [31]}},\n",
       "  'FNC': {2: {'Time': datetime.time(17, 5),\n",
       "    'Departures': ['S4161'],\n",
       "    'Arrivals': [],\n",
       "    'n+': [2],\n",
       "    'n-': [3]},\n",
       "   3: {'Time': datetime.time(13, 25),\n",
       "    'Departures': [],\n",
       "    'Arrivals': ['S4160'],\n",
       "    'n+': [3],\n",
       "    'n-': [2]}},\n",
       "  'OPO': {11: {'Time': datetime.time(21, 50),\n",
       "    'Departures': [],\n",
       "    'Arrivals': ['S4212'],\n",
       "    'n+': [11],\n",
       "    'n-': [14]},\n",
       "   12: {'Time': datetime.time(12, 25),\n",
       "    'Departures': [],\n",
       "    'Arrivals': ['S4320'],\n",
       "    'n+': [12],\n",
       "    'n-': [11]},\n",
       "   13: {'Time': datetime.time(13, 30),\n",
       "    'Departures': ['S4321'],\n",
       "    'Arrivals': [],\n",
       "    'n+': [13],\n",
       "    'n-': [12]},\n",
       "   14: {'Time': datetime.time(19, 5),\n",
       "    'Departures': ['S4213'],\n",
       "    'Arrivals': [],\n",
       "    'n+': [14],\n",
       "    'n-': [13]}},\n",
       "  'BOS': {0: {'Time': datetime.time(22, 25),\n",
       "    'Departures': [],\n",
       "    'Arrivals': ['S4221'],\n",
       "    'n+': [0],\n",
       "    'n-': [1]},\n",
       "   1: {'Time': datetime.time(3, 15),\n",
       "    'Departures': ['S422X'],\n",
       "    'Arrivals': [],\n",
       "    'n+': [1],\n",
       "    'n-': [0]}},\n",
       "  'PDL': {15: {'Time': datetime.time(22, 5),\n",
       "    'Departures': ['S4128'],\n",
       "    'Arrivals': ['S4213'],\n",
       "    'n+': [15],\n",
       "    'n-': [30]},\n",
       "   16: {'Time': datetime.time(8, 40),\n",
       "    'Departures': [],\n",
       "    'Arrivals': ['S422X'],\n",
       "    'n+': [16],\n",
       "    'n-': [15]},\n",
       "   17: {'Time': datetime.time(9, 0),\n",
       "    'Departures': [],\n",
       "    'Arrivals': ['S4223'],\n",
       "    'n+': [17],\n",
       "    'n-': [16]},\n",
       "   18: {'Time': datetime.time(9, 25),\n",
       "    'Departures': ['S4120'],\n",
       "    'Arrivals': ['S4121'],\n",
       "    'n+': [18],\n",
       "    'n-': [17]},\n",
       "   19: {'Time': datetime.time(9, 35),\n",
       "    'Departures': ['S4320'],\n",
       "    'Arrivals': [],\n",
       "    'n+': [19],\n",
       "    'n-': [18]},\n",
       "   20: {'Time': datetime.time(10, 35),\n",
       "    'Departures': ['S4160'],\n",
       "    'Arrivals': [],\n",
       "    'n+': [20],\n",
       "    'n-': [19]},\n",
       "   21: {'Time': datetime.time(11, 10),\n",
       "    'Departures': [],\n",
       "    'Arrivals': ['S422Y'],\n",
       "    'n+': [21],\n",
       "    'n-': [20]},\n",
       "   22: {'Time': datetime.time(11, 20),\n",
       "    'Departures': ['S4220'],\n",
       "    'Arrivals': [],\n",
       "    'n+': [22],\n",
       "    'n-': [21]},\n",
       "   23: {'Time': datetime.time(15, 15),\n",
       "    'Departures': [],\n",
       "    'Arrivals': ['S4125'],\n",
       "    'n+': [23],\n",
       "    'n-': [22]},\n",
       "   24: {'Time': datetime.time(16, 0),\n",
       "    'Departures': ['S4221'],\n",
       "    'Arrivals': [],\n",
       "    'n+': [24],\n",
       "    'n-': [23]},\n",
       "   25: {'Time': datetime.time(16, 5),\n",
       "    'Departures': ['S4124'],\n",
       "    'Arrivals': [],\n",
       "    'n+': [25],\n",
       "    'n-': [24]},\n",
       "   26: {'Time': datetime.time(16, 30),\n",
       "    'Departures': [],\n",
       "    'Arrivals': ['S4321'],\n",
       "    'n+': [26],\n",
       "    'n-': [25]},\n",
       "   27: {'Time': datetime.time(17, 10),\n",
       "    'Departures': ['S4222'],\n",
       "    'Arrivals': [],\n",
       "    'n+': [27],\n",
       "    'n-': [26]},\n",
       "   28: {'Time': datetime.time(19, 0),\n",
       "    'Departures': ['S4212'],\n",
       "    'Arrivals': [],\n",
       "    'n+': [28],\n",
       "    'n-': [27]},\n",
       "   29: {'Time': datetime.time(19, 50),\n",
       "    'Departures': [],\n",
       "    'Arrivals': ['S4161'],\n",
       "    'n+': [29],\n",
       "    'n-': [28]},\n",
       "   30: {'Time': datetime.time(21, 45),\n",
       "    'Departures': [],\n",
       "    'Arrivals': ['S4129'],\n",
       "    'n+': [30],\n",
       "    'n-': [29]}},\n",
       "  'LIS': {4: {'Time': datetime.time(18, 50),\n",
       "    'Departures': ['S4129'],\n",
       "    'Arrivals': ['S4124'],\n",
       "    'n+': [4],\n",
       "    'n-': [10]},\n",
       "   5: {'Time': datetime.time(0, 50),\n",
       "    'Departures': [],\n",
       "    'Arrivals': ['S4128'],\n",
       "    'n+': [5],\n",
       "    'n-': [4]},\n",
       "   6: {'Time': datetime.time(6, 30),\n",
       "    'Departures': ['S4121'],\n",
       "    'Arrivals': [],\n",
       "    'n+': [6],\n",
       "    'n-': [5]},\n",
       "   7: {'Time': datetime.time(8, 5),\n",
       "    'Departures': ['S422Y'],\n",
       "    'Arrivals': [],\n",
       "    'n+': [7],\n",
       "    'n-': [6]},\n",
       "   8: {'Time': datetime.time(11, 0),\n",
       "    'Departures': ['S4125'],\n",
       "    'Arrivals': [],\n",
       "    'n+': [8],\n",
       "    'n-': [7]},\n",
       "   9: {'Time': datetime.time(12, 10),\n",
       "    'Departures': [],\n",
       "    'Arrivals': ['S4120'],\n",
       "    'n+': [9],\n",
       "    'n-': [8]},\n",
       "   10: {'Time': datetime.time(14, 5),\n",
       "    'Departures': [],\n",
       "    'Arrivals': ['S4220'],\n",
       "    'n+': [10],\n",
       "    'n-': [9]}}},\n",
       " 'A320': {'YTO': {},\n",
       "  'FNC': {0: {'Time': datetime.time(17, 5),\n",
       "    'Departures': ['S4161'],\n",
       "    'Arrivals': [],\n",
       "    'n+': [0],\n",
       "    'n-': [1]},\n",
       "   1: {'Time': datetime.time(13, 10),\n",
       "    'Departures': [],\n",
       "    'Arrivals': ['S4160'],\n",
       "    'n+': [1],\n",
       "    'n-': [0]}},\n",
       "  'OPO': {10: {'Time': datetime.time(21, 35),\n",
       "    'Departures': [],\n",
       "    'Arrivals': ['S4212'],\n",
       "    'n+': [10],\n",
       "    'n-': [13]},\n",
       "   11: {'Time': datetime.time(12, 10),\n",
       "    'Departures': [],\n",
       "    'Arrivals': ['S4320'],\n",
       "    'n+': [11],\n",
       "    'n-': [10]},\n",
       "   12: {'Time': datetime.time(13, 30),\n",
       "    'Departures': ['S4321'],\n",
       "    'Arrivals': [],\n",
       "    'n+': [12],\n",
       "    'n-': [11]},\n",
       "   13: {'Time': datetime.time(19, 5),\n",
       "    'Departures': ['S4213'],\n",
       "    'Arrivals': [],\n",
       "    'n+': [13],\n",
       "    'n-': [12]}},\n",
       "  'BOS': {},\n",
       "  'PDL': {14: {'Time': datetime.time(22, 5),\n",
       "    'Departures': ['S4128'],\n",
       "    'Arrivals': [],\n",
       "    'n+': [14],\n",
       "    'n-': [27]},\n",
       "   15: {'Time': datetime.time(9, 10),\n",
       "    'Departures': [],\n",
       "    'Arrivals': ['S4121'],\n",
       "    'n+': [15],\n",
       "    'n-': [14]},\n",
       "   16: {'Time': datetime.time(9, 25),\n",
       "    'Departures': ['S4120'],\n",
       "    'Arrivals': [],\n",
       "    'n+': [16],\n",
       "    'n-': [15]},\n",
       "   17: {'Time': datetime.time(9, 35),\n",
       "    'Departures': ['S4320'],\n",
       "    'Arrivals': [],\n",
       "    'n+': [17],\n",
       "    'n-': [16]},\n",
       "   18: {'Time': datetime.time(10, 35),\n",
       "    'Departures': ['S4160'],\n",
       "    'Arrivals': [],\n",
       "    'n+': [18],\n",
       "    'n-': [17]},\n",
       "   19: {'Time': datetime.time(10, 55),\n",
       "    'Departures': [],\n",
       "    'Arrivals': ['S422Y'],\n",
       "    'n+': [19],\n",
       "    'n-': [18]},\n",
       "   20: {'Time': datetime.time(11, 20),\n",
       "    'Departures': ['S4220'],\n",
       "    'Arrivals': [],\n",
       "    'n+': [20],\n",
       "    'n-': [19]},\n",
       "   21: {'Time': datetime.time(15, 0),\n",
       "    'Departures': [],\n",
       "    'Arrivals': ['S4125'],\n",
       "    'n+': [21],\n",
       "    'n-': [20]},\n",
       "   22: {'Time': datetime.time(16, 5),\n",
       "    'Departures': ['S4124'],\n",
       "    'Arrivals': [],\n",
       "    'n+': [22],\n",
       "    'n-': [21]},\n",
       "   23: {'Time': datetime.time(16, 15),\n",
       "    'Departures': [],\n",
       "    'Arrivals': ['S4321'],\n",
       "    'n+': [23],\n",
       "    'n-': [22]},\n",
       "   24: {'Time': datetime.time(19, 0),\n",
       "    'Departures': ['S4212'],\n",
       "    'Arrivals': [],\n",
       "    'n+': [24],\n",
       "    'n-': [23]},\n",
       "   25: {'Time': datetime.time(19, 35),\n",
       "    'Departures': [],\n",
       "    'Arrivals': ['S4161'],\n",
       "    'n+': [25],\n",
       "    'n-': [24]},\n",
       "   26: {'Time': datetime.time(21, 30),\n",
       "    'Departures': [],\n",
       "    'Arrivals': ['S4129'],\n",
       "    'n+': [26],\n",
       "    'n-': [25]},\n",
       "   27: {'Time': datetime.time(21, 50),\n",
       "    'Departures': [],\n",
       "    'Arrivals': ['S4213'],\n",
       "    'n+': [27],\n",
       "    'n-': [26]}},\n",
       "  'LIS': {2: {'Time': datetime.time(18, 50),\n",
       "    'Departures': ['S4129'],\n",
       "    'Arrivals': [],\n",
       "    'n+': [2],\n",
       "    'n-': [9]},\n",
       "   3: {'Time': datetime.time(0, 35),\n",
       "    'Departures': [],\n",
       "    'Arrivals': ['S4128'],\n",
       "    'n+': [3],\n",
       "    'n-': [2]},\n",
       "   4: {'Time': datetime.time(6, 30),\n",
       "    'Departures': ['S4121'],\n",
       "    'Arrivals': [],\n",
       "    'n+': [4],\n",
       "    'n-': [3]},\n",
       "   5: {'Time': datetime.time(8, 5),\n",
       "    'Departures': ['S422Y'],\n",
       "    'Arrivals': [],\n",
       "    'n+': [5],\n",
       "    'n-': [4]},\n",
       "   6: {'Time': datetime.time(11, 0),\n",
       "    'Departures': ['S4125'],\n",
       "    'Arrivals': [],\n",
       "    'n+': [6],\n",
       "    'n-': [5]},\n",
       "   7: {'Time': datetime.time(11, 55),\n",
       "    'Departures': [],\n",
       "    'Arrivals': ['S4120'],\n",
       "    'n+': [7],\n",
       "    'n-': [6]},\n",
       "   8: {'Time': datetime.time(13, 50),\n",
       "    'Departures': [],\n",
       "    'Arrivals': ['S4220'],\n",
       "    'n+': [8],\n",
       "    'n-': [7]},\n",
       "   9: {'Time': datetime.time(18, 35),\n",
       "    'Departures': [],\n",
       "    'Arrivals': ['S4124'],\n",
       "    'n+': [9],\n",
       "    'n-': [8]}}}}"
      ]
     },
     "execution_count": 23,
     "metadata": {},
     "output_type": "execute_result"
    }
   ],
   "source": [
    "nodes\n"
   ]
  }
 ],
 "metadata": {
  "kernelspec": {
   "display_name": "AE4426",
   "language": "python",
   "name": "python3"
  },
  "language_info": {
   "codemirror_mode": {
    "name": "ipython",
    "version": 3
   },
   "file_extension": ".py",
   "mimetype": "text/x-python",
   "name": "python",
   "nbconvert_exporter": "python",
   "pygments_lexer": "ipython3",
   "version": "3.10.13"
  }
 },
 "nbformat": 4,
 "nbformat_minor": 2
}
