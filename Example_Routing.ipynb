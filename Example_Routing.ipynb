{
 "cells": [
  {
   "cell_type": "code",
   "execution_count": 1,
   "metadata": {},
   "outputs": [],
   "source": [
    "import pandas as pd\n",
    "import numpy as np\n",
    "import matplotlib.pyplot as plt\n",
    "import seaborn as sns\n",
    "from geopy.distance import geodesic\n",
    "from shapely.geometry import Point, LineString\n",
    "import gurobipy as gp\n",
    "from gurobipy import GRB\n",
    "import re \n",
    "from datetime import datetime, timedelta, time, date\n",
    "# Part 3 (routing model)"
   ]
  },
  {
   "cell_type": "code",
   "execution_count": 5,
   "metadata": {},
   "outputs": [],
   "source": [
    "# 1. Data preparation\n",
    "# 1.1 Read data\n",
    "\n",
    "# Read aircraft data\n",
    "aircraft_df = pd.read_excel('Example_Data_Routing.xlsx', sheet_name = 'Aircraft').set_index('Aircraft Type')\n",
    "\n",
    "# Make a dictionary of aircraft \n",
    "aircraft = aircraft_df.to_dict(orient = 'index')\n",
    "\n",
    "# Read demand data\n",
    "demand_df = pd.read_excel('Example_Data_Routing.xlsx', sheet_name = 'Demand').set_index('Origin')\n",
    "\n",
    "# Make a dictionary of demand\n",
    "demand = demand_df.to_dict(orient = 'index')\n",
    "\n",
    "# Read airport hour factors data\n",
    "factors_df = pd.read_excel('Example_Data_Routing.xlsx', sheet_name = 'Factors').set_index('Airport')\n",
    "\n",
    "# Make a dictionary of factors\n",
    "factors = factors_df.to_dict(orient = 'index')"
   ]
  },
  {
   "cell_type": "code",
   "execution_count": null,
   "metadata": {},
   "outputs": [],
   "source": [
    "'''\n",
    "How to compute the optimal solution for any s ?\n",
    "f(sn, xn) = c(sn, xn) + min [c(sn+1, xn+1) + c(sn+2, xn+2) + c(sn+3, xn+3) +...]\n",
    "1. Start with an end node ('J'), for which is c(sJ,xJ) known\n",
    "2. Progress backwards computing minimum costs >>> Map of cost for the full network of states and actions\n",
    "3. Compute the minimum path between the start node and the end node using a greedy policy (optimal policy)\n",
    "\n",
    "For this example, we have EHAM as hub, so it is the end node. The stages are going to be every 6 minutes (10 stages per hour).\n",
    "\n",
    "'''"
   ]
  }
 ],
 "metadata": {
  "kernelspec": {
   "display_name": "AE4426",
   "language": "python",
   "name": "python3"
  },
  "language_info": {
   "codemirror_mode": {
    "name": "ipython",
    "version": 3
   },
   "file_extension": ".py",
   "mimetype": "text/x-python",
   "name": "python",
   "nbconvert_exporter": "python",
   "pygments_lexer": "ipython3",
   "version": "3.10.13"
  }
 },
 "nbformat": 4,
 "nbformat_minor": 2
}
