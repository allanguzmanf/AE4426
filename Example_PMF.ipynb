{
 "cells": [
  {
   "cell_type": "code",
   "execution_count": 107,
   "metadata": {},
   "outputs": [],
   "source": [
    "import gurobipy as gp\n",
    "from gurobipy import GRB\n",
    "import pandas as pd\n",
    "import re \n",
    "\n",
    "# Example 4. PMF (Passenger Mix Flow) model"
   ]
  },
  {
   "cell_type": "code",
   "execution_count": 108,
   "metadata": {},
   "outputs": [],
   "source": [
    "# Define the inputs\n",
    "\n",
    "# L: set of flights\n",
    "flights = pd.read_excel('Example_Data_PMF.xlsx', sheet_name='Flight').set_index('Flight Number')\n",
    "\n",
    "# P: set of passenger itineraries\n",
    "paths = pd.read_excel('Example_Data_PMF.xlsx', sheet_name='Itinerary').set_index('Itin No.')\n",
    "paths['Leg 2'] = paths['Leg 2'].astype('Int64')\n",
    "\n",
    "# P_p: set of passenger itineraries with recapture rate from itinerary p\n",
    "P_p = pd.read_excel('Example_Data_PMF.xlsx', sheet_name='Recapture Rate').set_index(['p','r'])\n",
    "\n",
    "# make a dictionary with the itinerary as the key and the rest as a sub-dictionary\n",
    "paths = paths.to_dict(orient='index')\n",
    "flights = flights.to_dict(orient='index')\n",
    "P_p = P_p.to_dict(orient='index')\n",
    "\n",
    "path_list = list(paths.keys())\n",
    "flight_list = list(flights.keys())\n",
    "\n",
    "# For all paths if 'Leg 1' and 'Leg 2' are numbers then create a list with both legs else, drop the keys from the list, and create a new key called 'Legs'\n",
    "# else just change the name of the key 'Leg 1' to 'Legs'\n",
    "for key in path_list:\n",
    "    legs = []\n",
    "    if type(paths[key]['Leg 1']) == int and type(paths[key]['Leg 2']) == int:\n",
    "        legs.append(paths[key]['Leg 1'])\n",
    "        legs.append(paths[key]['Leg 2'])\n",
    "        paths[key]['Legs'] = legs\n",
    "    elif type(paths[key]['Leg 1']) == int:\n",
    "        legs.append(paths[key]['Leg 1'])\n",
    "        paths[key]['Legs'] = legs\n",
    "    del paths[key]['Leg 1']\n",
    "    del paths[key]['Leg 2']\n"
   ]
  },
  {
   "cell_type": "code",
   "execution_count": 109,
   "metadata": {},
   "outputs": [],
   "source": [
    "# Define path 999 with a fare of 0 and a demand of 0 \n",
    "paths[999] = {'Legs': [], 'Demand': 0, 'Fare': 0}"
   ]
  },
  {
   "cell_type": "code",
   "execution_count": 110,
   "metadata": {},
   "outputs": [],
   "source": [
    "# s_ip: binary variable indicating whether flight i is in itinerary p\n",
    "s_ip = {}\n",
    "for i in flight_list:\n",
    "    for p in paths:\n",
    "        s_ip[i,999] = 0\n",
    "        if i in paths[p]['Legs']:\n",
    "            s_ip[i,p] = 1\n",
    "        else:\n",
    "            s_ip[i,p] = 0\n",
    "\n",
    "# Q_i: unconstrained demand for flight i = sum s_ip * demand of itinerary p for p in P\n",
    "Q_i = {}\n",
    "for i in flight_list:\n",
    "    Q_i[i] = 0\n",
    "    for p in paths:\n",
    "        Q_i[i] += s_ip[i,p] * paths[p]['Demand']\n",
    "\n",
    "# ds_i demand spill for flight i = Q_i - capacity of flight i\n",
    "ds_i = {}\n",
    "for i in flight_list:\n",
    "    ds_i[i] = Q_i[i] - flights[i]['Capacity']"
   ]
  },
  {
   "cell_type": "code",
   "execution_count": 111,
   "metadata": {},
   "outputs": [],
   "source": [
    "# Add entries to P_p for path 0 with a recapture rate of 1\n",
    "for p in paths:\n",
    "    P_p[p,999] = {'Recapture rate': 1}\n",
    "    P_p[999,p] = {'Recapture rate': 0}\n",
    "\n",
    "path_list = list(paths.keys())\n",
    "flight_list = list(flights.keys())"
   ]
  },
  {
   "cell_type": "code",
   "execution_count": 112,
   "metadata": {},
   "outputs": [],
   "source": [
    "initial = [999]"
   ]
  },
  {
   "cell_type": "code",
   "execution_count": 113,
   "metadata": {},
   "outputs": [],
   "source": [
    "# Implementation using column generation algorithm (CGA)\n",
    "\n",
    "# Define the restricted master problem (RMP)\n",
    "# All the spillage is reallocated to path 999\n",
    "\n",
    "# Define the model\n",
    "m = gp.Model('PMF')\n",
    "\n",
    "# Define the decision variables\n",
    "# t_pr: number of passengers that would like to fly on itinerary p and are reallocated to itinerary r\n",
    "t = {}\n",
    "for p in path_list:\n",
    "    for r in initial:\n",
    "        t[p,r] = m.addVar(name='t_'+str(p)+'_'+str(r))"
   ]
  },
  {
   "cell_type": "code",
   "execution_count": 114,
   "metadata": {},
   "outputs": [],
   "source": [
    "# Define the objective function\n",
    "# MINIMIZE (double sum of fare_p - bpr * fare_r) * t_pr\n",
    "of = gp.quicksum((paths[p]['Fare'] - P_p[(p,r)]['Recapture rate'] * paths[r]['Fare']) * t[p,r] for r in initial for p in path_list)\n",
    "m.setObjective(of, GRB.MINIMIZE)\n",
    "\n",
    "# Define the constraints\n",
    "# Constraint 1: sum sum s_ip * t_pr - sum sum s_ip * brp * t_rp >= ds_i for all i but for r = 0 \n",
    "m.addConstrs((gp.quicksum(s_ip[i,p] * t[p,r] for p in path_list) - \n",
    "              gp.quicksum(s_ip[i,p] * P_p[(r,p)]['Recapture rate'] * t[p,r] for p in path_list for r in initial) >= \n",
    "              ds_i[i] for i in flight_list), name='π')\n",
    "\n",
    "# Constraint 2: sum t_pr <= Dp for all p\n",
    "m.addConstrs((t[p,r] <= paths[p]['Demand'] for p in path_list), name='σ')\n",
    "\n",
    "# Constraint 3: sum t_pr >= 0 for all p\n",
    "m.addConstrs((t[p,r] >= 0 for p in path_list), name='c3')\n",
    "\n",
    "m.update()"
   ]
  },
  {
   "cell_type": "code",
   "execution_count": 115,
   "metadata": {},
   "outputs": [
    {
     "name": "stdout",
     "output_type": "stream",
     "text": [
      "Gurobi Optimizer version 10.0.3 build v10.0.3rc0 (mac64[x86])\n",
      "\n",
      "CPU model: Intel(R) Core(TM) i5-1038NG7 CPU @ 2.00GHz\n",
      "Thread count: 4 physical cores, 8 logical processors, using up to 8 threads\n",
      "\n",
      "Optimize a model with 42 rows, 16 columns and 52 nonzeros\n",
      "Model fingerprint: 0x71139809\n",
      "Coefficient statistics:\n",
      "  Matrix range     [1e+00, 1e+00]\n",
      "  Objective range  [5e+01, 2e+02]\n",
      "  Bounds range     [0e+00, 0e+00]\n",
      "  RHS range        [8e+00, 2e+02]\n",
      "Presolve removed 39 rows and 11 columns\n",
      "Presolve time: 0.01s\n",
      "Presolved: 3 rows, 5 columns, 6 nonzeros\n",
      "\n",
      "Iteration    Objective       Primal Inf.    Dual Inf.      Time\n",
      "       0    3.8055000e+04   1.162500e+01   0.000000e+00      0s\n",
      "       2    4.6580000e+04   0.000000e+00   0.000000e+00      0s\n",
      "\n",
      "Solved in 2 iterations and 0.01 seconds (0.00 work units)\n",
      "Optimal objective  4.658000000e+04\n"
     ]
    }
   ],
   "source": [
    "# Solve the model\n",
    "m.optimize()\n"
   ]
  },
  {
   "cell_type": "code",
   "execution_count": 116,
   "metadata": {},
   "outputs": [
    {
     "name": "stdout",
     "output_type": "stream",
     "text": [
      "Optimal objective value: 46580\n",
      "Optimal solution:\n",
      "t_2_999 = 12\n",
      "t_5_999 = 50\n",
      "t_6_999 = 12\n",
      "t_7_999 = 62\n",
      "t_8_999 = 70\n",
      "t_9_999 = 32\n",
      "t_10_999 = 87\n",
      "t_12_999 = 72\n",
      "t_13_999 = 30\n",
      "Dual variables:\n",
      "π[102] = 100\n",
      "π[104] = 170\n",
      "π[202] = 80\n",
      "π[302] = 140\n",
      "π[203] = 180\n",
      "π[101] = 120\n",
      "σ[5] = -90\n",
      "σ[8] = -250\n",
      "σ[13] = -100\n"
     ]
    }
   ],
   "source": [
    "# Print the optimal objective value and the decision variables t_pr and the dual variables\n",
    "print('Optimal objective value: %g' % m.objVal)\n",
    "print('Optimal solution:')\n",
    "for v in m.getVars():\n",
    "    if v.x > 0:\n",
    "        print('%s = %g' % (v.varName, v.x))\n",
    "\n",
    "print('Dual variables:')\n",
    "for c in m.getConstrs():\n",
    "    if c.Pi != 0:\n",
    "        print('%s = %g' % (c.ConstrName, c.Pi))\n",
    "\n",
    "# Save dual variables in a dictionary\n",
    "pi_dual = {}\n",
    "for c in m.getConstrs():\n",
    "    if c.constrName[0] == 'π':\n",
    "        # get only the flight number from the constraint name\n",
    "        flight_num_pi = int(re.findall(r'\\d+', c.ConstrName)[0])    \n",
    "        pi_dual[flight_num_pi] = c.Pi\n",
    "\n",
    "sigma_dual = {}\n",
    "for c in m.getConstrs():\n",
    "    if c.constrName[0] == 'σ':\n",
    "        path_num_sigma = int(re.findall(r'\\d+', c.ConstrName)[0])    \n",
    "        sigma_dual[path_num_sigma] = c.Pi\n",
    "        "
   ]
  },
  {
   "cell_type": "code",
   "execution_count": 117,
   "metadata": {},
   "outputs": [],
   "source": [
    "# Create the pricing problem (PP)\n",
    "\n",
    "tpr_prime = {}\n",
    "# tpr = (fare_p - sum (π_i) for i being each flight in path p) - bpr * (fare_r - sum (π_j) for j being each flight in path p)) - σ_p\n",
    "for p,r in P_p.keys():\n",
    "    t_prime_pr = ((paths[p]['Fare'] - sum(pi_dual[i] for i in paths[p]['Legs'])) -\n",
    "                      (P_p[(p,r)]['Recapture rate']) *\n",
    "                      (paths[r]['Fare'] - sum(pi_dual[j] for j in paths[r]['Legs'])) -\n",
    "                      (sigma_dual[p]))\n",
    "    if t_prime_pr < 0:\n",
    "        tpr_prime[p,r] = t_prime_pr\n",
    "\n",
    "new_pairs = list(tpr_prime.keys())\n",
    "\n",
    "# Add the new columns to the model\n",
    "new_p = []\n",
    "for p,r in new_pairs:\n",
    "    new_p.append(p)\n",
    "\n",
    "# Current variables\n",
    "current_vars = []\n",
    "for v in m.getVars():\n",
    "    current_vars.append(v.varName)\n",
    "\n",
    "path_list.extend(new_p)"
   ]
  },
  {
   "cell_type": "code",
   "execution_count": 118,
   "metadata": {},
   "outputs": [
    {
     "ename": "GurobiError",
     "evalue": "Variable not in model",
     "output_type": "error",
     "traceback": [
      "\u001b[0;31m---------------------------------------------------------------------------\u001b[0m",
      "\u001b[0;31mGurobiError\u001b[0m                               Traceback (most recent call last)",
      "\u001b[1;32m/Users/allanguzmanf/Library/CloudStorage/OneDrive-Personal/6. TU Delft/AE4423 - Airline Planning and Optimization/AE4426/Example_PMF.ipynb Cell 12\u001b[0m line \u001b[0;36m8\n\u001b[1;32m      <a href='vscode-notebook-cell:/Users/allanguzmanf/Library/CloudStorage/OneDrive-Personal/6.%20TU%20Delft/AE4423%20-%20Airline%20Planning%20and%20Optimization/AE4426/Example_PMF.ipynb#Y110sZmlsZQ%3D%3D?line=5'>6</a>\u001b[0m \u001b[39m# Update the objective function\u001b[39;00m\n\u001b[1;32m      <a href='vscode-notebook-cell:/Users/allanguzmanf/Library/CloudStorage/OneDrive-Personal/6.%20TU%20Delft/AE4423%20-%20Airline%20Planning%20and%20Optimization/AE4426/Example_PMF.ipynb#Y110sZmlsZQ%3D%3D?line=6'>7</a>\u001b[0m of \u001b[39m+\u001b[39m\u001b[39m=\u001b[39m gp\u001b[39m.\u001b[39mquicksum((paths[p][\u001b[39m'\u001b[39m\u001b[39mFare\u001b[39m\u001b[39m'\u001b[39m] \u001b[39m-\u001b[39m P_p[(p, r)][\u001b[39m'\u001b[39m\u001b[39mRecapture rate\u001b[39m\u001b[39m'\u001b[39m] \u001b[39m*\u001b[39m paths[r][\u001b[39m'\u001b[39m\u001b[39mFare\u001b[39m\u001b[39m'\u001b[39m]) \u001b[39m*\u001b[39m t_pr[p] \u001b[39mfor\u001b[39;00m p,r \u001b[39min\u001b[39;00m new_pairs)\n\u001b[0;32m----> <a href='vscode-notebook-cell:/Users/allanguzmanf/Library/CloudStorage/OneDrive-Personal/6.%20TU%20Delft/AE4423%20-%20Airline%20Planning%20and%20Optimization/AE4426/Example_PMF.ipynb#Y110sZmlsZQ%3D%3D?line=7'>8</a>\u001b[0m m\u001b[39m.\u001b[39;49msetObjective(of, GRB\u001b[39m.\u001b[39;49mMINIMIZE)\n\u001b[1;32m     <a href='vscode-notebook-cell:/Users/allanguzmanf/Library/CloudStorage/OneDrive-Personal/6.%20TU%20Delft/AE4423%20-%20Airline%20Planning%20and%20Optimization/AE4426/Example_PMF.ipynb#Y110sZmlsZQ%3D%3D?line=9'>10</a>\u001b[0m \u001b[39m# Update the constraints\u001b[39;00m\n\u001b[1;32m     <a href='vscode-notebook-cell:/Users/allanguzmanf/Library/CloudStorage/OneDrive-Personal/6.%20TU%20Delft/AE4423%20-%20Airline%20Planning%20and%20Optimization/AE4426/Example_PMF.ipynb#Y110sZmlsZQ%3D%3D?line=10'>11</a>\u001b[0m m\u001b[39m.\u001b[39maddConstrs((gp\u001b[39m.\u001b[39mquicksum(s_ip[i, p] \u001b[39m*\u001b[39m t_pr[p] \u001b[39mfor\u001b[39;00m p \u001b[39min\u001b[39;00m path_list) \u001b[39m-\u001b[39m\n\u001b[1;32m     <a href='vscode-notebook-cell:/Users/allanguzmanf/Library/CloudStorage/OneDrive-Personal/6.%20TU%20Delft/AE4423%20-%20Airline%20Planning%20and%20Optimization/AE4426/Example_PMF.ipynb#Y110sZmlsZQ%3D%3D?line=11'>12</a>\u001b[0m               gp\u001b[39m.\u001b[39mquicksum(s_ip[i, r] \u001b[39m*\u001b[39m P_p[(p, r)][\u001b[39m'\u001b[39m\u001b[39mRecapture rate\u001b[39m\u001b[39m'\u001b[39m] \u001b[39m*\u001b[39m t_pr[\u001b[39mlen\u001b[39m(current_vars)\u001b[39m+\u001b[39mu] \u001b[39mfor\u001b[39;00m u, (p,r) \u001b[39min\u001b[39;00m \u001b[39menumerate\u001b[39m(new_pairs)) \u001b[39m>\u001b[39m\u001b[39m=\u001b[39m\n\u001b[1;32m     <a href='vscode-notebook-cell:/Users/allanguzmanf/Library/CloudStorage/OneDrive-Personal/6.%20TU%20Delft/AE4423%20-%20Airline%20Planning%20and%20Optimization/AE4426/Example_PMF.ipynb#Y110sZmlsZQ%3D%3D?line=12'>13</a>\u001b[0m                ds_i[i] \u001b[39mfor\u001b[39;00m i \u001b[39min\u001b[39;00m flight_list), name\u001b[39m=\u001b[39m\u001b[39m'\u001b[39m\u001b[39mπ\u001b[39m\u001b[39m'\u001b[39m)\n",
      "File \u001b[0;32msrc/gurobipy/model.pxi:1470\u001b[0m, in \u001b[0;36mgurobipy.Model.setObjective\u001b[0;34m()\u001b[0m\n",
      "\u001b[0;31mGurobiError\u001b[0m: Variable not in model"
     ]
    }
   ],
   "source": [
    "# Add the new columns to the RMP\n",
    "for i, (p,r) in enumerate(new_pairs):\n",
    "    t_pr[len(current_vars)+i] = m.addVar(name='t_' + str(p) +'_'+ str(r))\n",
    "m.update()\n",
    "\n",
    "# Update the objective function\n",
    "of += gp.quicksum((paths[p]['Fare'] - P_p[(p, r)]['Recapture rate'] * paths[r]['Fare']) * t_pr[p] for p,r in new_pairs)\n",
    "m.setObjective(of, GRB.MINIMIZE)\n",
    "\n",
    "# Update the constraints\n",
    "m.addConstrs((gp.quicksum(s_ip[i, p] * t_pr[p] for p in path_list) -\n",
    "              gp.quicksum(s_ip[i, r] * P_p[(p, r)]['Recapture rate'] * t_pr[len(current_vars)+u] for u, (p,r) in enumerate(new_pairs)) >=\n",
    "               ds_i[i] for i in flight_list), name='π')\n",
    "\n",
    "# Constraint 2: sum t_pr <= Dp for all p\n",
    "m.addConstrs((t_pr[p] <= paths[p]['Demand'] for p in path_list), name='σ')\n",
    "\n",
    "# Constraint 3: sum t_pr >= 0 for all p\n",
    "m.addConstrs((t_pr[p] >= 0 for p in path_list), name='c3')\n",
    "\n",
    "# Update the model\n",
    "m.update()\n"
   ]
  },
  {
   "cell_type": "code",
   "execution_count": 103,
   "metadata": {},
   "outputs": [
    {
     "name": "stdout",
     "output_type": "stream",
     "text": [
      "0 1\n"
     ]
    },
    {
     "ename": "KeyError",
     "evalue": "0",
     "output_type": "error",
     "traceback": [
      "\u001b[0;31m---------------------------------------------------------------------------\u001b[0m",
      "\u001b[0;31mKeyError\u001b[0m                                  Traceback (most recent call last)",
      "\u001b[1;32m/Users/allanguzmanf/Library/CloudStorage/OneDrive-Personal/6. TU Delft/AE4423 - Airline Planning and Optimization/AE4426/Example_PMF.ipynb Cell 13\u001b[0m line \u001b[0;36m4\n\u001b[1;32m      <a href='vscode-notebook-cell:/Users/allanguzmanf/Library/CloudStorage/OneDrive-Personal/6.%20TU%20Delft/AE4423%20-%20Airline%20Planning%20and%20Optimization/AE4426/Example_PMF.ipynb#Y111sZmlsZQ%3D%3D?line=1'>2</a>\u001b[0m \u001b[39mfor\u001b[39;00m u, p \u001b[39min\u001b[39;00m \u001b[39menumerate\u001b[39m(path_list):\n\u001b[1;32m      <a href='vscode-notebook-cell:/Users/allanguzmanf/Library/CloudStorage/OneDrive-Personal/6.%20TU%20Delft/AE4423%20-%20Airline%20Planning%20and%20Optimization/AE4426/Example_PMF.ipynb#Y111sZmlsZQ%3D%3D?line=2'>3</a>\u001b[0m     \u001b[39mprint\u001b[39m(u,p)\n\u001b[0;32m----> <a href='vscode-notebook-cell:/Users/allanguzmanf/Library/CloudStorage/OneDrive-Personal/6.%20TU%20Delft/AE4423%20-%20Airline%20Planning%20and%20Optimization/AE4426/Example_PMF.ipynb#Y111sZmlsZQ%3D%3D?line=3'>4</a>\u001b[0m     \u001b[39mprint\u001b[39m(i, s_ip[i, p], t_pr[\u001b[39m0\u001b[39;49m])\n",
      "\u001b[0;31mKeyError\u001b[0m: 0"
     ]
    }
   ],
   "source": [
    "for i in flight_list:\n",
    "    for u, p in enumerate(path_list):\n",
    "        print(u,p)\n",
    "        print(i, s_ip[i, p], t_pr[0])\n"
   ]
  },
  {
   "cell_type": "code",
   "execution_count": 79,
   "metadata": {},
   "outputs": [],
   "source": [
    "# for i in flight_list:\n",
    "#     for u, (p,r) in enumerate(new_pairs):\n",
    "#         print(u,p,r)\n",
    "#         print(i,\"|\", p,\"|\", r,\"|\", s_ip[i, r],\"|\", P_p[(p, r)]['Recapture rate'] , t_pr[len(current_vars)+u],\"|\", (ds_i[i]))"
   ]
  },
  {
   "cell_type": "code",
   "execution_count": 81,
   "metadata": {},
   "outputs": [
    {
     "name": "stdout",
     "output_type": "stream",
     "text": [
      "Gurobi Optimizer version 10.0.3 build v10.0.3rc0 (mac64[x86])\n",
      "\n",
      "CPU model: Intel(R) Core(TM) i5-1038NG7 CPU @ 2.00GHz\n",
      "Thread count: 4 physical cores, 8 logical processors, using up to 8 threads\n",
      "\n",
      "Optimize a model with 90 rows, 19 columns and 113 nonzeros\n",
      "Coefficient statistics:\n",
      "  Matrix range     [1e-01, 2e+00]\n",
      "  Objective range  [5e+01, 3e+02]\n",
      "  Bounds range     [0e+00, 0e+00]\n",
      "  RHS range        [8e+00, 2e+02]\n",
      "Iteration    Objective       Primal Inf.    Dual Inf.      Time\n",
      "       0    6.0320000e+04   0.000000e+00   0.000000e+00      0s\n",
      "\n",
      "Solved in 0 iterations and 0.01 seconds (0.00 work units)\n",
      "Optimal objective  6.032000000e+04\n"
     ]
    }
   ],
   "source": [
    "# Solve the model\n",
    "m.optimize()"
   ]
  },
  {
   "cell_type": "code",
   "execution_count": 82,
   "metadata": {},
   "outputs": [
    {
     "name": "stdout",
     "output_type": "stream",
     "text": [
      "Optimal solution:\n",
      "t_p999[1] = 0\n",
      "t_p999[2] = 12\n",
      "t_p999[3] = 0\n",
      "t_p999[4] = 0\n",
      "t_p999[5] = 50\n",
      "t_p999[6] = 12\n",
      "t_p999[7] = 62\n",
      "t_p999[8] = 70\n",
      "t_p999[9] = 32\n",
      "t_p999[10] = 87\n",
      "t_p999[11] = 0\n",
      "t_p999[12] = 72\n",
      "t_p999[13] = 30\n",
      "t_p999[14] = 0\n",
      "t_p999[15] = 0\n",
      "t_p999[999] = 0\n",
      "t_2_1 = 0\n",
      "t_3_4 = 0\n",
      "t_12_11 = 0\n",
      "Dual variables:\n",
      "π[102] = 100\n",
      "π[104] = 325\n",
      "π[202] = 80\n",
      "π[302] = 140\n",
      "π[203] = 345\n",
      "π[101] = 120\n",
      "σ[5] = -90\n",
      "σ[8] = -570\n",
      "σ[13] = -100\n"
     ]
    }
   ],
   "source": [
    "# Print the optimal objective value and the decision variables t_pr and the dual variables\n",
    "#print('Optimal objective value: %g' % m.objVal)\n",
    "print('Optimal solution:')\n",
    "for v in m.getVars():\n",
    "    print('%s = %g' % (v.varName, v.x))\n",
    "\n",
    "print('Dual variables:')\n",
    "for c in m.getConstrs():\n",
    "    if c.Pi != 0:\n",
    "        print('%s = %g' % (c.ConstrName, c.Pi))\n",
    "\n",
    "# Save dual variables in a dictionary\n",
    "pi_dual = {}\n",
    "for c in m.getConstrs():\n",
    "    if c.constrName[0] == 'π':\n",
    "        pi_dual[c.ConstrName] = c.Pi\n",
    "\n",
    "sigma_dual = {}\n",
    "for c in m.getConstrs():\n",
    "    if c.constrName[0] == 'σ':\n",
    "        sigma_dual[c.ConstrName] = c.Pi\n",
    "        "
   ]
  },
  {
   "cell_type": "code",
   "execution_count": 83,
   "metadata": {},
   "outputs": [
    {
     "data": {
      "text/plain": [
       "{'π[102]': 0.0,\n",
       " 'π[301]': 0.0,\n",
       " 'π[201]': 0.0,\n",
       " 'π[104]': 0.0,\n",
       " 'π[202]': 0.0,\n",
       " 'π[302]': 0.0,\n",
       " 'π[303]': 0.0,\n",
       " 'π[204]': 0.0,\n",
       " 'π[203]': 0.0,\n",
       " 'π[101]': 0.0}"
      ]
     },
     "execution_count": 83,
     "metadata": {},
     "output_type": "execute_result"
    }
   ],
   "source": [
    "pi_dual"
   ]
  }
 ],
 "metadata": {
  "kernelspec": {
   "display_name": "AE4426",
   "language": "python",
   "name": "python3"
  },
  "language_info": {
   "codemirror_mode": {
    "name": "ipython",
    "version": 3
   },
   "file_extension": ".py",
   "mimetype": "text/x-python",
   "name": "python",
   "nbconvert_exporter": "python",
   "pygments_lexer": "ipython3",
   "version": "3.10.13"
  }
 },
 "nbformat": 4,
 "nbformat_minor": 2
}
