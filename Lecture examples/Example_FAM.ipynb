{
 "cells": [
  {
   "cell_type": "code",
   "execution_count": 189,
   "metadata": {},
   "outputs": [],
   "source": [
    "import gurobipy as gp\n",
    "from gurobipy import GRB\n",
    "import pandas as pd\n",
    "import re \n",
    "from geopy.distance import geodesic\n",
    "from datetime import datetime, timedelta, time, date\n",
    "import matplotlib.pyplot as plt\n",
    "# Example 5. FAM (Fleet Assignment Model)"
   ]
  },
  {
   "cell_type": "code",
   "execution_count": 215,
   "metadata": {},
   "outputs": [],
   "source": [
    "# Define the inputs\n",
    "# Define the inputs\n",
    "\n",
    "# L: set of flights\n",
    "flights_df = pd.read_excel('Example_Data_Fam_BASIC.xlsx', sheet_name='Flight')#.set_index('Flight no.')\n",
    "flights_list = flights_df['Flight no.'].to_list() \n",
    "\n",
    "# K: set of aircraft types\n",
    "aircraft_df = pd.read_excel('Example_Data_Fam_BASIC.xlsx', sheet_name='Aircraft').set_index('AC Type')\n",
    "aircraft = aircraft_df.to_dict(orient='index')\n",
    "ac_list = list(aircraft.keys())\n",
    "\n",
    "cost_df = pd.read_excel('Example_Data_Fam_BASIC.xlsx', sheet_name='Cost').set_index(['Flight no.', 'AC Type'])\n",
    "# make a dictionary of the cost with the index as the key and the value as the cost\n",
    "cost = cost_df.to_dict(orient='index')\n",
    "\n",
    "\n",
    "for k in aircraft:\n",
    "    aircraft[k]['TAT'] = timedelta(minutes=aircraft[k]['TAT'])\n",
    "\n",
    "flights = flights_df.merge(aircraft_df.reset_index()[['AC Type', 'Range']], how='cross')"
   ]
  },
  {
   "cell_type": "code",
   "execution_count": 216,
   "metadata": {},
   "outputs": [
    {
     "data": {
      "text/plain": [
       "{('CL301', 'DC9'): {'Cost': 10000},\n",
       " ('CL302', 'DC9'): {'Cost': 10000},\n",
       " ('CL303', 'DC9'): {'Cost': 10000},\n",
       " ('CL331', 'DC9'): {'Cost': 10000},\n",
       " ('CL332', 'DC9'): {'Cost': 10000},\n",
       " ('CL333', 'DC9'): {'Cost': 10000},\n",
       " ('CL501', 'DC9'): {'Cost': 15000},\n",
       " ('CL502', 'DC9'): {'Cost': 15000},\n",
       " ('CL551', 'DC9'): {'Cost': 15000},\n",
       " ('CL552', 'DC9'): {'Cost': 15000},\n",
       " ('CL301', 'B737'): {'Cost': 12000},\n",
       " ('CL302', 'B737'): {'Cost': 12000},\n",
       " ('CL303', 'B737'): {'Cost': 12000},\n",
       " ('CL331', 'B737'): {'Cost': 12000},\n",
       " ('CL332', 'B737'): {'Cost': 12000},\n",
       " ('CL333', 'B737'): {'Cost': 12000},\n",
       " ('CL501', 'B737'): {'Cost': 17000},\n",
       " ('CL502', 'B737'): {'Cost': 17000},\n",
       " ('CL551', 'B737'): {'Cost': 17000},\n",
       " ('CL552', 'B737'): {'Cost': 17000},\n",
       " ('CL301', 'A300'): {'Cost': 15000},\n",
       " ('CL302', 'A300'): {'Cost': 15000},\n",
       " ('CL303', 'A300'): {'Cost': 15000},\n",
       " ('CL331', 'A300'): {'Cost': 15000},\n",
       " ('CL332', 'A300'): {'Cost': 15000},\n",
       " ('CL333', 'A300'): {'Cost': 15000},\n",
       " ('CL501', 'A300'): {'Cost': 20000},\n",
       " ('CL502', 'A300'): {'Cost': 20000},\n",
       " ('CL551', 'A300'): {'Cost': 20000},\n",
       " ('CL552', 'A300'): {'Cost': 20000}}"
      ]
     },
     "execution_count": 216,
     "metadata": {},
     "output_type": "execute_result"
    }
   ],
   "source": [
    "cost"
   ]
  },
  {
   "cell_type": "code",
   "execution_count": 192,
   "metadata": {},
   "outputs": [],
   "source": [
    "flight_distance = {     # Distance [km]\n",
    "    'PDL': {'PDL': 0, 'LIS': 1461, 'OPO': 1536, 'FNC': 975, 'YTO': 4545, 'BOS': 3888},\n",
    "    'LIS': {'PDL': 1461, 'LIS': 0, 'OPO': 336, 'FNC': 973, 'YTO': 5790, 'BOS': 5177},\n",
    "    'OPO': {'PDL': 1536, 'LIS': 336, 'OPO': 0, 'FNC': 1244, 'YTO': 5671, 'BOS': 5081},\n",
    "    'FNC': {'PDL': 975, 'LIS': 973, 'OPO': 1244, 'FNC': 0, 'YTO': 5515, 'BOS': 4851},\n",
    "    'YTO': {'PDL': 4545, 'LIS': 5790, 'OPO': 5671, 'FNC': 5515, 'YTO': 0, 'BOS': 691},\n",
    "    'BOS': {'PDL': 3888, 'LIS': 5177, 'OPO': 5081, 'FNC': 4851, 'YTO': 691, 'BOS': 0}\n",
    "}"
   ]
  },
  {
   "cell_type": "code",
   "execution_count": 193,
   "metadata": {},
   "outputs": [],
   "source": [
    "# List of unique airports from Origin and Destination columns\n",
    "airports = list(set(flights['From'].unique()).union(set(flights['To'].unique())))"
   ]
  },
  {
   "cell_type": "code",
   "execution_count": 194,
   "metadata": {},
   "outputs": [
    {
     "data": {
      "text/plain": [
       "{'DC9': {'Fleet': 1,\n",
       "  'Seats': 120,\n",
       "  'Range': 9600,\n",
       "  'CASK': 5.3,\n",
       "  'TAT': datetime.timedelta(0)},\n",
       " 'B737': {'Fleet': 2,\n",
       "  'Seats': 150,\n",
       "  'Range': 3500,\n",
       "  'CASK': 4.6,\n",
       "  'TAT': datetime.timedelta(0)},\n",
       " 'A300': {'Fleet': 2,\n",
       "  'Seats': 250,\n",
       "  'Range': 100000,\n",
       "  'CASK': 1.0,\n",
       "  'TAT': datetime.timedelta(0)}}"
      ]
     },
     "execution_count": 194,
     "metadata": {},
     "output_type": "execute_result"
    }
   ],
   "source": [
    "aircraft"
   ]
  },
  {
   "cell_type": "code",
   "execution_count": 195,
   "metadata": {},
   "outputs": [],
   "source": [
    "misc_date = date(1,1,1)\n",
    "\n",
    "#flights['Distance'] = flights.apply(lambda row: flight_distance[row['From']][row['To']], axis=1)\n",
    "\n",
    "# Drop rows with distance > range\n",
    "# unfeasible_flights = flights[flights['Distance'] > flights['Range']]\n",
    "# flights = flights[flights['Distance'] <= flights['Range']].drop(columns=['Range'])\n",
    "flights['Arrival'] = flights.apply(lambda row: (datetime.combine(misc_date,row['Arrival']) + aircraft[row['AC Type']]['TAT']).time(), axis=1)\n",
    "flights['Overnight'] = flights.apply(lambda row: row['Arrival'] < row['Departure'], axis=1)\n",
    "\n",
    "# Print flight: X not feasible with aircraft: Y\n",
    "#print('Flights not feasible with aircraft:')\n",
    "#print(unfeasible_flights[['Flight no.', 'AC Type', 'From', 'To', 'Distance']])\n",
    "#print('\\n')"
   ]
  },
  {
   "cell_type": "code",
   "execution_count": 196,
   "metadata": {},
   "outputs": [],
   "source": [
    "# Make flights dictionary with main keys: AC Type, with a sub dictionary of flight numbers and each with flight details\n",
    "flights_dict = {}\n",
    "for i in flights_list:\n",
    "    flights_dict[i] = flights[flights['Flight no.'] == i].set_index('AC Type').to_dict(orient='index')\n",
    "\n",
    "flights = flights_dict"
   ]
  },
  {
   "cell_type": "code",
   "execution_count": 201,
   "metadata": {},
   "outputs": [],
   "source": [
    "# Create an empty list to store the data\n",
    "data = []\n",
    "# Iterate over airports, aircraft types, and flights\n",
    "for l in flights:\n",
    "    for k in flights[l]:\n",
    "        for n in airports:\n",
    "            if flights[l][k]['From'] == n:\n",
    "                data.append([k, n, l, flights[l][k]['Departure'], 'Departure']) #, flights[l][k]['Distance'])\n",
    "            if flights[l][k]['To'] == n:\n",
    "                data.append([k, n, l, flights[l][k]['Arrival'],  'Arrival']) #, flights[l][k]['Distance'])\n",
    "\n",
    "# Create a dataframe with the data\n",
    "events = pd.DataFrame(data, columns=['AC Type','Airport', 'Flight N', 'Time', 'D_A']) #, 'Distance'])\n",
    "\n",
    "# Add the TAT to the arrival times\n",
    "\n",
    "events.sort_values(by=['AC Type', 'Airport', 'Time'], inplace=True)\n",
    "\n",
    "# Reset the numbering of the events\n",
    "events.reset_index(drop=True, inplace=True)"
   ]
  },
  {
   "cell_type": "code",
   "execution_count": 203,
   "metadata": {},
   "outputs": [],
   "source": [
    "# For each airport and aircraft type i need to create a loop of ground arcs, each starting from the last event and ending at the next event, if there is no more events then the last ground arc is the overnight arc and it ends at the first event of the next day (first event of the next day is the first event of the same airport and aircraft type)\n",
    "\n",
    "ground_arcs = pd.DataFrame(columns=['AC Type', 'Airport', 'Start Time', 'End Time'])\n",
    "\n",
    "for k in ac_list:\n",
    "    for n in airports:\n",
    "        df = events[(events['AC Type'] == k) & (events['Airport'] == n)].sort_values(by=['Time'])\n",
    "        for i in range(len(df)):\n",
    "            if i == 0:\n",
    "                ground_arcs = pd.concat([ground_arcs, pd.DataFrame({'AC Type': k, 'Airport': n, 'Start Time': [df.iloc[-1]['Time']], 'End Time': [df.iloc[i]['Time']]})], ignore_index=True)\n",
    "            else:\n",
    "                ground_arcs = pd.concat([ground_arcs, pd.DataFrame({'AC Type': k, 'Airport': n, 'Start Time': [df.iloc[i-1]['Time']], 'End Time': [df.iloc[i]['Time']]})], ignore_index=True)\n",
    "\n",
    "ground_arcs.sort_values(by=['AC Type', 'Airport'], inplace=True)\n",
    "# Drop rows if start time and end time are the same\n",
    "ground_arcs = ground_arcs[~ground_arcs.apply(lambda row: (row['Start Time'] == row['End Time']), axis=1)]\n",
    "ground_arcs['Arc ID'] = ground_arcs.groupby(['AC Type','Airport']).cumcount()\n",
    "# Add the AC Type and Airport to the Arc ID\n",
    "ground_arcs['Arc ID'] = ground_arcs.apply(lambda row: str(row['AC Type']) + '_' + str(row['Airport']) + '_' + str(row['Arc ID']), axis=1)\n",
    "ground_arcs['Overnight'] = ground_arcs.apply(lambda row: (row['End Time'] < row['Start Time']), axis=1)\n",
    "ground_arcs.sort_values(by='Arc ID', inplace=True)"
   ]
  },
  {
   "cell_type": "code",
   "execution_count": 206,
   "metadata": {},
   "outputs": [],
   "source": [
    "# Create a nodes_df\n",
    "nodes_df = ground_arcs[['AC Type', 'Airport', 'Start Time']].rename(columns={'Start Time': 'Time'})\n",
    "\n",
    "# Add a count number for each row group by AC Type and Airport\n",
    "nodes_df['Node ID'] = nodes_df.groupby(['AC Type','Airport']).cumcount()\n",
    "nodes_df['Node ID'] = nodes_df.apply(lambda row: str(row['AC Type']) + '_' + str(row['Airport']) + '_' + str(row['Node ID']), axis=1)\n",
    "\n",
    "# make a dictionary with the ac type as main key and the airport as secondary key with the node as tertiary key and the time as value\n",
    "nodes = {}\n",
    "for k in ac_list:\n",
    "    nodes[k] = {}\n",
    "    for n in airports:\n",
    "        nodes[k][n] = {}\n",
    "        for i in nodes_df[(nodes_df['AC Type'] == k) & (nodes_df['Airport'] == n)]['Node ID']:\n",
    "            nodes[k][n][i] = {'Time': nodes_df[(nodes_df['AC Type'] == k) & \n",
    "                                               (nodes_df['Airport'] == n) & \n",
    "                                               (nodes_df['Node ID'] == i)]['Time'].values[0]}\n",
    "            "
   ]
  },
  {
   "cell_type": "code",
   "execution_count": 207,
   "metadata": {},
   "outputs": [],
   "source": [
    "# Add node id to the events\n",
    "events = events.merge(nodes_df, how='left', on=['AC Type', 'Airport', 'Time']).sort_values(by=['AC Type', 'Airport'])\n",
    "\n",
    "# Add a dictionary call departures and another one arrivals to the nodes dictionary at k,n,i+1 with \n",
    "# the events that have the same ac type, airport and time as the node\n",
    "for k in ac_list:\n",
    "    for n in airports:\n",
    "        for i in nodes_df[(nodes_df['AC Type'] == k) & (nodes_df['Airport'] == n)]['Node ID']:\n",
    "            nodes[k][n][i]['Departures'] = list(events[(events['AC Type'] == k) & (events['Airport'] == n) & (events['Time'] == nodes[k][n][i]['Time']) & (events['D_A'] == 'Departure')]['Flight N'])\n",
    "            nodes[k][n][i]['Arrivals'] = list(events[(events['AC Type'] == k) & (events['Airport'] == n) & (events['Time'] == nodes[k][n][i]['Time']) & (events['D_A'] == 'Arrival')]['Flight N'])\n"
   ]
  },
  {
   "cell_type": "code",
   "execution_count": 209,
   "metadata": {},
   "outputs": [],
   "source": [
    "# n+: ground arcs originating at any node n (start time)\n",
    "# n-: ground arcs ending at any node n (end time)\n",
    "n_plus = ground_arcs[['Airport', 'AC Type', 'Start Time', 'Arc ID']].rename(columns={'Start Time': 'Time'})\n",
    "n_minus = ground_arcs[['Airport', 'AC Type', 'End Time', 'Arc ID']].rename(columns={'End Time': 'Time'})\n",
    "\n",
    "# Add a dictionary call n+ and another one n- to the nodes dictionary at k,n,i+1 with \n",
    "# the events that have the same ac type, airport and time as the node\n",
    "for k in ac_list:\n",
    "    for n in airports:\n",
    "        for i in nodes_df[(nodes_df['AC Type'] == k) & (nodes_df['Airport'] == n)]['Node ID']:\n",
    "            nodes[k][n][i]['n+'] = list(n_plus[(n_plus['AC Type'] == k) & (n_plus['Airport'] == n) & (n_plus['Time'] == nodes[k][n][i]['Time'])]['Arc ID'])\n",
    "            nodes[k][n][i]['n-'] = list(n_minus[(n_minus['AC Type'] == k) & (n_minus['Airport'] == n) & (n_minus['Time'] == nodes[k][n][i]['Time'])]['Arc ID'])"
   ]
  },
  {
   "cell_type": "code",
   "execution_count": 210,
   "metadata": {},
   "outputs": [],
   "source": [
    "overnight_arcs = ground_arcs[ground_arcs['Overnight'] == True][['AC Type', 'Airport', 'Arc ID']]\n",
    "overnight_flights = []\n",
    "for l in flights:\n",
    "    for k in flights[l]:\n",
    "        if flights[l][k]['Overnight']:\n",
    "            overnight_flights.append([k, l])\n",
    "\n",
    "overnight_flights = pd.DataFrame(overnight_flights, columns=['AC Type', 'Flight no.'])"
   ]
  },
  {
   "cell_type": "code",
   "execution_count": 212,
   "metadata": {},
   "outputs": [
    {
     "data": {
      "application/vnd.plotly.v1+json": {
       "config": {
        "plotlyServerURL": "https://plot.ly"
       },
       "data": [
        {
         "hovertemplate": [
          "<b>Flight no.</b>: CL331<br>",
          "<b>Flight no.</b>: CL551<br>",
          "<b>Flight no.</b>: CL331<br>",
          "<b>Flight no.</b>: CL552<br>",
          "<b>Flight no.</b>: CL551<br>",
          "<b>Flight no.</b>: CL301<br>",
          "<b>Flight no.</b>: CL332<br>",
          "<b>Flight no.</b>: CL501<br>",
          "<b>Flight no.</b>: CL302<br>",
          "<b>Flight no.</b>: CL301<br>",
          "<b>Flight no.</b>: CL332<br>",
          "<b>Flight no.</b>: CL552<br>",
          "<b>Flight no.</b>: CL502<br>",
          "<b>Flight no.</b>: CL302<br>",
          "<b>Flight no.</b>: CL333<br>",
          "<b>Flight no.</b>: CL303<br>",
          "<b>Flight no.</b>: CL501<br>",
          "<b>Flight no.</b>: CL333<br>",
          "<b>Flight no.</b>: CL303<br>",
          "<b>Flight no.</b>: CL502<br>"
         ],
         "marker": {
          "color": [
           "red",
           "red",
           "blue",
           "red",
           "blue",
           "red",
           "red",
           "red",
           "red",
           "blue",
           "blue",
           "blue",
           "red",
           "blue",
           "red",
           "red",
           "blue",
           "blue",
           "blue",
           "blue"
          ]
         },
         "mode": "markers+text",
         "type": "scatter",
         "x": [
          "08:00:00",
          "08:00:00",
          "09:00:00",
          "09:30:00",
          "11:00:00",
          "11:00:00",
          "11:30:00",
          "12:00:00",
          "12:00:00",
          "12:00:00",
          "12:30:00",
          "12:30:00",
          "13:00:00",
          "13:00:00",
          "14:00:00",
          "14:00:00",
          "15:00:00",
          "15:00:00",
          "15:00:00",
          "16:00:00"
         ],
         "y": [
          "BOS",
          "ORD",
          "LGA",
          "ORD",
          "LGA",
          "LGA",
          "BOS",
          "LGA",
          "LGA",
          "BOS",
          "LGA",
          "LGA",
          "LGA",
          "BOS",
          "BOS",
          "LGA",
          "ORD",
          "LGA",
          "BOS",
          "ORD"
         ]
        }
       ],
       "layout": {
        "shapes": [
         {
          "line": {
           "color": "#DF899A",
           "width": 2
          },
          "type": "line",
          "x0": "15:00:00",
          "x1": "08:00:00",
          "y0": "BOS",
          "y1": "BOS"
         },
         {
          "line": {
           "color": "#242C16",
           "width": 2
          },
          "type": "line",
          "x0": "08:00:00",
          "x1": "11:30:00",
          "y0": "BOS",
          "y1": "BOS"
         },
         {
          "line": {
           "color": "#2A8B32",
           "width": 2
          },
          "type": "line",
          "x0": "11:30:00",
          "x1": "12:00:00",
          "y0": "BOS",
          "y1": "BOS"
         },
         {
          "line": {
           "color": "#7A955B",
           "width": 2
          },
          "type": "line",
          "x0": "12:00:00",
          "x1": "13:00:00",
          "y0": "BOS",
          "y1": "BOS"
         },
         {
          "line": {
           "color": "#4752D8",
           "width": 2
          },
          "type": "line",
          "x0": "13:00:00",
          "x1": "14:00:00",
          "y0": "BOS",
          "y1": "BOS"
         },
         {
          "line": {
           "color": "#888573",
           "width": 2
          },
          "type": "line",
          "x0": "14:00:00",
          "x1": "15:00:00",
          "y0": "BOS",
          "y1": "BOS"
         },
         {
          "line": {
           "color": "#B18655",
           "width": 2
          },
          "type": "line",
          "x0": "15:00:00",
          "x1": "09:00:00",
          "y0": "LGA",
          "y1": "LGA"
         },
         {
          "line": {
           "color": "#2895D1",
           "width": 2
          },
          "type": "line",
          "x0": "09:00:00",
          "x1": "11:00:00",
          "y0": "LGA",
          "y1": "LGA"
         },
         {
          "line": {
           "color": "#6D62F9",
           "width": 2
          },
          "type": "line",
          "x0": "11:00:00",
          "x1": "12:00:00",
          "y0": "LGA",
          "y1": "LGA"
         },
         {
          "line": {
           "color": "#C7AC06",
           "width": 2
          },
          "type": "line",
          "x0": "12:00:00",
          "x1": "12:30:00",
          "y0": "LGA",
          "y1": "LGA"
         },
         {
          "line": {
           "color": "#73BDCE",
           "width": 2
          },
          "type": "line",
          "x0": "12:30:00",
          "x1": "13:00:00",
          "y0": "LGA",
          "y1": "LGA"
         },
         {
          "line": {
           "color": "#EBE062",
           "width": 2
          },
          "type": "line",
          "x0": "13:00:00",
          "x1": "14:00:00",
          "y0": "LGA",
          "y1": "LGA"
         },
         {
          "line": {
           "color": "#A7B9C6",
           "width": 2
          },
          "type": "line",
          "x0": "14:00:00",
          "x1": "15:00:00",
          "y0": "LGA",
          "y1": "LGA"
         },
         {
          "line": {
           "color": "#F303FF",
           "width": 2
          },
          "type": "line",
          "x0": "16:00:00",
          "x1": "08:00:00",
          "y0": "ORD",
          "y1": "ORD"
         },
         {
          "line": {
           "color": "#2259AA",
           "width": 2
          },
          "type": "line",
          "x0": "08:00:00",
          "x1": "09:30:00",
          "y0": "ORD",
          "y1": "ORD"
         },
         {
          "line": {
           "color": "#5501B8",
           "width": 2
          },
          "type": "line",
          "x0": "09:30:00",
          "x1": "15:00:00",
          "y0": "ORD",
          "y1": "ORD"
         },
         {
          "line": {
           "color": "#697C6F",
           "width": 2
          },
          "type": "line",
          "x0": "15:00:00",
          "x1": "16:00:00",
          "y0": "ORD",
          "y1": "ORD"
         }
        ],
        "template": {
         "data": {
          "bar": [
           {
            "error_x": {
             "color": "#2a3f5f"
            },
            "error_y": {
             "color": "#2a3f5f"
            },
            "marker": {
             "line": {
              "color": "#E5ECF6",
              "width": 0.5
             },
             "pattern": {
              "fillmode": "overlay",
              "size": 10,
              "solidity": 0.2
             }
            },
            "type": "bar"
           }
          ],
          "barpolar": [
           {
            "marker": {
             "line": {
              "color": "#E5ECF6",
              "width": 0.5
             },
             "pattern": {
              "fillmode": "overlay",
              "size": 10,
              "solidity": 0.2
             }
            },
            "type": "barpolar"
           }
          ],
          "carpet": [
           {
            "aaxis": {
             "endlinecolor": "#2a3f5f",
             "gridcolor": "white",
             "linecolor": "white",
             "minorgridcolor": "white",
             "startlinecolor": "#2a3f5f"
            },
            "baxis": {
             "endlinecolor": "#2a3f5f",
             "gridcolor": "white",
             "linecolor": "white",
             "minorgridcolor": "white",
             "startlinecolor": "#2a3f5f"
            },
            "type": "carpet"
           }
          ],
          "choropleth": [
           {
            "colorbar": {
             "outlinewidth": 0,
             "ticks": ""
            },
            "type": "choropleth"
           }
          ],
          "contour": [
           {
            "colorbar": {
             "outlinewidth": 0,
             "ticks": ""
            },
            "colorscale": [
             [
              0,
              "#0d0887"
             ],
             [
              0.1111111111111111,
              "#46039f"
             ],
             [
              0.2222222222222222,
              "#7201a8"
             ],
             [
              0.3333333333333333,
              "#9c179e"
             ],
             [
              0.4444444444444444,
              "#bd3786"
             ],
             [
              0.5555555555555556,
              "#d8576b"
             ],
             [
              0.6666666666666666,
              "#ed7953"
             ],
             [
              0.7777777777777778,
              "#fb9f3a"
             ],
             [
              0.8888888888888888,
              "#fdca26"
             ],
             [
              1,
              "#f0f921"
             ]
            ],
            "type": "contour"
           }
          ],
          "contourcarpet": [
           {
            "colorbar": {
             "outlinewidth": 0,
             "ticks": ""
            },
            "type": "contourcarpet"
           }
          ],
          "heatmap": [
           {
            "colorbar": {
             "outlinewidth": 0,
             "ticks": ""
            },
            "colorscale": [
             [
              0,
              "#0d0887"
             ],
             [
              0.1111111111111111,
              "#46039f"
             ],
             [
              0.2222222222222222,
              "#7201a8"
             ],
             [
              0.3333333333333333,
              "#9c179e"
             ],
             [
              0.4444444444444444,
              "#bd3786"
             ],
             [
              0.5555555555555556,
              "#d8576b"
             ],
             [
              0.6666666666666666,
              "#ed7953"
             ],
             [
              0.7777777777777778,
              "#fb9f3a"
             ],
             [
              0.8888888888888888,
              "#fdca26"
             ],
             [
              1,
              "#f0f921"
             ]
            ],
            "type": "heatmap"
           }
          ],
          "heatmapgl": [
           {
            "colorbar": {
             "outlinewidth": 0,
             "ticks": ""
            },
            "colorscale": [
             [
              0,
              "#0d0887"
             ],
             [
              0.1111111111111111,
              "#46039f"
             ],
             [
              0.2222222222222222,
              "#7201a8"
             ],
             [
              0.3333333333333333,
              "#9c179e"
             ],
             [
              0.4444444444444444,
              "#bd3786"
             ],
             [
              0.5555555555555556,
              "#d8576b"
             ],
             [
              0.6666666666666666,
              "#ed7953"
             ],
             [
              0.7777777777777778,
              "#fb9f3a"
             ],
             [
              0.8888888888888888,
              "#fdca26"
             ],
             [
              1,
              "#f0f921"
             ]
            ],
            "type": "heatmapgl"
           }
          ],
          "histogram": [
           {
            "marker": {
             "pattern": {
              "fillmode": "overlay",
              "size": 10,
              "solidity": 0.2
             }
            },
            "type": "histogram"
           }
          ],
          "histogram2d": [
           {
            "colorbar": {
             "outlinewidth": 0,
             "ticks": ""
            },
            "colorscale": [
             [
              0,
              "#0d0887"
             ],
             [
              0.1111111111111111,
              "#46039f"
             ],
             [
              0.2222222222222222,
              "#7201a8"
             ],
             [
              0.3333333333333333,
              "#9c179e"
             ],
             [
              0.4444444444444444,
              "#bd3786"
             ],
             [
              0.5555555555555556,
              "#d8576b"
             ],
             [
              0.6666666666666666,
              "#ed7953"
             ],
             [
              0.7777777777777778,
              "#fb9f3a"
             ],
             [
              0.8888888888888888,
              "#fdca26"
             ],
             [
              1,
              "#f0f921"
             ]
            ],
            "type": "histogram2d"
           }
          ],
          "histogram2dcontour": [
           {
            "colorbar": {
             "outlinewidth": 0,
             "ticks": ""
            },
            "colorscale": [
             [
              0,
              "#0d0887"
             ],
             [
              0.1111111111111111,
              "#46039f"
             ],
             [
              0.2222222222222222,
              "#7201a8"
             ],
             [
              0.3333333333333333,
              "#9c179e"
             ],
             [
              0.4444444444444444,
              "#bd3786"
             ],
             [
              0.5555555555555556,
              "#d8576b"
             ],
             [
              0.6666666666666666,
              "#ed7953"
             ],
             [
              0.7777777777777778,
              "#fb9f3a"
             ],
             [
              0.8888888888888888,
              "#fdca26"
             ],
             [
              1,
              "#f0f921"
             ]
            ],
            "type": "histogram2dcontour"
           }
          ],
          "mesh3d": [
           {
            "colorbar": {
             "outlinewidth": 0,
             "ticks": ""
            },
            "type": "mesh3d"
           }
          ],
          "parcoords": [
           {
            "line": {
             "colorbar": {
              "outlinewidth": 0,
              "ticks": ""
             }
            },
            "type": "parcoords"
           }
          ],
          "pie": [
           {
            "automargin": true,
            "type": "pie"
           }
          ],
          "scatter": [
           {
            "fillpattern": {
             "fillmode": "overlay",
             "size": 10,
             "solidity": 0.2
            },
            "type": "scatter"
           }
          ],
          "scatter3d": [
           {
            "line": {
             "colorbar": {
              "outlinewidth": 0,
              "ticks": ""
             }
            },
            "marker": {
             "colorbar": {
              "outlinewidth": 0,
              "ticks": ""
             }
            },
            "type": "scatter3d"
           }
          ],
          "scattercarpet": [
           {
            "marker": {
             "colorbar": {
              "outlinewidth": 0,
              "ticks": ""
             }
            },
            "type": "scattercarpet"
           }
          ],
          "scattergeo": [
           {
            "marker": {
             "colorbar": {
              "outlinewidth": 0,
              "ticks": ""
             }
            },
            "type": "scattergeo"
           }
          ],
          "scattergl": [
           {
            "marker": {
             "colorbar": {
              "outlinewidth": 0,
              "ticks": ""
             }
            },
            "type": "scattergl"
           }
          ],
          "scattermapbox": [
           {
            "marker": {
             "colorbar": {
              "outlinewidth": 0,
              "ticks": ""
             }
            },
            "type": "scattermapbox"
           }
          ],
          "scatterpolar": [
           {
            "marker": {
             "colorbar": {
              "outlinewidth": 0,
              "ticks": ""
             }
            },
            "type": "scatterpolar"
           }
          ],
          "scatterpolargl": [
           {
            "marker": {
             "colorbar": {
              "outlinewidth": 0,
              "ticks": ""
             }
            },
            "type": "scatterpolargl"
           }
          ],
          "scatterternary": [
           {
            "marker": {
             "colorbar": {
              "outlinewidth": 0,
              "ticks": ""
             }
            },
            "type": "scatterternary"
           }
          ],
          "surface": [
           {
            "colorbar": {
             "outlinewidth": 0,
             "ticks": ""
            },
            "colorscale": [
             [
              0,
              "#0d0887"
             ],
             [
              0.1111111111111111,
              "#46039f"
             ],
             [
              0.2222222222222222,
              "#7201a8"
             ],
             [
              0.3333333333333333,
              "#9c179e"
             ],
             [
              0.4444444444444444,
              "#bd3786"
             ],
             [
              0.5555555555555556,
              "#d8576b"
             ],
             [
              0.6666666666666666,
              "#ed7953"
             ],
             [
              0.7777777777777778,
              "#fb9f3a"
             ],
             [
              0.8888888888888888,
              "#fdca26"
             ],
             [
              1,
              "#f0f921"
             ]
            ],
            "type": "surface"
           }
          ],
          "table": [
           {
            "cells": {
             "fill": {
              "color": "#EBF0F8"
             },
             "line": {
              "color": "white"
             }
            },
            "header": {
             "fill": {
              "color": "#C8D4E3"
             },
             "line": {
              "color": "white"
             }
            },
            "type": "table"
           }
          ]
         },
         "layout": {
          "annotationdefaults": {
           "arrowcolor": "#2a3f5f",
           "arrowhead": 0,
           "arrowwidth": 1
          },
          "autotypenumbers": "strict",
          "coloraxis": {
           "colorbar": {
            "outlinewidth": 0,
            "ticks": ""
           }
          },
          "colorscale": {
           "diverging": [
            [
             0,
             "#8e0152"
            ],
            [
             0.1,
             "#c51b7d"
            ],
            [
             0.2,
             "#de77ae"
            ],
            [
             0.3,
             "#f1b6da"
            ],
            [
             0.4,
             "#fde0ef"
            ],
            [
             0.5,
             "#f7f7f7"
            ],
            [
             0.6,
             "#e6f5d0"
            ],
            [
             0.7,
             "#b8e186"
            ],
            [
             0.8,
             "#7fbc41"
            ],
            [
             0.9,
             "#4d9221"
            ],
            [
             1,
             "#276419"
            ]
           ],
           "sequential": [
            [
             0,
             "#0d0887"
            ],
            [
             0.1111111111111111,
             "#46039f"
            ],
            [
             0.2222222222222222,
             "#7201a8"
            ],
            [
             0.3333333333333333,
             "#9c179e"
            ],
            [
             0.4444444444444444,
             "#bd3786"
            ],
            [
             0.5555555555555556,
             "#d8576b"
            ],
            [
             0.6666666666666666,
             "#ed7953"
            ],
            [
             0.7777777777777778,
             "#fb9f3a"
            ],
            [
             0.8888888888888888,
             "#fdca26"
            ],
            [
             1,
             "#f0f921"
            ]
           ],
           "sequentialminus": [
            [
             0,
             "#0d0887"
            ],
            [
             0.1111111111111111,
             "#46039f"
            ],
            [
             0.2222222222222222,
             "#7201a8"
            ],
            [
             0.3333333333333333,
             "#9c179e"
            ],
            [
             0.4444444444444444,
             "#bd3786"
            ],
            [
             0.5555555555555556,
             "#d8576b"
            ],
            [
             0.6666666666666666,
             "#ed7953"
            ],
            [
             0.7777777777777778,
             "#fb9f3a"
            ],
            [
             0.8888888888888888,
             "#fdca26"
            ],
            [
             1,
             "#f0f921"
            ]
           ]
          },
          "colorway": [
           "#636efa",
           "#EF553B",
           "#00cc96",
           "#ab63fa",
           "#FFA15A",
           "#19d3f3",
           "#FF6692",
           "#B6E880",
           "#FF97FF",
           "#FECB52"
          ],
          "font": {
           "color": "#2a3f5f"
          },
          "geo": {
           "bgcolor": "white",
           "lakecolor": "white",
           "landcolor": "#E5ECF6",
           "showlakes": true,
           "showland": true,
           "subunitcolor": "white"
          },
          "hoverlabel": {
           "align": "left"
          },
          "hovermode": "closest",
          "mapbox": {
           "style": "light"
          },
          "paper_bgcolor": "white",
          "plot_bgcolor": "#E5ECF6",
          "polar": {
           "angularaxis": {
            "gridcolor": "white",
            "linecolor": "white",
            "ticks": ""
           },
           "bgcolor": "#E5ECF6",
           "radialaxis": {
            "gridcolor": "white",
            "linecolor": "white",
            "ticks": ""
           }
          },
          "scene": {
           "xaxis": {
            "backgroundcolor": "#E5ECF6",
            "gridcolor": "white",
            "gridwidth": 2,
            "linecolor": "white",
            "showbackground": true,
            "ticks": "",
            "zerolinecolor": "white"
           },
           "yaxis": {
            "backgroundcolor": "#E5ECF6",
            "gridcolor": "white",
            "gridwidth": 2,
            "linecolor": "white",
            "showbackground": true,
            "ticks": "",
            "zerolinecolor": "white"
           },
           "zaxis": {
            "backgroundcolor": "#E5ECF6",
            "gridcolor": "white",
            "gridwidth": 2,
            "linecolor": "white",
            "showbackground": true,
            "ticks": "",
            "zerolinecolor": "white"
           }
          },
          "shapedefaults": {
           "line": {
            "color": "#2a3f5f"
           }
          },
          "ternary": {
           "aaxis": {
            "gridcolor": "white",
            "linecolor": "white",
            "ticks": ""
           },
           "baxis": {
            "gridcolor": "white",
            "linecolor": "white",
            "ticks": ""
           },
           "bgcolor": "#E5ECF6",
           "caxis": {
            "gridcolor": "white",
            "linecolor": "white",
            "ticks": ""
           }
          },
          "title": {
           "x": 0.05
          },
          "xaxis": {
           "automargin": true,
           "gridcolor": "white",
           "linecolor": "white",
           "ticks": "",
           "title": {
            "standoff": 15
           },
           "zerolinecolor": "white",
           "zerolinewidth": 2
          },
          "yaxis": {
           "automargin": true,
           "gridcolor": "white",
           "linecolor": "white",
           "ticks": "",
           "title": {
            "standoff": 15
           },
           "zerolinecolor": "white",
           "zerolinewidth": 2
          }
         }
        },
        "title": {
         "text": "Ground Arcs for AC Type DC9"
        },
        "xaxis": {
         "title": {
          "text": "Time"
         }
        },
        "yaxis": {
         "title": {
          "text": "Airport"
         }
        }
       }
      }
     },
     "metadata": {},
     "output_type": "display_data"
    },
    {
     "data": {
      "application/vnd.plotly.v1+json": {
       "config": {
        "plotlyServerURL": "https://plot.ly"
       },
       "data": [
        {
         "hovertemplate": [
          "<b>Flight no.</b>: CL331<br>",
          "<b>Flight no.</b>: CL551<br>",
          "<b>Flight no.</b>: CL331<br>",
          "<b>Flight no.</b>: CL552<br>",
          "<b>Flight no.</b>: CL551<br>",
          "<b>Flight no.</b>: CL301<br>",
          "<b>Flight no.</b>: CL332<br>",
          "<b>Flight no.</b>: CL501<br>",
          "<b>Flight no.</b>: CL302<br>",
          "<b>Flight no.</b>: CL301<br>",
          "<b>Flight no.</b>: CL332<br>",
          "<b>Flight no.</b>: CL552<br>",
          "<b>Flight no.</b>: CL502<br>",
          "<b>Flight no.</b>: CL302<br>",
          "<b>Flight no.</b>: CL333<br>",
          "<b>Flight no.</b>: CL303<br>",
          "<b>Flight no.</b>: CL501<br>",
          "<b>Flight no.</b>: CL333<br>",
          "<b>Flight no.</b>: CL303<br>",
          "<b>Flight no.</b>: CL502<br>"
         ],
         "marker": {
          "color": [
           "red",
           "red",
           "blue",
           "red",
           "blue",
           "red",
           "red",
           "red",
           "red",
           "blue",
           "blue",
           "blue",
           "red",
           "blue",
           "red",
           "red",
           "blue",
           "blue",
           "blue",
           "blue"
          ]
         },
         "mode": "markers+text",
         "type": "scatter",
         "x": [
          "08:00:00",
          "08:00:00",
          "09:00:00",
          "09:30:00",
          "11:00:00",
          "11:00:00",
          "11:30:00",
          "12:00:00",
          "12:00:00",
          "12:00:00",
          "12:30:00",
          "12:30:00",
          "13:00:00",
          "13:00:00",
          "14:00:00",
          "14:00:00",
          "15:00:00",
          "15:00:00",
          "15:00:00",
          "16:00:00"
         ],
         "y": [
          "BOS",
          "ORD",
          "LGA",
          "ORD",
          "LGA",
          "LGA",
          "BOS",
          "LGA",
          "LGA",
          "BOS",
          "LGA",
          "LGA",
          "LGA",
          "BOS",
          "BOS",
          "LGA",
          "ORD",
          "LGA",
          "BOS",
          "ORD"
         ]
        }
       ],
       "layout": {
        "shapes": [
         {
          "line": {
           "color": "#6FC9CC",
           "width": 2
          },
          "type": "line",
          "x0": "15:00:00",
          "x1": "08:00:00",
          "y0": "BOS",
          "y1": "BOS"
         },
         {
          "line": {
           "color": "#E935D9",
           "width": 2
          },
          "type": "line",
          "x0": "08:00:00",
          "x1": "11:30:00",
          "y0": "BOS",
          "y1": "BOS"
         },
         {
          "line": {
           "color": "#8D853E",
           "width": 2
          },
          "type": "line",
          "x0": "11:30:00",
          "x1": "12:00:00",
          "y0": "BOS",
          "y1": "BOS"
         },
         {
          "line": {
           "color": "#303B77",
           "width": 2
          },
          "type": "line",
          "x0": "12:00:00",
          "x1": "13:00:00",
          "y0": "BOS",
          "y1": "BOS"
         },
         {
          "line": {
           "color": "#12A213",
           "width": 2
          },
          "type": "line",
          "x0": "13:00:00",
          "x1": "14:00:00",
          "y0": "BOS",
          "y1": "BOS"
         },
         {
          "line": {
           "color": "#2747F1",
           "width": 2
          },
          "type": "line",
          "x0": "14:00:00",
          "x1": "15:00:00",
          "y0": "BOS",
          "y1": "BOS"
         },
         {
          "line": {
           "color": "#342A75",
           "width": 2
          },
          "type": "line",
          "x0": "15:00:00",
          "x1": "09:00:00",
          "y0": "LGA",
          "y1": "LGA"
         },
         {
          "line": {
           "color": "#23F833",
           "width": 2
          },
          "type": "line",
          "x0": "09:00:00",
          "x1": "11:00:00",
          "y0": "LGA",
          "y1": "LGA"
         },
         {
          "line": {
           "color": "#3EC4FF",
           "width": 2
          },
          "type": "line",
          "x0": "11:00:00",
          "x1": "12:00:00",
          "y0": "LGA",
          "y1": "LGA"
         },
         {
          "line": {
           "color": "#33CC55",
           "width": 2
          },
          "type": "line",
          "x0": "12:00:00",
          "x1": "12:30:00",
          "y0": "LGA",
          "y1": "LGA"
         },
         {
          "line": {
           "color": "#0C1D5E",
           "width": 2
          },
          "type": "line",
          "x0": "12:30:00",
          "x1": "13:00:00",
          "y0": "LGA",
          "y1": "LGA"
         },
         {
          "line": {
           "color": "#083EBB",
           "width": 2
          },
          "type": "line",
          "x0": "13:00:00",
          "x1": "14:00:00",
          "y0": "LGA",
          "y1": "LGA"
         },
         {
          "line": {
           "color": "#AD6BF0",
           "width": 2
          },
          "type": "line",
          "x0": "14:00:00",
          "x1": "15:00:00",
          "y0": "LGA",
          "y1": "LGA"
         },
         {
          "line": {
           "color": "#7F395F",
           "width": 2
          },
          "type": "line",
          "x0": "16:00:00",
          "x1": "08:00:00",
          "y0": "ORD",
          "y1": "ORD"
         },
         {
          "line": {
           "color": "#9EE1BB",
           "width": 2
          },
          "type": "line",
          "x0": "08:00:00",
          "x1": "09:30:00",
          "y0": "ORD",
          "y1": "ORD"
         },
         {
          "line": {
           "color": "#0124FB",
           "width": 2
          },
          "type": "line",
          "x0": "09:30:00",
          "x1": "15:00:00",
          "y0": "ORD",
          "y1": "ORD"
         },
         {
          "line": {
           "color": "#48FEB2",
           "width": 2
          },
          "type": "line",
          "x0": "15:00:00",
          "x1": "16:00:00",
          "y0": "ORD",
          "y1": "ORD"
         }
        ],
        "template": {
         "data": {
          "bar": [
           {
            "error_x": {
             "color": "#2a3f5f"
            },
            "error_y": {
             "color": "#2a3f5f"
            },
            "marker": {
             "line": {
              "color": "#E5ECF6",
              "width": 0.5
             },
             "pattern": {
              "fillmode": "overlay",
              "size": 10,
              "solidity": 0.2
             }
            },
            "type": "bar"
           }
          ],
          "barpolar": [
           {
            "marker": {
             "line": {
              "color": "#E5ECF6",
              "width": 0.5
             },
             "pattern": {
              "fillmode": "overlay",
              "size": 10,
              "solidity": 0.2
             }
            },
            "type": "barpolar"
           }
          ],
          "carpet": [
           {
            "aaxis": {
             "endlinecolor": "#2a3f5f",
             "gridcolor": "white",
             "linecolor": "white",
             "minorgridcolor": "white",
             "startlinecolor": "#2a3f5f"
            },
            "baxis": {
             "endlinecolor": "#2a3f5f",
             "gridcolor": "white",
             "linecolor": "white",
             "minorgridcolor": "white",
             "startlinecolor": "#2a3f5f"
            },
            "type": "carpet"
           }
          ],
          "choropleth": [
           {
            "colorbar": {
             "outlinewidth": 0,
             "ticks": ""
            },
            "type": "choropleth"
           }
          ],
          "contour": [
           {
            "colorbar": {
             "outlinewidth": 0,
             "ticks": ""
            },
            "colorscale": [
             [
              0,
              "#0d0887"
             ],
             [
              0.1111111111111111,
              "#46039f"
             ],
             [
              0.2222222222222222,
              "#7201a8"
             ],
             [
              0.3333333333333333,
              "#9c179e"
             ],
             [
              0.4444444444444444,
              "#bd3786"
             ],
             [
              0.5555555555555556,
              "#d8576b"
             ],
             [
              0.6666666666666666,
              "#ed7953"
             ],
             [
              0.7777777777777778,
              "#fb9f3a"
             ],
             [
              0.8888888888888888,
              "#fdca26"
             ],
             [
              1,
              "#f0f921"
             ]
            ],
            "type": "contour"
           }
          ],
          "contourcarpet": [
           {
            "colorbar": {
             "outlinewidth": 0,
             "ticks": ""
            },
            "type": "contourcarpet"
           }
          ],
          "heatmap": [
           {
            "colorbar": {
             "outlinewidth": 0,
             "ticks": ""
            },
            "colorscale": [
             [
              0,
              "#0d0887"
             ],
             [
              0.1111111111111111,
              "#46039f"
             ],
             [
              0.2222222222222222,
              "#7201a8"
             ],
             [
              0.3333333333333333,
              "#9c179e"
             ],
             [
              0.4444444444444444,
              "#bd3786"
             ],
             [
              0.5555555555555556,
              "#d8576b"
             ],
             [
              0.6666666666666666,
              "#ed7953"
             ],
             [
              0.7777777777777778,
              "#fb9f3a"
             ],
             [
              0.8888888888888888,
              "#fdca26"
             ],
             [
              1,
              "#f0f921"
             ]
            ],
            "type": "heatmap"
           }
          ],
          "heatmapgl": [
           {
            "colorbar": {
             "outlinewidth": 0,
             "ticks": ""
            },
            "colorscale": [
             [
              0,
              "#0d0887"
             ],
             [
              0.1111111111111111,
              "#46039f"
             ],
             [
              0.2222222222222222,
              "#7201a8"
             ],
             [
              0.3333333333333333,
              "#9c179e"
             ],
             [
              0.4444444444444444,
              "#bd3786"
             ],
             [
              0.5555555555555556,
              "#d8576b"
             ],
             [
              0.6666666666666666,
              "#ed7953"
             ],
             [
              0.7777777777777778,
              "#fb9f3a"
             ],
             [
              0.8888888888888888,
              "#fdca26"
             ],
             [
              1,
              "#f0f921"
             ]
            ],
            "type": "heatmapgl"
           }
          ],
          "histogram": [
           {
            "marker": {
             "pattern": {
              "fillmode": "overlay",
              "size": 10,
              "solidity": 0.2
             }
            },
            "type": "histogram"
           }
          ],
          "histogram2d": [
           {
            "colorbar": {
             "outlinewidth": 0,
             "ticks": ""
            },
            "colorscale": [
             [
              0,
              "#0d0887"
             ],
             [
              0.1111111111111111,
              "#46039f"
             ],
             [
              0.2222222222222222,
              "#7201a8"
             ],
             [
              0.3333333333333333,
              "#9c179e"
             ],
             [
              0.4444444444444444,
              "#bd3786"
             ],
             [
              0.5555555555555556,
              "#d8576b"
             ],
             [
              0.6666666666666666,
              "#ed7953"
             ],
             [
              0.7777777777777778,
              "#fb9f3a"
             ],
             [
              0.8888888888888888,
              "#fdca26"
             ],
             [
              1,
              "#f0f921"
             ]
            ],
            "type": "histogram2d"
           }
          ],
          "histogram2dcontour": [
           {
            "colorbar": {
             "outlinewidth": 0,
             "ticks": ""
            },
            "colorscale": [
             [
              0,
              "#0d0887"
             ],
             [
              0.1111111111111111,
              "#46039f"
             ],
             [
              0.2222222222222222,
              "#7201a8"
             ],
             [
              0.3333333333333333,
              "#9c179e"
             ],
             [
              0.4444444444444444,
              "#bd3786"
             ],
             [
              0.5555555555555556,
              "#d8576b"
             ],
             [
              0.6666666666666666,
              "#ed7953"
             ],
             [
              0.7777777777777778,
              "#fb9f3a"
             ],
             [
              0.8888888888888888,
              "#fdca26"
             ],
             [
              1,
              "#f0f921"
             ]
            ],
            "type": "histogram2dcontour"
           }
          ],
          "mesh3d": [
           {
            "colorbar": {
             "outlinewidth": 0,
             "ticks": ""
            },
            "type": "mesh3d"
           }
          ],
          "parcoords": [
           {
            "line": {
             "colorbar": {
              "outlinewidth": 0,
              "ticks": ""
             }
            },
            "type": "parcoords"
           }
          ],
          "pie": [
           {
            "automargin": true,
            "type": "pie"
           }
          ],
          "scatter": [
           {
            "fillpattern": {
             "fillmode": "overlay",
             "size": 10,
             "solidity": 0.2
            },
            "type": "scatter"
           }
          ],
          "scatter3d": [
           {
            "line": {
             "colorbar": {
              "outlinewidth": 0,
              "ticks": ""
             }
            },
            "marker": {
             "colorbar": {
              "outlinewidth": 0,
              "ticks": ""
             }
            },
            "type": "scatter3d"
           }
          ],
          "scattercarpet": [
           {
            "marker": {
             "colorbar": {
              "outlinewidth": 0,
              "ticks": ""
             }
            },
            "type": "scattercarpet"
           }
          ],
          "scattergeo": [
           {
            "marker": {
             "colorbar": {
              "outlinewidth": 0,
              "ticks": ""
             }
            },
            "type": "scattergeo"
           }
          ],
          "scattergl": [
           {
            "marker": {
             "colorbar": {
              "outlinewidth": 0,
              "ticks": ""
             }
            },
            "type": "scattergl"
           }
          ],
          "scattermapbox": [
           {
            "marker": {
             "colorbar": {
              "outlinewidth": 0,
              "ticks": ""
             }
            },
            "type": "scattermapbox"
           }
          ],
          "scatterpolar": [
           {
            "marker": {
             "colorbar": {
              "outlinewidth": 0,
              "ticks": ""
             }
            },
            "type": "scatterpolar"
           }
          ],
          "scatterpolargl": [
           {
            "marker": {
             "colorbar": {
              "outlinewidth": 0,
              "ticks": ""
             }
            },
            "type": "scatterpolargl"
           }
          ],
          "scatterternary": [
           {
            "marker": {
             "colorbar": {
              "outlinewidth": 0,
              "ticks": ""
             }
            },
            "type": "scatterternary"
           }
          ],
          "surface": [
           {
            "colorbar": {
             "outlinewidth": 0,
             "ticks": ""
            },
            "colorscale": [
             [
              0,
              "#0d0887"
             ],
             [
              0.1111111111111111,
              "#46039f"
             ],
             [
              0.2222222222222222,
              "#7201a8"
             ],
             [
              0.3333333333333333,
              "#9c179e"
             ],
             [
              0.4444444444444444,
              "#bd3786"
             ],
             [
              0.5555555555555556,
              "#d8576b"
             ],
             [
              0.6666666666666666,
              "#ed7953"
             ],
             [
              0.7777777777777778,
              "#fb9f3a"
             ],
             [
              0.8888888888888888,
              "#fdca26"
             ],
             [
              1,
              "#f0f921"
             ]
            ],
            "type": "surface"
           }
          ],
          "table": [
           {
            "cells": {
             "fill": {
              "color": "#EBF0F8"
             },
             "line": {
              "color": "white"
             }
            },
            "header": {
             "fill": {
              "color": "#C8D4E3"
             },
             "line": {
              "color": "white"
             }
            },
            "type": "table"
           }
          ]
         },
         "layout": {
          "annotationdefaults": {
           "arrowcolor": "#2a3f5f",
           "arrowhead": 0,
           "arrowwidth": 1
          },
          "autotypenumbers": "strict",
          "coloraxis": {
           "colorbar": {
            "outlinewidth": 0,
            "ticks": ""
           }
          },
          "colorscale": {
           "diverging": [
            [
             0,
             "#8e0152"
            ],
            [
             0.1,
             "#c51b7d"
            ],
            [
             0.2,
             "#de77ae"
            ],
            [
             0.3,
             "#f1b6da"
            ],
            [
             0.4,
             "#fde0ef"
            ],
            [
             0.5,
             "#f7f7f7"
            ],
            [
             0.6,
             "#e6f5d0"
            ],
            [
             0.7,
             "#b8e186"
            ],
            [
             0.8,
             "#7fbc41"
            ],
            [
             0.9,
             "#4d9221"
            ],
            [
             1,
             "#276419"
            ]
           ],
           "sequential": [
            [
             0,
             "#0d0887"
            ],
            [
             0.1111111111111111,
             "#46039f"
            ],
            [
             0.2222222222222222,
             "#7201a8"
            ],
            [
             0.3333333333333333,
             "#9c179e"
            ],
            [
             0.4444444444444444,
             "#bd3786"
            ],
            [
             0.5555555555555556,
             "#d8576b"
            ],
            [
             0.6666666666666666,
             "#ed7953"
            ],
            [
             0.7777777777777778,
             "#fb9f3a"
            ],
            [
             0.8888888888888888,
             "#fdca26"
            ],
            [
             1,
             "#f0f921"
            ]
           ],
           "sequentialminus": [
            [
             0,
             "#0d0887"
            ],
            [
             0.1111111111111111,
             "#46039f"
            ],
            [
             0.2222222222222222,
             "#7201a8"
            ],
            [
             0.3333333333333333,
             "#9c179e"
            ],
            [
             0.4444444444444444,
             "#bd3786"
            ],
            [
             0.5555555555555556,
             "#d8576b"
            ],
            [
             0.6666666666666666,
             "#ed7953"
            ],
            [
             0.7777777777777778,
             "#fb9f3a"
            ],
            [
             0.8888888888888888,
             "#fdca26"
            ],
            [
             1,
             "#f0f921"
            ]
           ]
          },
          "colorway": [
           "#636efa",
           "#EF553B",
           "#00cc96",
           "#ab63fa",
           "#FFA15A",
           "#19d3f3",
           "#FF6692",
           "#B6E880",
           "#FF97FF",
           "#FECB52"
          ],
          "font": {
           "color": "#2a3f5f"
          },
          "geo": {
           "bgcolor": "white",
           "lakecolor": "white",
           "landcolor": "#E5ECF6",
           "showlakes": true,
           "showland": true,
           "subunitcolor": "white"
          },
          "hoverlabel": {
           "align": "left"
          },
          "hovermode": "closest",
          "mapbox": {
           "style": "light"
          },
          "paper_bgcolor": "white",
          "plot_bgcolor": "#E5ECF6",
          "polar": {
           "angularaxis": {
            "gridcolor": "white",
            "linecolor": "white",
            "ticks": ""
           },
           "bgcolor": "#E5ECF6",
           "radialaxis": {
            "gridcolor": "white",
            "linecolor": "white",
            "ticks": ""
           }
          },
          "scene": {
           "xaxis": {
            "backgroundcolor": "#E5ECF6",
            "gridcolor": "white",
            "gridwidth": 2,
            "linecolor": "white",
            "showbackground": true,
            "ticks": "",
            "zerolinecolor": "white"
           },
           "yaxis": {
            "backgroundcolor": "#E5ECF6",
            "gridcolor": "white",
            "gridwidth": 2,
            "linecolor": "white",
            "showbackground": true,
            "ticks": "",
            "zerolinecolor": "white"
           },
           "zaxis": {
            "backgroundcolor": "#E5ECF6",
            "gridcolor": "white",
            "gridwidth": 2,
            "linecolor": "white",
            "showbackground": true,
            "ticks": "",
            "zerolinecolor": "white"
           }
          },
          "shapedefaults": {
           "line": {
            "color": "#2a3f5f"
           }
          },
          "ternary": {
           "aaxis": {
            "gridcolor": "white",
            "linecolor": "white",
            "ticks": ""
           },
           "baxis": {
            "gridcolor": "white",
            "linecolor": "white",
            "ticks": ""
           },
           "bgcolor": "#E5ECF6",
           "caxis": {
            "gridcolor": "white",
            "linecolor": "white",
            "ticks": ""
           }
          },
          "title": {
           "x": 0.05
          },
          "xaxis": {
           "automargin": true,
           "gridcolor": "white",
           "linecolor": "white",
           "ticks": "",
           "title": {
            "standoff": 15
           },
           "zerolinecolor": "white",
           "zerolinewidth": 2
          },
          "yaxis": {
           "automargin": true,
           "gridcolor": "white",
           "linecolor": "white",
           "ticks": "",
           "title": {
            "standoff": 15
           },
           "zerolinecolor": "white",
           "zerolinewidth": 2
          }
         }
        },
        "title": {
         "text": "Ground Arcs for AC Type B737"
        },
        "xaxis": {
         "title": {
          "text": "Time"
         }
        },
        "yaxis": {
         "title": {
          "text": "Airport"
         }
        }
       }
      }
     },
     "metadata": {},
     "output_type": "display_data"
    },
    {
     "data": {
      "application/vnd.plotly.v1+json": {
       "config": {
        "plotlyServerURL": "https://plot.ly"
       },
       "data": [
        {
         "hovertemplate": [
          "<b>Flight no.</b>: CL331<br>",
          "<b>Flight no.</b>: CL551<br>",
          "<b>Flight no.</b>: CL331<br>",
          "<b>Flight no.</b>: CL552<br>",
          "<b>Flight no.</b>: CL551<br>",
          "<b>Flight no.</b>: CL301<br>",
          "<b>Flight no.</b>: CL332<br>",
          "<b>Flight no.</b>: CL501<br>",
          "<b>Flight no.</b>: CL302<br>",
          "<b>Flight no.</b>: CL301<br>",
          "<b>Flight no.</b>: CL332<br>",
          "<b>Flight no.</b>: CL552<br>",
          "<b>Flight no.</b>: CL502<br>",
          "<b>Flight no.</b>: CL302<br>",
          "<b>Flight no.</b>: CL333<br>",
          "<b>Flight no.</b>: CL303<br>",
          "<b>Flight no.</b>: CL501<br>",
          "<b>Flight no.</b>: CL333<br>",
          "<b>Flight no.</b>: CL303<br>",
          "<b>Flight no.</b>: CL502<br>"
         ],
         "marker": {
          "color": [
           "red",
           "red",
           "blue",
           "red",
           "blue",
           "red",
           "red",
           "red",
           "red",
           "blue",
           "blue",
           "blue",
           "red",
           "blue",
           "red",
           "red",
           "blue",
           "blue",
           "blue",
           "blue"
          ]
         },
         "mode": "markers+text",
         "type": "scatter",
         "x": [
          "08:00:00",
          "08:00:00",
          "09:00:00",
          "09:30:00",
          "11:00:00",
          "11:00:00",
          "11:30:00",
          "12:00:00",
          "12:00:00",
          "12:00:00",
          "12:30:00",
          "12:30:00",
          "13:00:00",
          "13:00:00",
          "14:00:00",
          "14:00:00",
          "15:00:00",
          "15:00:00",
          "15:00:00",
          "16:00:00"
         ],
         "y": [
          "BOS",
          "ORD",
          "LGA",
          "ORD",
          "LGA",
          "LGA",
          "BOS",
          "LGA",
          "LGA",
          "BOS",
          "LGA",
          "LGA",
          "LGA",
          "BOS",
          "BOS",
          "LGA",
          "ORD",
          "LGA",
          "BOS",
          "ORD"
         ]
        }
       ],
       "layout": {
        "shapes": [
         {
          "line": {
           "color": "#CE2896",
           "width": 2
          },
          "type": "line",
          "x0": "15:00:00",
          "x1": "08:00:00",
          "y0": "BOS",
          "y1": "BOS"
         },
         {
          "line": {
           "color": "#08532B",
           "width": 2
          },
          "type": "line",
          "x0": "08:00:00",
          "x1": "11:30:00",
          "y0": "BOS",
          "y1": "BOS"
         },
         {
          "line": {
           "color": "#F85536",
           "width": 2
          },
          "type": "line",
          "x0": "11:30:00",
          "x1": "12:00:00",
          "y0": "BOS",
          "y1": "BOS"
         },
         {
          "line": {
           "color": "#31C1EB",
           "width": 2
          },
          "type": "line",
          "x0": "12:00:00",
          "x1": "13:00:00",
          "y0": "BOS",
          "y1": "BOS"
         },
         {
          "line": {
           "color": "#953ED3",
           "width": 2
          },
          "type": "line",
          "x0": "13:00:00",
          "x1": "14:00:00",
          "y0": "BOS",
          "y1": "BOS"
         },
         {
          "line": {
           "color": "#214B85",
           "width": 2
          },
          "type": "line",
          "x0": "14:00:00",
          "x1": "15:00:00",
          "y0": "BOS",
          "y1": "BOS"
         },
         {
          "line": {
           "color": "#B13861",
           "width": 2
          },
          "type": "line",
          "x0": "15:00:00",
          "x1": "09:00:00",
          "y0": "LGA",
          "y1": "LGA"
         },
         {
          "line": {
           "color": "#873E20",
           "width": 2
          },
          "type": "line",
          "x0": "09:00:00",
          "x1": "11:00:00",
          "y0": "LGA",
          "y1": "LGA"
         },
         {
          "line": {
           "color": "#153B27",
           "width": 2
          },
          "type": "line",
          "x0": "11:00:00",
          "x1": "12:00:00",
          "y0": "LGA",
          "y1": "LGA"
         },
         {
          "line": {
           "color": "#40754B",
           "width": 2
          },
          "type": "line",
          "x0": "12:00:00",
          "x1": "12:30:00",
          "y0": "LGA",
          "y1": "LGA"
         },
         {
          "line": {
           "color": "#41AC0F",
           "width": 2
          },
          "type": "line",
          "x0": "12:30:00",
          "x1": "13:00:00",
          "y0": "LGA",
          "y1": "LGA"
         },
         {
          "line": {
           "color": "#F72DF6",
           "width": 2
          },
          "type": "line",
          "x0": "13:00:00",
          "x1": "14:00:00",
          "y0": "LGA",
          "y1": "LGA"
         },
         {
          "line": {
           "color": "#00085E",
           "width": 2
          },
          "type": "line",
          "x0": "14:00:00",
          "x1": "15:00:00",
          "y0": "LGA",
          "y1": "LGA"
         },
         {
          "line": {
           "color": "#068C4E",
           "width": 2
          },
          "type": "line",
          "x0": "16:00:00",
          "x1": "08:00:00",
          "y0": "ORD",
          "y1": "ORD"
         },
         {
          "line": {
           "color": "#289BB6",
           "width": 2
          },
          "type": "line",
          "x0": "08:00:00",
          "x1": "09:30:00",
          "y0": "ORD",
          "y1": "ORD"
         },
         {
          "line": {
           "color": "#1EF586",
           "width": 2
          },
          "type": "line",
          "x0": "09:30:00",
          "x1": "15:00:00",
          "y0": "ORD",
          "y1": "ORD"
         },
         {
          "line": {
           "color": "#9E55ED",
           "width": 2
          },
          "type": "line",
          "x0": "15:00:00",
          "x1": "16:00:00",
          "y0": "ORD",
          "y1": "ORD"
         }
        ],
        "template": {
         "data": {
          "bar": [
           {
            "error_x": {
             "color": "#2a3f5f"
            },
            "error_y": {
             "color": "#2a3f5f"
            },
            "marker": {
             "line": {
              "color": "#E5ECF6",
              "width": 0.5
             },
             "pattern": {
              "fillmode": "overlay",
              "size": 10,
              "solidity": 0.2
             }
            },
            "type": "bar"
           }
          ],
          "barpolar": [
           {
            "marker": {
             "line": {
              "color": "#E5ECF6",
              "width": 0.5
             },
             "pattern": {
              "fillmode": "overlay",
              "size": 10,
              "solidity": 0.2
             }
            },
            "type": "barpolar"
           }
          ],
          "carpet": [
           {
            "aaxis": {
             "endlinecolor": "#2a3f5f",
             "gridcolor": "white",
             "linecolor": "white",
             "minorgridcolor": "white",
             "startlinecolor": "#2a3f5f"
            },
            "baxis": {
             "endlinecolor": "#2a3f5f",
             "gridcolor": "white",
             "linecolor": "white",
             "minorgridcolor": "white",
             "startlinecolor": "#2a3f5f"
            },
            "type": "carpet"
           }
          ],
          "choropleth": [
           {
            "colorbar": {
             "outlinewidth": 0,
             "ticks": ""
            },
            "type": "choropleth"
           }
          ],
          "contour": [
           {
            "colorbar": {
             "outlinewidth": 0,
             "ticks": ""
            },
            "colorscale": [
             [
              0,
              "#0d0887"
             ],
             [
              0.1111111111111111,
              "#46039f"
             ],
             [
              0.2222222222222222,
              "#7201a8"
             ],
             [
              0.3333333333333333,
              "#9c179e"
             ],
             [
              0.4444444444444444,
              "#bd3786"
             ],
             [
              0.5555555555555556,
              "#d8576b"
             ],
             [
              0.6666666666666666,
              "#ed7953"
             ],
             [
              0.7777777777777778,
              "#fb9f3a"
             ],
             [
              0.8888888888888888,
              "#fdca26"
             ],
             [
              1,
              "#f0f921"
             ]
            ],
            "type": "contour"
           }
          ],
          "contourcarpet": [
           {
            "colorbar": {
             "outlinewidth": 0,
             "ticks": ""
            },
            "type": "contourcarpet"
           }
          ],
          "heatmap": [
           {
            "colorbar": {
             "outlinewidth": 0,
             "ticks": ""
            },
            "colorscale": [
             [
              0,
              "#0d0887"
             ],
             [
              0.1111111111111111,
              "#46039f"
             ],
             [
              0.2222222222222222,
              "#7201a8"
             ],
             [
              0.3333333333333333,
              "#9c179e"
             ],
             [
              0.4444444444444444,
              "#bd3786"
             ],
             [
              0.5555555555555556,
              "#d8576b"
             ],
             [
              0.6666666666666666,
              "#ed7953"
             ],
             [
              0.7777777777777778,
              "#fb9f3a"
             ],
             [
              0.8888888888888888,
              "#fdca26"
             ],
             [
              1,
              "#f0f921"
             ]
            ],
            "type": "heatmap"
           }
          ],
          "heatmapgl": [
           {
            "colorbar": {
             "outlinewidth": 0,
             "ticks": ""
            },
            "colorscale": [
             [
              0,
              "#0d0887"
             ],
             [
              0.1111111111111111,
              "#46039f"
             ],
             [
              0.2222222222222222,
              "#7201a8"
             ],
             [
              0.3333333333333333,
              "#9c179e"
             ],
             [
              0.4444444444444444,
              "#bd3786"
             ],
             [
              0.5555555555555556,
              "#d8576b"
             ],
             [
              0.6666666666666666,
              "#ed7953"
             ],
             [
              0.7777777777777778,
              "#fb9f3a"
             ],
             [
              0.8888888888888888,
              "#fdca26"
             ],
             [
              1,
              "#f0f921"
             ]
            ],
            "type": "heatmapgl"
           }
          ],
          "histogram": [
           {
            "marker": {
             "pattern": {
              "fillmode": "overlay",
              "size": 10,
              "solidity": 0.2
             }
            },
            "type": "histogram"
           }
          ],
          "histogram2d": [
           {
            "colorbar": {
             "outlinewidth": 0,
             "ticks": ""
            },
            "colorscale": [
             [
              0,
              "#0d0887"
             ],
             [
              0.1111111111111111,
              "#46039f"
             ],
             [
              0.2222222222222222,
              "#7201a8"
             ],
             [
              0.3333333333333333,
              "#9c179e"
             ],
             [
              0.4444444444444444,
              "#bd3786"
             ],
             [
              0.5555555555555556,
              "#d8576b"
             ],
             [
              0.6666666666666666,
              "#ed7953"
             ],
             [
              0.7777777777777778,
              "#fb9f3a"
             ],
             [
              0.8888888888888888,
              "#fdca26"
             ],
             [
              1,
              "#f0f921"
             ]
            ],
            "type": "histogram2d"
           }
          ],
          "histogram2dcontour": [
           {
            "colorbar": {
             "outlinewidth": 0,
             "ticks": ""
            },
            "colorscale": [
             [
              0,
              "#0d0887"
             ],
             [
              0.1111111111111111,
              "#46039f"
             ],
             [
              0.2222222222222222,
              "#7201a8"
             ],
             [
              0.3333333333333333,
              "#9c179e"
             ],
             [
              0.4444444444444444,
              "#bd3786"
             ],
             [
              0.5555555555555556,
              "#d8576b"
             ],
             [
              0.6666666666666666,
              "#ed7953"
             ],
             [
              0.7777777777777778,
              "#fb9f3a"
             ],
             [
              0.8888888888888888,
              "#fdca26"
             ],
             [
              1,
              "#f0f921"
             ]
            ],
            "type": "histogram2dcontour"
           }
          ],
          "mesh3d": [
           {
            "colorbar": {
             "outlinewidth": 0,
             "ticks": ""
            },
            "type": "mesh3d"
           }
          ],
          "parcoords": [
           {
            "line": {
             "colorbar": {
              "outlinewidth": 0,
              "ticks": ""
             }
            },
            "type": "parcoords"
           }
          ],
          "pie": [
           {
            "automargin": true,
            "type": "pie"
           }
          ],
          "scatter": [
           {
            "fillpattern": {
             "fillmode": "overlay",
             "size": 10,
             "solidity": 0.2
            },
            "type": "scatter"
           }
          ],
          "scatter3d": [
           {
            "line": {
             "colorbar": {
              "outlinewidth": 0,
              "ticks": ""
             }
            },
            "marker": {
             "colorbar": {
              "outlinewidth": 0,
              "ticks": ""
             }
            },
            "type": "scatter3d"
           }
          ],
          "scattercarpet": [
           {
            "marker": {
             "colorbar": {
              "outlinewidth": 0,
              "ticks": ""
             }
            },
            "type": "scattercarpet"
           }
          ],
          "scattergeo": [
           {
            "marker": {
             "colorbar": {
              "outlinewidth": 0,
              "ticks": ""
             }
            },
            "type": "scattergeo"
           }
          ],
          "scattergl": [
           {
            "marker": {
             "colorbar": {
              "outlinewidth": 0,
              "ticks": ""
             }
            },
            "type": "scattergl"
           }
          ],
          "scattermapbox": [
           {
            "marker": {
             "colorbar": {
              "outlinewidth": 0,
              "ticks": ""
             }
            },
            "type": "scattermapbox"
           }
          ],
          "scatterpolar": [
           {
            "marker": {
             "colorbar": {
              "outlinewidth": 0,
              "ticks": ""
             }
            },
            "type": "scatterpolar"
           }
          ],
          "scatterpolargl": [
           {
            "marker": {
             "colorbar": {
              "outlinewidth": 0,
              "ticks": ""
             }
            },
            "type": "scatterpolargl"
           }
          ],
          "scatterternary": [
           {
            "marker": {
             "colorbar": {
              "outlinewidth": 0,
              "ticks": ""
             }
            },
            "type": "scatterternary"
           }
          ],
          "surface": [
           {
            "colorbar": {
             "outlinewidth": 0,
             "ticks": ""
            },
            "colorscale": [
             [
              0,
              "#0d0887"
             ],
             [
              0.1111111111111111,
              "#46039f"
             ],
             [
              0.2222222222222222,
              "#7201a8"
             ],
             [
              0.3333333333333333,
              "#9c179e"
             ],
             [
              0.4444444444444444,
              "#bd3786"
             ],
             [
              0.5555555555555556,
              "#d8576b"
             ],
             [
              0.6666666666666666,
              "#ed7953"
             ],
             [
              0.7777777777777778,
              "#fb9f3a"
             ],
             [
              0.8888888888888888,
              "#fdca26"
             ],
             [
              1,
              "#f0f921"
             ]
            ],
            "type": "surface"
           }
          ],
          "table": [
           {
            "cells": {
             "fill": {
              "color": "#EBF0F8"
             },
             "line": {
              "color": "white"
             }
            },
            "header": {
             "fill": {
              "color": "#C8D4E3"
             },
             "line": {
              "color": "white"
             }
            },
            "type": "table"
           }
          ]
         },
         "layout": {
          "annotationdefaults": {
           "arrowcolor": "#2a3f5f",
           "arrowhead": 0,
           "arrowwidth": 1
          },
          "autotypenumbers": "strict",
          "coloraxis": {
           "colorbar": {
            "outlinewidth": 0,
            "ticks": ""
           }
          },
          "colorscale": {
           "diverging": [
            [
             0,
             "#8e0152"
            ],
            [
             0.1,
             "#c51b7d"
            ],
            [
             0.2,
             "#de77ae"
            ],
            [
             0.3,
             "#f1b6da"
            ],
            [
             0.4,
             "#fde0ef"
            ],
            [
             0.5,
             "#f7f7f7"
            ],
            [
             0.6,
             "#e6f5d0"
            ],
            [
             0.7,
             "#b8e186"
            ],
            [
             0.8,
             "#7fbc41"
            ],
            [
             0.9,
             "#4d9221"
            ],
            [
             1,
             "#276419"
            ]
           ],
           "sequential": [
            [
             0,
             "#0d0887"
            ],
            [
             0.1111111111111111,
             "#46039f"
            ],
            [
             0.2222222222222222,
             "#7201a8"
            ],
            [
             0.3333333333333333,
             "#9c179e"
            ],
            [
             0.4444444444444444,
             "#bd3786"
            ],
            [
             0.5555555555555556,
             "#d8576b"
            ],
            [
             0.6666666666666666,
             "#ed7953"
            ],
            [
             0.7777777777777778,
             "#fb9f3a"
            ],
            [
             0.8888888888888888,
             "#fdca26"
            ],
            [
             1,
             "#f0f921"
            ]
           ],
           "sequentialminus": [
            [
             0,
             "#0d0887"
            ],
            [
             0.1111111111111111,
             "#46039f"
            ],
            [
             0.2222222222222222,
             "#7201a8"
            ],
            [
             0.3333333333333333,
             "#9c179e"
            ],
            [
             0.4444444444444444,
             "#bd3786"
            ],
            [
             0.5555555555555556,
             "#d8576b"
            ],
            [
             0.6666666666666666,
             "#ed7953"
            ],
            [
             0.7777777777777778,
             "#fb9f3a"
            ],
            [
             0.8888888888888888,
             "#fdca26"
            ],
            [
             1,
             "#f0f921"
            ]
           ]
          },
          "colorway": [
           "#636efa",
           "#EF553B",
           "#00cc96",
           "#ab63fa",
           "#FFA15A",
           "#19d3f3",
           "#FF6692",
           "#B6E880",
           "#FF97FF",
           "#FECB52"
          ],
          "font": {
           "color": "#2a3f5f"
          },
          "geo": {
           "bgcolor": "white",
           "lakecolor": "white",
           "landcolor": "#E5ECF6",
           "showlakes": true,
           "showland": true,
           "subunitcolor": "white"
          },
          "hoverlabel": {
           "align": "left"
          },
          "hovermode": "closest",
          "mapbox": {
           "style": "light"
          },
          "paper_bgcolor": "white",
          "plot_bgcolor": "#E5ECF6",
          "polar": {
           "angularaxis": {
            "gridcolor": "white",
            "linecolor": "white",
            "ticks": ""
           },
           "bgcolor": "#E5ECF6",
           "radialaxis": {
            "gridcolor": "white",
            "linecolor": "white",
            "ticks": ""
           }
          },
          "scene": {
           "xaxis": {
            "backgroundcolor": "#E5ECF6",
            "gridcolor": "white",
            "gridwidth": 2,
            "linecolor": "white",
            "showbackground": true,
            "ticks": "",
            "zerolinecolor": "white"
           },
           "yaxis": {
            "backgroundcolor": "#E5ECF6",
            "gridcolor": "white",
            "gridwidth": 2,
            "linecolor": "white",
            "showbackground": true,
            "ticks": "",
            "zerolinecolor": "white"
           },
           "zaxis": {
            "backgroundcolor": "#E5ECF6",
            "gridcolor": "white",
            "gridwidth": 2,
            "linecolor": "white",
            "showbackground": true,
            "ticks": "",
            "zerolinecolor": "white"
           }
          },
          "shapedefaults": {
           "line": {
            "color": "#2a3f5f"
           }
          },
          "ternary": {
           "aaxis": {
            "gridcolor": "white",
            "linecolor": "white",
            "ticks": ""
           },
           "baxis": {
            "gridcolor": "white",
            "linecolor": "white",
            "ticks": ""
           },
           "bgcolor": "#E5ECF6",
           "caxis": {
            "gridcolor": "white",
            "linecolor": "white",
            "ticks": ""
           }
          },
          "title": {
           "x": 0.05
          },
          "xaxis": {
           "automargin": true,
           "gridcolor": "white",
           "linecolor": "white",
           "ticks": "",
           "title": {
            "standoff": 15
           },
           "zerolinecolor": "white",
           "zerolinewidth": 2
          },
          "yaxis": {
           "automargin": true,
           "gridcolor": "white",
           "linecolor": "white",
           "ticks": "",
           "title": {
            "standoff": 15
           },
           "zerolinecolor": "white",
           "zerolinewidth": 2
          }
         }
        },
        "title": {
         "text": "Ground Arcs for AC Type A300"
        },
        "xaxis": {
         "title": {
          "text": "Time"
         }
        },
        "yaxis": {
         "title": {
          "text": "Airport"
         }
        }
       }
      }
     },
     "metadata": {},
     "output_type": "display_data"
    }
   ],
   "source": [
    "import random\n",
    "import plotly.graph_objects as go\n",
    "\n",
    "for k in ac_list:\n",
    "    df = events[events['AC Type'] == k].sort_values(by=['Time'])\n",
    "    fig = go.Figure()\n",
    "    \n",
    "    # Set marker color based on 'D_A' column\n",
    "    marker_color = ['red' if d_a == 'Departure' else 'blue' for d_a in df['D_A']]\n",
    "    \n",
    "    # Add ground arcs\n",
    "    ground_arcs_k = ground_arcs[ground_arcs['AC Type'] == k]\n",
    "    for i, row in ground_arcs_k.iterrows():\n",
    "        # Generate a random color\n",
    "        random_color = '#' + ''.join(random.choices('0123456789ABCDEF', k=6))\n",
    "        fig.add_shape(\n",
    "            type=\"line\",\n",
    "            x0=row['Start Time'],\n",
    "            y0=row['Airport'],\n",
    "            x1=row['End Time'],\n",
    "            y1=row['Airport'],\n",
    "            line=dict(color=random_color, width=2)\n",
    "        )\n",
    "    \n",
    "    fig.add_trace(go.Scatter(\n",
    "        x=df['Time'], \n",
    "        y=df['Airport'], \n",
    "        mode='markers+text',\n",
    "        marker=dict(color=marker_color),\n",
    "        hovertemplate= '<b>Flight no.</b>: ' + df['Flight N'] + '<br>' ))\n",
    "    \n",
    "    \n",
    "    fig.update_layout(\n",
    "        title=\"Ground Arcs for AC Type \" + k,\n",
    "        xaxis_title=\"Time\",\n",
    "        yaxis_title=\"Airport\",\n",
    "    )\n",
    "    fig.show()\n"
   ]
  },
  {
   "cell_type": "code",
   "execution_count": 214,
   "metadata": {},
   "outputs": [
    {
     "data": {
      "text/plain": [
       "{('CL301', 'DC9'): {'Cost': 10000},\n",
       " ('CL302', 'DC9'): {'Cost': 10000},\n",
       " ('CL303', 'DC9'): {'Cost': 10000},\n",
       " ('CL331', 'DC9'): {'Cost': 10000},\n",
       " ('CL332', 'DC9'): {'Cost': 10000},\n",
       " ('CL333', 'DC9'): {'Cost': 10000},\n",
       " ('CL501', 'DC9'): {'Cost': 15000},\n",
       " ('CL502', 'DC9'): {'Cost': 15000},\n",
       " ('CL551', 'DC9'): {'Cost': 15000},\n",
       " ('CL552', 'DC9'): {'Cost': 15000},\n",
       " ('CL301', 'B737'): {'Cost': 12000},\n",
       " ('CL302', 'B737'): {'Cost': 12000},\n",
       " ('CL303', 'B737'): {'Cost': 12000},\n",
       " ('CL331', 'B737'): {'Cost': 12000},\n",
       " ('CL332', 'B737'): {'Cost': 12000},\n",
       " ('CL333', 'B737'): {'Cost': 12000},\n",
       " ('CL501', 'B737'): {'Cost': 17000},\n",
       " ('CL502', 'B737'): {'Cost': 17000},\n",
       " ('CL551', 'B737'): {'Cost': 17000},\n",
       " ('CL552', 'B737'): {'Cost': 17000},\n",
       " ('CL301', 'A300'): {'Cost': 15000},\n",
       " ('CL302', 'A300'): {'Cost': 15000},\n",
       " ('CL303', 'A300'): {'Cost': 15000},\n",
       " ('CL331', 'A300'): {'Cost': 15000},\n",
       " ('CL332', 'A300'): {'Cost': 15000},\n",
       " ('CL333', 'A300'): {'Cost': 15000},\n",
       " ('CL501', 'A300'): {'Cost': 20000},\n",
       " ('CL502', 'A300'): {'Cost': 20000},\n",
       " ('CL551', 'A300'): {'Cost': 20000},\n",
       " ('CL552', 'A300'): {'Cost': 20000}}"
      ]
     },
     "execution_count": 214,
     "metadata": {},
     "output_type": "execute_result"
    }
   ],
   "source": [
    "cost"
   ]
  },
  {
   "cell_type": "code",
   "execution_count": 218,
   "metadata": {},
   "outputs": [
    {
     "ename": "KeyError",
     "evalue": "('Flight no.', 'CL301')",
     "output_type": "error",
     "traceback": [
      "\u001b[0;31m---------------------------------------------------------------------------\u001b[0m",
      "\u001b[0;31mKeyError\u001b[0m                                  Traceback (most recent call last)",
      "\u001b[1;32m/Users/allanguzmanf/Library/CloudStorage/OneDrive-Personal/6. TU Delft/AE4423 - Airline Planning and Optimization/AE4426/Example_FAM.ipynb Cell 17\u001b[0m line \u001b[0;36m2\n\u001b[1;32m     <a href='vscode-notebook-cell:/Users/allanguzmanf/Library/CloudStorage/OneDrive-Personal/6.%20TU%20Delft/AE4423%20-%20Airline%20Planning%20and%20Optimization/AE4426/Example_FAM.ipynb#X21sZmlsZQ%3D%3D?line=17'>18</a>\u001b[0m m\u001b[39m.\u001b[39mupdate()\n\u001b[1;32m     <a href='vscode-notebook-cell:/Users/allanguzmanf/Library/CloudStorage/OneDrive-Personal/6.%20TU%20Delft/AE4423%20-%20Airline%20Planning%20and%20Optimization/AE4426/Example_FAM.ipynb#X21sZmlsZQ%3D%3D?line=19'>20</a>\u001b[0m \u001b[39m# Define the objective function\u001b[39;00m\n\u001b[1;32m     <a href='vscode-notebook-cell:/Users/allanguzmanf/Library/CloudStorage/OneDrive-Personal/6.%20TU%20Delft/AE4423%20-%20Airline%20Planning%20and%20Optimization/AE4426/Example_FAM.ipynb#X21sZmlsZQ%3D%3D?line=20'>21</a>\u001b[0m \u001b[39m# m.setObjective(gp.quicksum(aircraft[k]['CASK']/100 *        # Cost per Available Seat Kilometer\u001b[39;00m\n\u001b[1;32m     <a href='vscode-notebook-cell:/Users/allanguzmanf/Library/CloudStorage/OneDrive-Personal/6.%20TU%20Delft/AE4423%20-%20Airline%20Planning%20and%20Optimization/AE4426/Example_FAM.ipynb#X21sZmlsZQ%3D%3D?line=21'>22</a>\u001b[0m \u001b[39m#                            aircraft[k]['Seats'] *       # Number of seats\u001b[39;00m\n\u001b[1;32m     <a href='vscode-notebook-cell:/Users/allanguzmanf/Library/CloudStorage/OneDrive-Personal/6.%20TU%20Delft/AE4423%20-%20Airline%20Planning%20and%20Optimization/AE4426/Example_FAM.ipynb#X21sZmlsZQ%3D%3D?line=22'>23</a>\u001b[0m \u001b[39m#                            flights[i][k]['Distance'] *     # Distance\u001b[39;00m\n\u001b[1;32m     <a href='vscode-notebook-cell:/Users/allanguzmanf/Library/CloudStorage/OneDrive-Personal/6.%20TU%20Delft/AE4423%20-%20Airline%20Planning%20and%20Optimization/AE4426/Example_FAM.ipynb#X21sZmlsZQ%3D%3D?line=23'>24</a>\u001b[0m \u001b[39m#                            f[i,k]                       # Binary variable\u001b[39;00m\n\u001b[1;32m     <a href='vscode-notebook-cell:/Users/allanguzmanf/Library/CloudStorage/OneDrive-Personal/6.%20TU%20Delft/AE4423%20-%20Airline%20Planning%20and%20Optimization/AE4426/Example_FAM.ipynb#X21sZmlsZQ%3D%3D?line=24'>25</a>\u001b[0m \u001b[39m#                            for i in flights for k in flights[i]), GRB.MINIMIZE)\u001b[39;00m\n\u001b[0;32m---> <a href='vscode-notebook-cell:/Users/allanguzmanf/Library/CloudStorage/OneDrive-Personal/6.%20TU%20Delft/AE4423%20-%20Airline%20Planning%20and%20Optimization/AE4426/Example_FAM.ipynb#X21sZmlsZQ%3D%3D?line=26'>27</a>\u001b[0m m\u001b[39m.\u001b[39msetObjective(gp\u001b[39m.\u001b[39;49mquicksum(cost[i,k][\u001b[39m'\u001b[39;49m\u001b[39mCost\u001b[39;49m\u001b[39m'\u001b[39;49m] \u001b[39m*\u001b[39;49m     \u001b[39m# Distance\u001b[39;49;00m\n\u001b[1;32m     <a href='vscode-notebook-cell:/Users/allanguzmanf/Library/CloudStorage/OneDrive-Personal/6.%20TU%20Delft/AE4423%20-%20Airline%20Planning%20and%20Optimization/AE4426/Example_FAM.ipynb#X21sZmlsZQ%3D%3D?line=27'>28</a>\u001b[0m                            f[i,k]                       \u001b[39m# Binary variable\u001b[39;49;00m\n\u001b[1;32m     <a href='vscode-notebook-cell:/Users/allanguzmanf/Library/CloudStorage/OneDrive-Personal/6.%20TU%20Delft/AE4423%20-%20Airline%20Planning%20and%20Optimization/AE4426/Example_FAM.ipynb#X21sZmlsZQ%3D%3D?line=28'>29</a>\u001b[0m                            \u001b[39mfor\u001b[39;49;00m i \u001b[39min\u001b[39;49;00m flights \u001b[39mfor\u001b[39;49;00m k \u001b[39min\u001b[39;49;00m flights[i]), GRB\u001b[39m.\u001b[39mMINIMIZE)\n\u001b[1;32m     <a href='vscode-notebook-cell:/Users/allanguzmanf/Library/CloudStorage/OneDrive-Personal/6.%20TU%20Delft/AE4423%20-%20Airline%20Planning%20and%20Optimization/AE4426/Example_FAM.ipynb#X21sZmlsZQ%3D%3D?line=30'>31</a>\u001b[0m \u001b[39m# Define the constraints\u001b[39;00m\n\u001b[1;32m     <a href='vscode-notebook-cell:/Users/allanguzmanf/Library/CloudStorage/OneDrive-Personal/6.%20TU%20Delft/AE4423%20-%20Airline%20Planning%20and%20Optimization/AE4426/Example_FAM.ipynb#X21sZmlsZQ%3D%3D?line=31'>32</a>\u001b[0m \u001b[39m# Constraint 1: Each flight is assigned to exactly one aircraft type\u001b[39;00m\n\u001b[1;32m     <a href='vscode-notebook-cell:/Users/allanguzmanf/Library/CloudStorage/OneDrive-Personal/6.%20TU%20Delft/AE4423%20-%20Airline%20Planning%20and%20Optimization/AE4426/Example_FAM.ipynb#X21sZmlsZQ%3D%3D?line=32'>33</a>\u001b[0m \u001b[39mfor\u001b[39;00m i \u001b[39min\u001b[39;00m flights:\n",
      "File \u001b[0;32msrc/gurobipy/gurobi.pxi:3706\u001b[0m, in \u001b[0;36mgurobipy.quicksum\u001b[0;34m()\u001b[0m\n",
      "\u001b[1;32m/Users/allanguzmanf/Library/CloudStorage/OneDrive-Personal/6. TU Delft/AE4423 - Airline Planning and Optimization/AE4426/Example_FAM.ipynb Cell 17\u001b[0m line \u001b[0;36m2\n\u001b[1;32m     <a href='vscode-notebook-cell:/Users/allanguzmanf/Library/CloudStorage/OneDrive-Personal/6.%20TU%20Delft/AE4423%20-%20Airline%20Planning%20and%20Optimization/AE4426/Example_FAM.ipynb#X21sZmlsZQ%3D%3D?line=17'>18</a>\u001b[0m m\u001b[39m.\u001b[39mupdate()\n\u001b[1;32m     <a href='vscode-notebook-cell:/Users/allanguzmanf/Library/CloudStorage/OneDrive-Personal/6.%20TU%20Delft/AE4423%20-%20Airline%20Planning%20and%20Optimization/AE4426/Example_FAM.ipynb#X21sZmlsZQ%3D%3D?line=19'>20</a>\u001b[0m \u001b[39m# Define the objective function\u001b[39;00m\n\u001b[1;32m     <a href='vscode-notebook-cell:/Users/allanguzmanf/Library/CloudStorage/OneDrive-Personal/6.%20TU%20Delft/AE4423%20-%20Airline%20Planning%20and%20Optimization/AE4426/Example_FAM.ipynb#X21sZmlsZQ%3D%3D?line=20'>21</a>\u001b[0m \u001b[39m# m.setObjective(gp.quicksum(aircraft[k]['CASK']/100 *        # Cost per Available Seat Kilometer\u001b[39;00m\n\u001b[1;32m     <a href='vscode-notebook-cell:/Users/allanguzmanf/Library/CloudStorage/OneDrive-Personal/6.%20TU%20Delft/AE4423%20-%20Airline%20Planning%20and%20Optimization/AE4426/Example_FAM.ipynb#X21sZmlsZQ%3D%3D?line=21'>22</a>\u001b[0m \u001b[39m#                            aircraft[k]['Seats'] *       # Number of seats\u001b[39;00m\n\u001b[1;32m     <a href='vscode-notebook-cell:/Users/allanguzmanf/Library/CloudStorage/OneDrive-Personal/6.%20TU%20Delft/AE4423%20-%20Airline%20Planning%20and%20Optimization/AE4426/Example_FAM.ipynb#X21sZmlsZQ%3D%3D?line=22'>23</a>\u001b[0m \u001b[39m#                            flights[i][k]['Distance'] *     # Distance\u001b[39;00m\n\u001b[1;32m     <a href='vscode-notebook-cell:/Users/allanguzmanf/Library/CloudStorage/OneDrive-Personal/6.%20TU%20Delft/AE4423%20-%20Airline%20Planning%20and%20Optimization/AE4426/Example_FAM.ipynb#X21sZmlsZQ%3D%3D?line=23'>24</a>\u001b[0m \u001b[39m#                            f[i,k]                       # Binary variable\u001b[39;00m\n\u001b[1;32m     <a href='vscode-notebook-cell:/Users/allanguzmanf/Library/CloudStorage/OneDrive-Personal/6.%20TU%20Delft/AE4423%20-%20Airline%20Planning%20and%20Optimization/AE4426/Example_FAM.ipynb#X21sZmlsZQ%3D%3D?line=24'>25</a>\u001b[0m \u001b[39m#                            for i in flights for k in flights[i]), GRB.MINIMIZE)\u001b[39;00m\n\u001b[0;32m---> <a href='vscode-notebook-cell:/Users/allanguzmanf/Library/CloudStorage/OneDrive-Personal/6.%20TU%20Delft/AE4423%20-%20Airline%20Planning%20and%20Optimization/AE4426/Example_FAM.ipynb#X21sZmlsZQ%3D%3D?line=26'>27</a>\u001b[0m m\u001b[39m.\u001b[39msetObjective(gp\u001b[39m.\u001b[39mquicksum(cost[i,k][\u001b[39m'\u001b[39m\u001b[39mCost\u001b[39m\u001b[39m'\u001b[39m] \u001b[39m*\u001b[39m     \u001b[39m# Distance\u001b[39;00m\n\u001b[1;32m     <a href='vscode-notebook-cell:/Users/allanguzmanf/Library/CloudStorage/OneDrive-Personal/6.%20TU%20Delft/AE4423%20-%20Airline%20Planning%20and%20Optimization/AE4426/Example_FAM.ipynb#X21sZmlsZQ%3D%3D?line=27'>28</a>\u001b[0m                            f[i,k]                       \u001b[39m# Binary variable\u001b[39;00m\n\u001b[1;32m     <a href='vscode-notebook-cell:/Users/allanguzmanf/Library/CloudStorage/OneDrive-Personal/6.%20TU%20Delft/AE4423%20-%20Airline%20Planning%20and%20Optimization/AE4426/Example_FAM.ipynb#X21sZmlsZQ%3D%3D?line=28'>29</a>\u001b[0m                            \u001b[39mfor\u001b[39;00m i \u001b[39min\u001b[39;00m flights \u001b[39mfor\u001b[39;00m k \u001b[39min\u001b[39;00m flights[i]), GRB\u001b[39m.\u001b[39mMINIMIZE)\n\u001b[1;32m     <a href='vscode-notebook-cell:/Users/allanguzmanf/Library/CloudStorage/OneDrive-Personal/6.%20TU%20Delft/AE4423%20-%20Airline%20Planning%20and%20Optimization/AE4426/Example_FAM.ipynb#X21sZmlsZQ%3D%3D?line=30'>31</a>\u001b[0m \u001b[39m# Define the constraints\u001b[39;00m\n\u001b[1;32m     <a href='vscode-notebook-cell:/Users/allanguzmanf/Library/CloudStorage/OneDrive-Personal/6.%20TU%20Delft/AE4423%20-%20Airline%20Planning%20and%20Optimization/AE4426/Example_FAM.ipynb#X21sZmlsZQ%3D%3D?line=31'>32</a>\u001b[0m \u001b[39m# Constraint 1: Each flight is assigned to exactly one aircraft type\u001b[39;00m\n\u001b[1;32m     <a href='vscode-notebook-cell:/Users/allanguzmanf/Library/CloudStorage/OneDrive-Personal/6.%20TU%20Delft/AE4423%20-%20Airline%20Planning%20and%20Optimization/AE4426/Example_FAM.ipynb#X21sZmlsZQ%3D%3D?line=32'>33</a>\u001b[0m \u001b[39mfor\u001b[39;00m i \u001b[39min\u001b[39;00m flights:\n",
      "\u001b[0;31mKeyError\u001b[0m: ('Flight no.', 'CL301')"
     ]
    }
   ],
   "source": [
    "# Define the model\n",
    "m = gp.Model('FAM')\n",
    "\n",
    "# Define the decision variables\n",
    "# f[i,k] 1 if flight arc i is assigned to aircraft type k, 0 otherwise\n",
    "f = {}\n",
    "\n",
    "for i in flights:\n",
    "    for k in flights[i]:\n",
    "        f[i, k] = m.addVar(vtype=GRB.BINARY, name='f_' + str(i) + '_' + str(k))\n",
    "\n",
    "# y_ak = number of aircraft of type k on the ground arc a (integer with lowerbound 0)\n",
    "y = {}\n",
    "for k in ac_list:\n",
    "    for a in list(ground_arcs[(ground_arcs['AC Type'] == k)]['Arc ID']):\n",
    "        y[a, k] = m.addVar(vtype=GRB.INTEGER, name='y_' + str(a) + '_' + str(k))\n",
    "\n",
    "m.update()\n",
    "\n",
    "# Define the objective function\n",
    "# m.setObjective(gp.quicksum(aircraft[k]['CASK']/100 *        # Cost per Available Seat Kilometer\n",
    "#                            aircraft[k]['Seats'] *       # Number of seats\n",
    "#                            flights[i][k]['Distance'] *     # Distance\n",
    "#                            f[i,k]                       # Binary variable\n",
    "#                            for i in flights for k in flights[i]), GRB.MINIMIZE)\n",
    "\n",
    "m.setObjective(gp.quicksum(cost[i,k]['Cost'] *     # Distance\n",
    "                           f[i,k]                       # Binary variable\n",
    "                           for i in flights for k in flights[i]), GRB.MINIMIZE)\n",
    "\n",
    "# Define the constraints\n",
    "# Constraint 1: Each flight is assigned to exactly one aircraft type\n",
    "for i in flights:\n",
    "    m.addConstr((gp.quicksum(f[i,k] for k in flights[i]) == 1), name='one_ac')\n",
    "\n",
    "# Constraint 2: The number of AC arriving = AC departing, for each type at each node\n",
    "# y_n+_k + sum(f_i,k) = y_n-_k + sum(f_i,k)\n",
    "for k in ac_list:\n",
    "    for n in airports:\n",
    "        for i in nodes[k][n]:\n",
    "            m.addConstr((y[nodes[k][n][i]['n+'][0], k] + gp.quicksum(f[w,k] for w in nodes[k][n][i]['Departures']) == \n",
    "                         y[nodes[k][n][i]['n-'][0], k] + gp.quicksum(f[w,k] for w in nodes[k][n][i]['Arrivals']) ),\n",
    "                         name='balance_' + str(i) + '_' + str(k) + '_' + str(n))\n",
    "\n",
    "# Constraint 3: The number of overnight arcs + the number of overnight flights = the number of aircraft of each type \n",
    "# using overnight_arcs and overnight_flights\n",
    "# sum(y_a,k) + sum(f_i,k) = number of aircraft of type k\n",
    "for k in ac_list:\n",
    "    m.addConstr((gp.quicksum(y[a, k] for a in list(overnight_arcs[(overnight_arcs['AC Type'] == k)]['Arc ID'])) + \n",
    "                 gp.quicksum(f[i,k] for i in list(overnight_flights[(overnight_flights['AC Type'] == k)]['Flight no.'])) \n",
    "                 == aircraft[k]['Fleet']), name='overnight_' + str(k))\n",
    "\n",
    "m.update()"
   ]
  },
  {
   "cell_type": "code",
   "execution_count": 159,
   "metadata": {},
   "outputs": [
    {
     "name": "stdout",
     "output_type": "stream",
     "text": [
      "Optimal solution: 462.7\n"
     ]
    }
   ],
   "source": [
    "# Optimize the model but dont print the output\n",
    "m.Params.OutputFlag = 0\n",
    "m.optimize()\n",
    "print('Optimal solution: %0.1f' % (m.objVal / 1000))"
   ]
  },
  {
   "cell_type": "code",
   "execution_count": 133,
   "metadata": {},
   "outputs": [
    {
     "name": "stdout",
     "output_type": "stream",
     "text": [
      "A310_YTO_0 | A310 | YTO | 02:45:00 | y_A310_YTO_0_A310 (n+) + f_S4223_A310 (f+) = y_A310_YTO_1_A310 (n-)\n",
      "A310_YTO_1 | A310 | YTO | 00:25:00 | y_A310_YTO_1_A310 (n+) = y_A310_YTO_0_A310 (n-) + f_S4222_A310 (f-)\n",
      "A310_FNC_0 | A310 | FNC | 17:05:00 | y_A310_FNC_0_A310 (n+) + f_S4161_A310 (f+) = y_A310_FNC_1_A310 (n-)\n",
      "A310_FNC_1 | A310 | FNC | 13:25:00 | y_A310_FNC_1_A310 (n+) = y_A310_FNC_0_A310 (n-) + f_S4160_A310 (f-)\n",
      "A310_OPO_0 | A310 | OPO | 21:50:00 | y_A310_OPO_0_A310 (n+) = y_A310_OPO_3_A310 (n-) + f_S4212_A310 (f-)\n",
      "A310_OPO_1 | A310 | OPO | 12:25:00 | y_A310_OPO_1_A310 (n+) = y_A310_OPO_0_A310 (n-) + f_S4320_A310 (f-)\n",
      "A310_OPO_2 | A310 | OPO | 13:30:00 | y_A310_OPO_2_A310 (n+) + f_S4321_A310 (f+) = y_A310_OPO_1_A310 (n-)\n",
      "A310_OPO_3 | A310 | OPO | 19:05:00 | y_A310_OPO_3_A310 (n+) + f_S4213_A310 (f+) = y_A310_OPO_2_A310 (n-)\n",
      "A310_BOS_0 | A310 | BOS | 22:25:00 | y_A310_BOS_0_A310 (n+) = y_A310_BOS_1_A310 (n-) + f_S4221_A310 (f-)\n",
      "A310_BOS_1 | A310 | BOS | 03:15:00 | y_A310_BOS_1_A310 (n+) + f_S422X_A310 (f+) = y_A310_BOS_0_A310 (n-)\n",
      "A310_PDL_0 | A310 | PDL | 22:05:00 | y_A310_PDL_0_A310 (n+) + f_S4128_A310 (f+) = y_A310_PDL_15_A310 (n-) + f_S4213_A310 (f-)\n",
      "A310_PDL_1 | A310 | PDL | 08:40:00 | y_A310_PDL_1_A310 (n+) = y_A310_PDL_0_A310 (n-) + f_S422X_A310 (f-)\n",
      "A310_PDL_2 | A310 | PDL | 16:05:00 | y_A310_PDL_10_A310 (n+) + f_S4124_A310 (f+) = y_A310_PDL_9_A310 (n-)\n",
      "A310_PDL_3 | A310 | PDL | 16:30:00 | y_A310_PDL_11_A310 (n+) = y_A310_PDL_10_A310 (n-) + f_S4321_A310 (f-)\n",
      "A310_PDL_4 | A310 | PDL | 17:10:00 | y_A310_PDL_12_A310 (n+) + f_S4222_A310 (f+) = y_A310_PDL_11_A310 (n-)\n",
      "A310_PDL_5 | A310 | PDL | 19:00:00 | y_A310_PDL_13_A310 (n+) + f_S4212_A310 (f+) = y_A310_PDL_12_A310 (n-)\n",
      "A310_PDL_6 | A310 | PDL | 19:50:00 | y_A310_PDL_14_A310 (n+) = y_A310_PDL_13_A310 (n-) + f_S4161_A310 (f-)\n",
      "A310_PDL_7 | A310 | PDL | 21:45:00 | y_A310_PDL_15_A310 (n+) = y_A310_PDL_14_A310 (n-) + f_S4129_A310 (f-)\n",
      "A310_PDL_8 | A310 | PDL | 09:00:00 | y_A310_PDL_2_A310 (n+) = y_A310_PDL_1_A310 (n-) + f_S4223_A310 (f-)\n",
      "A310_PDL_9 | A310 | PDL | 09:25:00 | y_A310_PDL_3_A310 (n+) + f_S4120_A310 (f+) = y_A310_PDL_2_A310 (n-) + f_S4121_A310 (f-)\n",
      "A310_PDL_10 | A310 | PDL | 09:35:00 | y_A310_PDL_4_A310 (n+) + f_S4320_A310 (f+) = y_A310_PDL_3_A310 (n-)\n",
      "A310_PDL_11 | A310 | PDL | 10:35:00 | y_A310_PDL_5_A310 (n+) + f_S4160_A310 (f+) = y_A310_PDL_4_A310 (n-)\n",
      "A310_PDL_12 | A310 | PDL | 11:10:00 | y_A310_PDL_6_A310 (n+) = y_A310_PDL_5_A310 (n-) + f_S422Y_A310 (f-)\n",
      "A310_PDL_13 | A310 | PDL | 11:20:00 | y_A310_PDL_7_A310 (n+) + f_S4220_A310 (f+) = y_A310_PDL_6_A310 (n-)\n",
      "A310_PDL_14 | A310 | PDL | 15:15:00 | y_A310_PDL_8_A310 (n+) = y_A310_PDL_7_A310 (n-) + f_S4125_A310 (f-)\n",
      "A310_PDL_15 | A310 | PDL | 16:00:00 | y_A310_PDL_9_A310 (n+) + f_S4221_A310 (f+) = y_A310_PDL_8_A310 (n-)\n",
      "A310_LIS_0 | A310 | LIS | 18:50:00 | y_A310_LIS_0_A310 (n+) + f_S4129_A310 (f+) = y_A310_LIS_6_A310 (n-) + f_S4124_A310 (f-)\n",
      "A310_LIS_1 | A310 | LIS | 00:50:00 | y_A310_LIS_1_A310 (n+) = y_A310_LIS_0_A310 (n-) + f_S4128_A310 (f-)\n",
      "A310_LIS_2 | A310 | LIS | 06:30:00 | y_A310_LIS_2_A310 (n+) + f_S4121_A310 (f+) = y_A310_LIS_1_A310 (n-)\n",
      "A310_LIS_3 | A310 | LIS | 08:05:00 | y_A310_LIS_3_A310 (n+) + f_S422Y_A310 (f+) = y_A310_LIS_2_A310 (n-)\n",
      "A310_LIS_4 | A310 | LIS | 11:00:00 | y_A310_LIS_4_A310 (n+) + f_S4125_A310 (f+) = y_A310_LIS_3_A310 (n-)\n",
      "A310_LIS_5 | A310 | LIS | 12:10:00 | y_A310_LIS_5_A310 (n+) = y_A310_LIS_4_A310 (n-) + f_S4120_A310 (f-)\n",
      "A310_LIS_6 | A310 | LIS | 14:05:00 | y_A310_LIS_6_A310 (n+) = y_A310_LIS_5_A310 (n-) + f_S4220_A310 (f-)\n",
      "A320_FNC_0 | A320 | FNC | 17:05:00 | y_A320_FNC_0_A320 (n+) + f_S4161_A320 (f+) = y_A320_FNC_1_A320 (n-)\n",
      "A320_FNC_1 | A320 | FNC | 13:10:00 | y_A320_FNC_1_A320 (n+) = y_A320_FNC_0_A320 (n-) + f_S4160_A320 (f-)\n",
      "A320_OPO_0 | A320 | OPO | 21:35:00 | y_A320_OPO_0_A320 (n+) = y_A320_OPO_3_A320 (n-) + f_S4212_A320 (f-)\n",
      "A320_OPO_1 | A320 | OPO | 12:10:00 | y_A320_OPO_1_A320 (n+) = y_A320_OPO_0_A320 (n-) + f_S4320_A320 (f-)\n",
      "A320_OPO_2 | A320 | OPO | 13:30:00 | y_A320_OPO_2_A320 (n+) + f_S4321_A320 (f+) = y_A320_OPO_1_A320 (n-)\n",
      "A320_OPO_3 | A320 | OPO | 19:05:00 | y_A320_OPO_3_A320 (n+) + f_S4213_A320 (f+) = y_A320_OPO_2_A320 (n-)\n",
      "A320_PDL_0 | A320 | PDL | 22:05:00 | y_A320_PDL_0_A320 (n+) + f_S4128_A320 (f+) = y_A320_PDL_13_A320 (n-)\n",
      "A320_PDL_1 | A320 | PDL | 09:10:00 | y_A320_PDL_1_A320 (n+) = y_A320_PDL_0_A320 (n-) + f_S4121_A320 (f-)\n",
      "A320_PDL_2 | A320 | PDL | 19:00:00 | y_A320_PDL_10_A320 (n+) + f_S4212_A320 (f+) = y_A320_PDL_9_A320 (n-)\n",
      "A320_PDL_3 | A320 | PDL | 19:35:00 | y_A320_PDL_11_A320 (n+) = y_A320_PDL_10_A320 (n-) + f_S4161_A320 (f-)\n",
      "A320_PDL_4 | A320 | PDL | 21:30:00 | y_A320_PDL_12_A320 (n+) = y_A320_PDL_11_A320 (n-) + f_S4129_A320 (f-)\n",
      "A320_PDL_5 | A320 | PDL | 21:50:00 | y_A320_PDL_13_A320 (n+) = y_A320_PDL_12_A320 (n-) + f_S4213_A320 (f-)\n",
      "A320_PDL_6 | A320 | PDL | 09:25:00 | y_A320_PDL_2_A320 (n+) + f_S4120_A320 (f+) = y_A320_PDL_1_A320 (n-)\n",
      "A320_PDL_7 | A320 | PDL | 09:35:00 | y_A320_PDL_3_A320 (n+) + f_S4320_A320 (f+) = y_A320_PDL_2_A320 (n-)\n",
      "A320_PDL_8 | A320 | PDL | 10:35:00 | y_A320_PDL_4_A320 (n+) + f_S4160_A320 (f+) = y_A320_PDL_3_A320 (n-)\n",
      "A320_PDL_9 | A320 | PDL | 10:55:00 | y_A320_PDL_5_A320 (n+) = y_A320_PDL_4_A320 (n-) + f_S422Y_A320 (f-)\n",
      "A320_PDL_10 | A320 | PDL | 11:20:00 | y_A320_PDL_6_A320 (n+) + f_S4220_A320 (f+) = y_A320_PDL_5_A320 (n-)\n",
      "A320_PDL_11 | A320 | PDL | 15:00:00 | y_A320_PDL_7_A320 (n+) = y_A320_PDL_6_A320 (n-) + f_S4125_A320 (f-)\n",
      "A320_PDL_12 | A320 | PDL | 16:05:00 | y_A320_PDL_8_A320 (n+) + f_S4124_A320 (f+) = y_A320_PDL_7_A320 (n-)\n",
      "A320_PDL_13 | A320 | PDL | 16:15:00 | y_A320_PDL_9_A320 (n+) = y_A320_PDL_8_A320 (n-) + f_S4321_A320 (f-)\n",
      "A320_LIS_0 | A320 | LIS | 18:50:00 | y_A320_LIS_0_A320 (n+) + f_S4129_A320 (f+) = y_A320_LIS_7_A320 (n-)\n",
      "A320_LIS_1 | A320 | LIS | 00:35:00 | y_A320_LIS_1_A320 (n+) = y_A320_LIS_0_A320 (n-) + f_S4128_A320 (f-)\n",
      "A320_LIS_2 | A320 | LIS | 06:30:00 | y_A320_LIS_2_A320 (n+) + f_S4121_A320 (f+) = y_A320_LIS_1_A320 (n-)\n",
      "A320_LIS_3 | A320 | LIS | 08:05:00 | y_A320_LIS_3_A320 (n+) + f_S422Y_A320 (f+) = y_A320_LIS_2_A320 (n-)\n",
      "A320_LIS_4 | A320 | LIS | 11:00:00 | y_A320_LIS_4_A320 (n+) + f_S4125_A320 (f+) = y_A320_LIS_3_A320 (n-)\n",
      "A320_LIS_5 | A320 | LIS | 11:55:00 | y_A320_LIS_5_A320 (n+) = y_A320_LIS_4_A320 (n-) + f_S4120_A320 (f-)\n",
      "A320_LIS_6 | A320 | LIS | 13:50:00 | y_A320_LIS_6_A320 (n+) = y_A320_LIS_5_A320 (n-) + f_S4220_A320 (f-)\n",
      "A320_LIS_7 | A320 | LIS | 18:35:00 | y_A320_LIS_7_A320 (n+) = y_A320_LIS_6_A320 (n-) + f_S4124_A320 (f-)\n"
     ]
    }
   ],
   "source": [
    "for k in ac_list:\n",
    "    for n in airports:\n",
    "        for i in nodes[k][n]:\n",
    "            # val = 0\n",
    "            s = str(i) + \" | \" + str(k) + \" | \"  + str(n)+ \" | \" +str(nodes[k][n][i]['Time']) + \" | \" \n",
    "            s += str(y[nodes[k][n][i]['n+'][0], k].varName) + ' (n+)'\n",
    "            # val += y[nodes[k][n][i]['n+'][0], k].varName\n",
    "            for w in nodes[k][n][i]['Departures']:\n",
    "                s += ' + ' + str(f[w, k].varName) + ' (f+)'\n",
    "                # val += f[w, k].varName\n",
    "            s += ' = ' + str(y[nodes[k][n][i]['n-'][0], k].varName)  + ' (n-)'\n",
    "            # val -= y[nodes[k][n][i]['n-'][0], k].varName\n",
    "            for w in nodes[k][n][i]['Arrivals']:\n",
    "                s += ' + ' + str(f[w, k].varName) + ' (f-)'\n",
    "                # val -= f[w, k].varName\n",
    "            # s += ' = ' + str(val)\n",
    "            print(s)"
   ]
  },
  {
   "cell_type": "code",
   "execution_count": 134,
   "metadata": {},
   "outputs": [
    {
     "name": "stdout",
     "output_type": "stream",
     "text": [
      "A310_YTO_0 | A310 | YTO | 02:45:00 | -0.0 (n+) + 1.0 (f+) = 1.0 (n-) = 0.0\n",
      "A310_YTO_1 | A310 | YTO | 00:25:00 | 1.0 (n+) = -0.0 (n-) + 1.0 (f-) = 0.0\n",
      "A310_FNC_0 | A310 | FNC | 17:05:00 | -0.0 (n+) + 1.0 (f+) = 1.0 (n-) = 0.0\n",
      "A310_FNC_1 | A310 | FNC | 13:25:00 | 1.0 (n+) = -0.0 (n-) + 1.0 (f-) = 0.0\n",
      "A310_OPO_0 | A310 | OPO | 21:50:00 | 0.0 (n+) = 0.0 (n-) + -0.0 (f-) = 0.0\n",
      "A310_OPO_1 | A310 | OPO | 12:25:00 | 0.0 (n+) = 0.0 (n-) + -0.0 (f-) = 0.0\n",
      "A310_OPO_2 | A310 | OPO | 13:30:00 | 0.0 (n+) + -0.0 (f+) = 0.0 (n-) = 0.0\n",
      "A310_OPO_3 | A310 | OPO | 19:05:00 | 0.0 (n+) + -0.0 (f+) = 0.0 (n-) = 0.0\n",
      "A310_BOS_0 | A310 | BOS | 22:25:00 | 3.0 (n+) = 2.0 (n-) + 1.0 (f-) = 0.0\n",
      "A310_BOS_1 | A310 | BOS | 03:15:00 | 2.0 (n+) + 1.0 (f+) = 3.0 (n-) = 0.0\n",
      "A310_PDL_0 | A310 | PDL | 22:05:00 | 1.0 (n+) + -0.0 (f+) = 1.0 (n-) + -0.0 (f-) = 0.0\n",
      "A310_PDL_1 | A310 | PDL | 08:40:00 | 2.0 (n+) = 1.0 (n-) + 1.0 (f-) = 0.0\n",
      "A310_PDL_2 | A310 | PDL | 16:05:00 | 1.0 (n+) + -0.0 (f+) = 1.0 (n-) = 0.0\n",
      "A310_PDL_3 | A310 | PDL | 16:30:00 | 1.0 (n+) = 1.0 (n-) + -0.0 (f-) = 0.0\n",
      "A310_PDL_4 | A310 | PDL | 17:10:00 | 0.0 (n+) + 1.0 (f+) = 1.0 (n-) = 0.0\n",
      "A310_PDL_5 | A310 | PDL | 19:00:00 | -0.0 (n+) + -0.0 (f+) = 0.0 (n-) = 0.0\n",
      "A310_PDL_6 | A310 | PDL | 19:50:00 | 1.0 (n+) = -0.0 (n-) + 1.0 (f-) = 0.0\n",
      "A310_PDL_7 | A310 | PDL | 21:45:00 | 1.0 (n+) = 1.0 (n-) + -0.0 (f-) = 0.0\n",
      "A310_PDL_8 | A310 | PDL | 09:00:00 | 3.0 (n+) = 2.0 (n-) + 1.0 (f-) = 0.0\n",
      "A310_PDL_9 | A310 | PDL | 09:25:00 | 3.0 (n+) + -0.0 (f+) = 3.0 (n-) + -0.0 (f-) = 0.0\n",
      "A310_PDL_10 | A310 | PDL | 09:35:00 | 3.0 (n+) + -0.0 (f+) = 3.0 (n-) = 0.0\n",
      "A310_PDL_11 | A310 | PDL | 10:35:00 | 2.0 (n+) + 1.0 (f+) = 3.0 (n-) = 0.0\n",
      "A310_PDL_12 | A310 | PDL | 11:10:00 | 2.0 (n+) = 2.0 (n-) + -0.0 (f-) = 0.0\n",
      "A310_PDL_13 | A310 | PDL | 11:20:00 | 2.0 (n+) + -0.0 (f+) = 2.0 (n-) = 0.0\n",
      "A310_PDL_14 | A310 | PDL | 15:15:00 | 2.0 (n+) = 2.0 (n-) + -0.0 (f-) = 0.0\n",
      "A310_PDL_15 | A310 | PDL | 16:00:00 | 1.0 (n+) + 1.0 (f+) = 2.0 (n-) = 0.0\n",
      "A310_LIS_0 | A310 | LIS | 18:50:00 | -0.0 (n+) + -0.0 (f+) = 0.0 (n-) + -0.0 (f-) = 0.0\n",
      "A310_LIS_1 | A310 | LIS | 00:50:00 | 0.0 (n+) = -0.0 (n-) + -0.0 (f-) = 0.0\n",
      "A310_LIS_2 | A310 | LIS | 06:30:00 | -0.0 (n+) + -0.0 (f+) = 0.0 (n-) = 0.0\n",
      "A310_LIS_3 | A310 | LIS | 08:05:00 | 0.0 (n+) + -0.0 (f+) = -0.0 (n-) = 0.0\n",
      "A310_LIS_4 | A310 | LIS | 11:00:00 | -0.0 (n+) + -0.0 (f+) = 0.0 (n-) = 0.0\n",
      "A310_LIS_5 | A310 | LIS | 12:10:00 | 0.0 (n+) = -0.0 (n-) + -0.0 (f-) = 0.0\n",
      "A310_LIS_6 | A310 | LIS | 14:05:00 | 0.0 (n+) = 0.0 (n-) + -0.0 (f-) = 0.0\n",
      "A320_FNC_0 | A320 | FNC | 17:05:00 | 0.0 (n+) + 0.0 (f+) = 0.0 (n-) = 0.0\n",
      "A320_FNC_1 | A320 | FNC | 13:10:00 | 0.0 (n+) = 0.0 (n-) + 0.0 (f-) = 0.0\n",
      "A320_OPO_0 | A320 | OPO | 21:35:00 | 1.0 (n+) = -0.0 (n-) + 1.0 (f-) = 0.0\n",
      "A320_OPO_1 | A320 | OPO | 12:10:00 | 2.0 (n+) = 1.0 (n-) + 1.0 (f-) = 0.0\n",
      "A320_OPO_2 | A320 | OPO | 13:30:00 | 1.0 (n+) + 1.0 (f+) = 2.0 (n-) = 0.0\n",
      "A320_OPO_3 | A320 | OPO | 19:05:00 | -0.0 (n+) + 1.0 (f+) = 1.0 (n-) = 0.0\n",
      "A320_PDL_0 | A320 | PDL | 22:05:00 | 1.0 (n+) + 1.0 (f+) = 2.0 (n-) = 0.0\n",
      "A320_PDL_1 | A320 | PDL | 09:10:00 | 2.0 (n+) = 1.0 (n-) + 1.0 (f-) = 0.0\n",
      "A320_PDL_2 | A320 | PDL | 19:00:00 | -0.0 (n+) + 1.0 (f+) = 1.0 (n-) = 0.0\n",
      "A320_PDL_3 | A320 | PDL | 19:35:00 | 0.0 (n+) = -0.0 (n-) + 0.0 (f-) = 0.0\n",
      "A320_PDL_4 | A320 | PDL | 21:30:00 | 1.0 (n+) = 0.0 (n-) + 1.0 (f-) = 0.0\n",
      "A320_PDL_5 | A320 | PDL | 21:50:00 | 2.0 (n+) = 1.0 (n-) + 1.0 (f-) = 0.0\n",
      "A320_PDL_6 | A320 | PDL | 09:25:00 | 1.0 (n+) + 1.0 (f+) = 2.0 (n-) = 0.0\n",
      "A320_PDL_7 | A320 | PDL | 09:35:00 | 0.0 (n+) + 1.0 (f+) = 1.0 (n-) = 0.0\n",
      "A320_PDL_8 | A320 | PDL | 10:35:00 | -0.0 (n+) + 0.0 (f+) = 0.0 (n-) = 0.0\n",
      "A320_PDL_9 | A320 | PDL | 10:55:00 | 1.0 (n+) = -0.0 (n-) + 1.0 (f-) = 0.0\n",
      "A320_PDL_10 | A320 | PDL | 11:20:00 | -0.0 (n+) + 1.0 (f+) = 1.0 (n-) = 0.0\n",
      "A320_PDL_11 | A320 | PDL | 15:00:00 | 1.0 (n+) = -0.0 (n-) + 1.0 (f-) = 0.0\n",
      "A320_PDL_12 | A320 | PDL | 16:05:00 | -0.0 (n+) + 1.0 (f+) = 1.0 (n-) = 0.0\n",
      "A320_PDL_13 | A320 | PDL | 16:15:00 | 1.0 (n+) = -0.0 (n-) + 1.0 (f-) = 0.0\n",
      "A320_LIS_0 | A320 | LIS | 18:50:00 | 2.0 (n+) + 1.0 (f+) = 3.0 (n-) = 0.0\n",
      "A320_LIS_1 | A320 | LIS | 00:35:00 | 3.0 (n+) = 2.0 (n-) + 1.0 (f-) = 0.0\n",
      "A320_LIS_2 | A320 | LIS | 06:30:00 | 2.0 (n+) + 1.0 (f+) = 3.0 (n-) = 0.0\n",
      "A320_LIS_3 | A320 | LIS | 08:05:00 | 1.0 (n+) + 1.0 (f+) = 2.0 (n-) = 0.0\n",
      "A320_LIS_4 | A320 | LIS | 11:00:00 | -0.0 (n+) + 1.0 (f+) = 1.0 (n-) = 0.0\n",
      "A320_LIS_5 | A320 | LIS | 11:55:00 | 1.0 (n+) = -0.0 (n-) + 1.0 (f-) = 0.0\n",
      "A320_LIS_6 | A320 | LIS | 13:50:00 | 2.0 (n+) = 1.0 (n-) + 1.0 (f-) = 0.0\n",
      "A320_LIS_7 | A320 | LIS | 18:35:00 | 3.0 (n+) = 2.0 (n-) + 1.0 (f-) = 0.0\n"
     ]
    }
   ],
   "source": [
    "for k in ac_list:\n",
    "    for n in airports:\n",
    "        for i in nodes[k][n]:\n",
    "            val = 0\n",
    "            s = str(i) + \" | \" + str(k) + \" | \"  + str(n)+ \" | \" +str(nodes[k][n][i]['Time']) + \" | \" \n",
    "            s += str(y[nodes[k][n][i]['n+'][0], k].x) + ' (n+)'\n",
    "            val += y[nodes[k][n][i]['n+'][0], k].x\n",
    "            for w in nodes[k][n][i]['Departures']:\n",
    "                s += ' + ' + str(f[w, k].x) + ' (f+)'\n",
    "                val += f[w, k].x\n",
    "            s += ' = ' + str(y[nodes[k][n][i]['n-'][0], k].x)  + ' (n-)'\n",
    "            val -= y[nodes[k][n][i]['n-'][0], k].x\n",
    "            for w in nodes[k][n][i]['Arrivals']:\n",
    "                s += ' + ' + str(f[w, k].x) + ' (f-)'\n",
    "                val -= f[w, k].x\n",
    "            s += ' = ' + str(val)\n",
    "            print(s)"
   ]
  },
  {
   "cell_type": "code",
   "execution_count": 135,
   "metadata": {},
   "outputs": [
    {
     "name": "stdout",
     "output_type": "stream",
     "text": [
      "Flights assigned to aircraft type: A320\n",
      "S4120 A320 Cost 1.10\n",
      "S4220 A320 Cost 1.10\n",
      "S4124 A320 Cost 1.10\n",
      "S4128 A320 Cost 1.10\n",
      "S4320 A320 Cost 1.16\n",
      "S4212 A320 Cost 1.16\n",
      "S4121 A320 Cost 1.10\n",
      "S422Y A320 Cost 1.10\n",
      "S4125 A320 Cost 1.10\n",
      "S4129 A320 Cost 1.10\n",
      "S4321 A320 Cost 1.16\n",
      "S4213 A320 Cost 1.16\n",
      "\n",
      "\n",
      "Flights assigned to aircraft type: A310\n",
      "S4160 A310 Cost 1.57\n",
      "S4222 A310 Cost 7.32\n",
      "S4221 A310 Cost 6.26\n",
      "S4161 A310 Cost 1.57\n",
      "S4223 A310 Cost 7.32\n",
      "S422X A310 Cost 6.26\n"
     ]
    }
   ],
   "source": [
    "print('Flights assigned to aircraft type: A320')\n",
    "for i in flights:\n",
    "    for k in flights[i]:\n",
    "        if f[i,k].x > 0 and k == 'A320':\n",
    "            print(i, k, ('Cost %0.2f' % (aircraft[k]['CASK'] *  aircraft[k]['Seats'] *  flights[i][k]['Distance'] * f[i,k].x / 1000000)))\n",
    "print('\\n')\n",
    "\n",
    "print('Flights assigned to aircraft type: A310')\n",
    "for i in flights:\n",
    "    for k in flights[i]:\n",
    "        if f[i,k].x > 0 and k == 'A310':\n",
    "            print(i, k, ('Cost %0.2f' % (aircraft[k]['CASK'] *  aircraft[k]['Seats'] *  flights[i][k]['Distance'] * f[i,k].x / 1000000)))            "
   ]
  },
  {
   "cell_type": "code",
   "execution_count": 136,
   "metadata": {},
   "outputs": [
    {
     "name": "stdout",
     "output_type": "stream",
     "text": [
      "y_A310_BOS_0_A310 3\n",
      "y_A310_BOS_1_A310 2\n",
      "y_A310_FNC_1_A310 1\n",
      "y_A310_PDL_0_A310 1\n",
      "y_A310_PDL_1_A310 2\n",
      "y_A310_PDL_10_A310 1\n",
      "y_A310_PDL_11_A310 1\n",
      "y_A310_PDL_14_A310 1\n",
      "y_A310_PDL_15_A310 1\n",
      "y_A310_PDL_2_A310 3\n",
      "y_A310_PDL_3_A310 3\n",
      "y_A310_PDL_4_A310 3\n",
      "y_A310_PDL_5_A310 2\n",
      "y_A310_PDL_6_A310 2\n",
      "y_A310_PDL_7_A310 2\n",
      "y_A310_PDL_8_A310 2\n",
      "y_A310_PDL_9_A310 1\n",
      "y_A310_YTO_1_A310 1\n",
      "y_A320_LIS_0_A320 2\n",
      "y_A320_LIS_1_A320 3\n",
      "y_A320_LIS_2_A320 2\n",
      "y_A320_LIS_3_A320 1\n",
      "y_A320_LIS_5_A320 1\n",
      "y_A320_LIS_6_A320 2\n",
      "y_A320_LIS_7_A320 3\n",
      "y_A320_OPO_0_A320 1\n",
      "y_A320_OPO_1_A320 2\n",
      "y_A320_OPO_2_A320 1\n",
      "y_A320_PDL_0_A320 1\n",
      "y_A320_PDL_1_A320 2\n",
      "y_A320_PDL_12_A320 1\n",
      "y_A320_PDL_13_A320 2\n",
      "y_A320_PDL_2_A320 1\n",
      "y_A320_PDL_5_A320 1\n",
      "y_A320_PDL_7_A320 1\n",
      "y_A320_PDL_9_A320 1\n"
     ]
    }
   ],
   "source": [
    "for v in m.getVars():\n",
    "    for k in ac_list:\n",
    "        if v.x != 0 and v.varName[0] == 'y'and v.varName[-4:] == k:\n",
    "            print('%s %g' % (v.varName, v.x))"
   ]
  },
  {
   "cell_type": "code",
   "execution_count": 137,
   "metadata": {},
   "outputs": [
    {
     "data": {
      "text/html": [
       "<div>\n",
       "<style scoped>\n",
       "    .dataframe tbody tr th:only-of-type {\n",
       "        vertical-align: middle;\n",
       "    }\n",
       "\n",
       "    .dataframe tbody tr th {\n",
       "        vertical-align: top;\n",
       "    }\n",
       "\n",
       "    .dataframe thead th {\n",
       "        text-align: right;\n",
       "    }\n",
       "</style>\n",
       "<table border=\"1\" class=\"dataframe\">\n",
       "  <thead>\n",
       "    <tr style=\"text-align: right;\">\n",
       "      <th></th>\n",
       "      <th>A310</th>\n",
       "      <th>A320</th>\n",
       "    </tr>\n",
       "  </thead>\n",
       "  <tbody>\n",
       "    <tr>\n",
       "      <th>YTO</th>\n",
       "      <td>0.0</td>\n",
       "      <td>0.0</td>\n",
       "    </tr>\n",
       "    <tr>\n",
       "      <th>FNC</th>\n",
       "      <td>0.0</td>\n",
       "      <td>0.0</td>\n",
       "    </tr>\n",
       "    <tr>\n",
       "      <th>OPO</th>\n",
       "      <td>0.0</td>\n",
       "      <td>1.0</td>\n",
       "    </tr>\n",
       "    <tr>\n",
       "      <th>BOS</th>\n",
       "      <td>3.0</td>\n",
       "      <td>0.0</td>\n",
       "    </tr>\n",
       "    <tr>\n",
       "      <th>PDL</th>\n",
       "      <td>1.0</td>\n",
       "      <td>1.0</td>\n",
       "    </tr>\n",
       "    <tr>\n",
       "      <th>LIS</th>\n",
       "      <td>0.0</td>\n",
       "      <td>2.0</td>\n",
       "    </tr>\n",
       "  </tbody>\n",
       "</table>\n",
       "</div>"
      ],
      "text/plain": [
       "     A310  A320\n",
       "YTO   0.0   0.0\n",
       "FNC   0.0   0.0\n",
       "OPO   0.0   1.0\n",
       "BOS   3.0   0.0\n",
       "PDL   1.0   1.0\n",
       "LIS   0.0   2.0"
      ]
     },
     "execution_count": 137,
     "metadata": {},
     "output_type": "execute_result"
    }
   ],
   "source": [
    "# Make a df with AC grounded at overnight on each airport\n",
    "grounded_overnight = pd.DataFrame(columns=ac_list, index=airports)\n",
    "overnight_arcs['count'] = overnight_arcs.apply(lambda row: y[row['Arc ID'], row['AC Type']].x, axis=1)\n",
    "\n",
    "# Reorganize the df, make the columns the unique AC types and the rows the unique airports and the values the count\n",
    "for k in ac_list:\n",
    "    grounded_overnight[k] = overnight_arcs[overnight_arcs['AC Type'] == k].groupby(['Airport']).sum()['count']\n",
    "\n",
    "# Fill the NaN values with 0\n",
    "grounded_overnight.fillna(0, inplace=True)\n",
    "grounded_overnight"
   ]
  },
  {
   "cell_type": "code",
   "execution_count": 138,
   "metadata": {},
   "outputs": [
    {
     "data": {
      "text/plain": [
       "{'A310': {'YTO': {'A310_YTO_0': {'Time': datetime.time(2, 45),\n",
       "    'Departures': ['S4223'],\n",
       "    'Arrivals': [],\n",
       "    'n+': ['A310_YTO_0'],\n",
       "    'n-': ['A310_YTO_1']},\n",
       "   'A310_YTO_1': {'Time': datetime.time(0, 25),\n",
       "    'Departures': [],\n",
       "    'Arrivals': ['S4222'],\n",
       "    'n+': ['A310_YTO_1'],\n",
       "    'n-': ['A310_YTO_0']}},\n",
       "  'FNC': {'A310_FNC_0': {'Time': datetime.time(17, 5),\n",
       "    'Departures': ['S4161'],\n",
       "    'Arrivals': [],\n",
       "    'n+': ['A310_FNC_0'],\n",
       "    'n-': ['A310_FNC_1']},\n",
       "   'A310_FNC_1': {'Time': datetime.time(13, 25),\n",
       "    'Departures': [],\n",
       "    'Arrivals': ['S4160'],\n",
       "    'n+': ['A310_FNC_1'],\n",
       "    'n-': ['A310_FNC_0']}},\n",
       "  'OPO': {'A310_OPO_0': {'Time': datetime.time(21, 50),\n",
       "    'Departures': [],\n",
       "    'Arrivals': ['S4212'],\n",
       "    'n+': ['A310_OPO_0'],\n",
       "    'n-': ['A310_OPO_3']},\n",
       "   'A310_OPO_1': {'Time': datetime.time(12, 25),\n",
       "    'Departures': [],\n",
       "    'Arrivals': ['S4320'],\n",
       "    'n+': ['A310_OPO_1'],\n",
       "    'n-': ['A310_OPO_0']},\n",
       "   'A310_OPO_2': {'Time': datetime.time(13, 30),\n",
       "    'Departures': ['S4321'],\n",
       "    'Arrivals': [],\n",
       "    'n+': ['A310_OPO_2'],\n",
       "    'n-': ['A310_OPO_1']},\n",
       "   'A310_OPO_3': {'Time': datetime.time(19, 5),\n",
       "    'Departures': ['S4213'],\n",
       "    'Arrivals': [],\n",
       "    'n+': ['A310_OPO_3'],\n",
       "    'n-': ['A310_OPO_2']}},\n",
       "  'BOS': {'A310_BOS_0': {'Time': datetime.time(22, 25),\n",
       "    'Departures': [],\n",
       "    'Arrivals': ['S4221'],\n",
       "    'n+': ['A310_BOS_0'],\n",
       "    'n-': ['A310_BOS_1']},\n",
       "   'A310_BOS_1': {'Time': datetime.time(3, 15),\n",
       "    'Departures': ['S422X'],\n",
       "    'Arrivals': [],\n",
       "    'n+': ['A310_BOS_1'],\n",
       "    'n-': ['A310_BOS_0']}},\n",
       "  'PDL': {'A310_PDL_0': {'Time': datetime.time(22, 5),\n",
       "    'Departures': ['S4128'],\n",
       "    'Arrivals': ['S4213'],\n",
       "    'n+': ['A310_PDL_0'],\n",
       "    'n-': ['A310_PDL_15']},\n",
       "   'A310_PDL_1': {'Time': datetime.time(8, 40),\n",
       "    'Departures': [],\n",
       "    'Arrivals': ['S422X'],\n",
       "    'n+': ['A310_PDL_1'],\n",
       "    'n-': ['A310_PDL_0']},\n",
       "   'A310_PDL_2': {'Time': datetime.time(16, 5),\n",
       "    'Departures': ['S4124'],\n",
       "    'Arrivals': [],\n",
       "    'n+': ['A310_PDL_10'],\n",
       "    'n-': ['A310_PDL_9']},\n",
       "   'A310_PDL_3': {'Time': datetime.time(16, 30),\n",
       "    'Departures': [],\n",
       "    'Arrivals': ['S4321'],\n",
       "    'n+': ['A310_PDL_11'],\n",
       "    'n-': ['A310_PDL_10']},\n",
       "   'A310_PDL_4': {'Time': datetime.time(17, 10),\n",
       "    'Departures': ['S4222'],\n",
       "    'Arrivals': [],\n",
       "    'n+': ['A310_PDL_12'],\n",
       "    'n-': ['A310_PDL_11']},\n",
       "   'A310_PDL_5': {'Time': datetime.time(19, 0),\n",
       "    'Departures': ['S4212'],\n",
       "    'Arrivals': [],\n",
       "    'n+': ['A310_PDL_13'],\n",
       "    'n-': ['A310_PDL_12']},\n",
       "   'A310_PDL_6': {'Time': datetime.time(19, 50),\n",
       "    'Departures': [],\n",
       "    'Arrivals': ['S4161'],\n",
       "    'n+': ['A310_PDL_14'],\n",
       "    'n-': ['A310_PDL_13']},\n",
       "   'A310_PDL_7': {'Time': datetime.time(21, 45),\n",
       "    'Departures': [],\n",
       "    'Arrivals': ['S4129'],\n",
       "    'n+': ['A310_PDL_15'],\n",
       "    'n-': ['A310_PDL_14']},\n",
       "   'A310_PDL_8': {'Time': datetime.time(9, 0),\n",
       "    'Departures': [],\n",
       "    'Arrivals': ['S4223'],\n",
       "    'n+': ['A310_PDL_2'],\n",
       "    'n-': ['A310_PDL_1']},\n",
       "   'A310_PDL_9': {'Time': datetime.time(9, 25),\n",
       "    'Departures': ['S4120'],\n",
       "    'Arrivals': ['S4121'],\n",
       "    'n+': ['A310_PDL_3'],\n",
       "    'n-': ['A310_PDL_2']},\n",
       "   'A310_PDL_10': {'Time': datetime.time(9, 35),\n",
       "    'Departures': ['S4320'],\n",
       "    'Arrivals': [],\n",
       "    'n+': ['A310_PDL_4'],\n",
       "    'n-': ['A310_PDL_3']},\n",
       "   'A310_PDL_11': {'Time': datetime.time(10, 35),\n",
       "    'Departures': ['S4160'],\n",
       "    'Arrivals': [],\n",
       "    'n+': ['A310_PDL_5'],\n",
       "    'n-': ['A310_PDL_4']},\n",
       "   'A310_PDL_12': {'Time': datetime.time(11, 10),\n",
       "    'Departures': [],\n",
       "    'Arrivals': ['S422Y'],\n",
       "    'n+': ['A310_PDL_6'],\n",
       "    'n-': ['A310_PDL_5']},\n",
       "   'A310_PDL_13': {'Time': datetime.time(11, 20),\n",
       "    'Departures': ['S4220'],\n",
       "    'Arrivals': [],\n",
       "    'n+': ['A310_PDL_7'],\n",
       "    'n-': ['A310_PDL_6']},\n",
       "   'A310_PDL_14': {'Time': datetime.time(15, 15),\n",
       "    'Departures': [],\n",
       "    'Arrivals': ['S4125'],\n",
       "    'n+': ['A310_PDL_8'],\n",
       "    'n-': ['A310_PDL_7']},\n",
       "   'A310_PDL_15': {'Time': datetime.time(16, 0),\n",
       "    'Departures': ['S4221'],\n",
       "    'Arrivals': [],\n",
       "    'n+': ['A310_PDL_9'],\n",
       "    'n-': ['A310_PDL_8']}},\n",
       "  'LIS': {'A310_LIS_0': {'Time': datetime.time(18, 50),\n",
       "    'Departures': ['S4129'],\n",
       "    'Arrivals': ['S4124'],\n",
       "    'n+': ['A310_LIS_0'],\n",
       "    'n-': ['A310_LIS_6']},\n",
       "   'A310_LIS_1': {'Time': datetime.time(0, 50),\n",
       "    'Departures': [],\n",
       "    'Arrivals': ['S4128'],\n",
       "    'n+': ['A310_LIS_1'],\n",
       "    'n-': ['A310_LIS_0']},\n",
       "   'A310_LIS_2': {'Time': datetime.time(6, 30),\n",
       "    'Departures': ['S4121'],\n",
       "    'Arrivals': [],\n",
       "    'n+': ['A310_LIS_2'],\n",
       "    'n-': ['A310_LIS_1']},\n",
       "   'A310_LIS_3': {'Time': datetime.time(8, 5),\n",
       "    'Departures': ['S422Y'],\n",
       "    'Arrivals': [],\n",
       "    'n+': ['A310_LIS_3'],\n",
       "    'n-': ['A310_LIS_2']},\n",
       "   'A310_LIS_4': {'Time': datetime.time(11, 0),\n",
       "    'Departures': ['S4125'],\n",
       "    'Arrivals': [],\n",
       "    'n+': ['A310_LIS_4'],\n",
       "    'n-': ['A310_LIS_3']},\n",
       "   'A310_LIS_5': {'Time': datetime.time(12, 10),\n",
       "    'Departures': [],\n",
       "    'Arrivals': ['S4120'],\n",
       "    'n+': ['A310_LIS_5'],\n",
       "    'n-': ['A310_LIS_4']},\n",
       "   'A310_LIS_6': {'Time': datetime.time(14, 5),\n",
       "    'Departures': [],\n",
       "    'Arrivals': ['S4220'],\n",
       "    'n+': ['A310_LIS_6'],\n",
       "    'n-': ['A310_LIS_5']}}},\n",
       " 'A320': {'YTO': {},\n",
       "  'FNC': {'A320_FNC_0': {'Time': datetime.time(17, 5),\n",
       "    'Departures': ['S4161'],\n",
       "    'Arrivals': [],\n",
       "    'n+': ['A320_FNC_0'],\n",
       "    'n-': ['A320_FNC_1']},\n",
       "   'A320_FNC_1': {'Time': datetime.time(13, 10),\n",
       "    'Departures': [],\n",
       "    'Arrivals': ['S4160'],\n",
       "    'n+': ['A320_FNC_1'],\n",
       "    'n-': ['A320_FNC_0']}},\n",
       "  'OPO': {'A320_OPO_0': {'Time': datetime.time(21, 35),\n",
       "    'Departures': [],\n",
       "    'Arrivals': ['S4212'],\n",
       "    'n+': ['A320_OPO_0'],\n",
       "    'n-': ['A320_OPO_3']},\n",
       "   'A320_OPO_1': {'Time': datetime.time(12, 10),\n",
       "    'Departures': [],\n",
       "    'Arrivals': ['S4320'],\n",
       "    'n+': ['A320_OPO_1'],\n",
       "    'n-': ['A320_OPO_0']},\n",
       "   'A320_OPO_2': {'Time': datetime.time(13, 30),\n",
       "    'Departures': ['S4321'],\n",
       "    'Arrivals': [],\n",
       "    'n+': ['A320_OPO_2'],\n",
       "    'n-': ['A320_OPO_1']},\n",
       "   'A320_OPO_3': {'Time': datetime.time(19, 5),\n",
       "    'Departures': ['S4213'],\n",
       "    'Arrivals': [],\n",
       "    'n+': ['A320_OPO_3'],\n",
       "    'n-': ['A320_OPO_2']}},\n",
       "  'BOS': {},\n",
       "  'PDL': {'A320_PDL_0': {'Time': datetime.time(22, 5),\n",
       "    'Departures': ['S4128'],\n",
       "    'Arrivals': [],\n",
       "    'n+': ['A320_PDL_0'],\n",
       "    'n-': ['A320_PDL_13']},\n",
       "   'A320_PDL_1': {'Time': datetime.time(9, 10),\n",
       "    'Departures': [],\n",
       "    'Arrivals': ['S4121'],\n",
       "    'n+': ['A320_PDL_1'],\n",
       "    'n-': ['A320_PDL_0']},\n",
       "   'A320_PDL_2': {'Time': datetime.time(19, 0),\n",
       "    'Departures': ['S4212'],\n",
       "    'Arrivals': [],\n",
       "    'n+': ['A320_PDL_10'],\n",
       "    'n-': ['A320_PDL_9']},\n",
       "   'A320_PDL_3': {'Time': datetime.time(19, 35),\n",
       "    'Departures': [],\n",
       "    'Arrivals': ['S4161'],\n",
       "    'n+': ['A320_PDL_11'],\n",
       "    'n-': ['A320_PDL_10']},\n",
       "   'A320_PDL_4': {'Time': datetime.time(21, 30),\n",
       "    'Departures': [],\n",
       "    'Arrivals': ['S4129'],\n",
       "    'n+': ['A320_PDL_12'],\n",
       "    'n-': ['A320_PDL_11']},\n",
       "   'A320_PDL_5': {'Time': datetime.time(21, 50),\n",
       "    'Departures': [],\n",
       "    'Arrivals': ['S4213'],\n",
       "    'n+': ['A320_PDL_13'],\n",
       "    'n-': ['A320_PDL_12']},\n",
       "   'A320_PDL_6': {'Time': datetime.time(9, 25),\n",
       "    'Departures': ['S4120'],\n",
       "    'Arrivals': [],\n",
       "    'n+': ['A320_PDL_2'],\n",
       "    'n-': ['A320_PDL_1']},\n",
       "   'A320_PDL_7': {'Time': datetime.time(9, 35),\n",
       "    'Departures': ['S4320'],\n",
       "    'Arrivals': [],\n",
       "    'n+': ['A320_PDL_3'],\n",
       "    'n-': ['A320_PDL_2']},\n",
       "   'A320_PDL_8': {'Time': datetime.time(10, 35),\n",
       "    'Departures': ['S4160'],\n",
       "    'Arrivals': [],\n",
       "    'n+': ['A320_PDL_4'],\n",
       "    'n-': ['A320_PDL_3']},\n",
       "   'A320_PDL_9': {'Time': datetime.time(10, 55),\n",
       "    'Departures': [],\n",
       "    'Arrivals': ['S422Y'],\n",
       "    'n+': ['A320_PDL_5'],\n",
       "    'n-': ['A320_PDL_4']},\n",
       "   'A320_PDL_10': {'Time': datetime.time(11, 20),\n",
       "    'Departures': ['S4220'],\n",
       "    'Arrivals': [],\n",
       "    'n+': ['A320_PDL_6'],\n",
       "    'n-': ['A320_PDL_5']},\n",
       "   'A320_PDL_11': {'Time': datetime.time(15, 0),\n",
       "    'Departures': [],\n",
       "    'Arrivals': ['S4125'],\n",
       "    'n+': ['A320_PDL_7'],\n",
       "    'n-': ['A320_PDL_6']},\n",
       "   'A320_PDL_12': {'Time': datetime.time(16, 5),\n",
       "    'Departures': ['S4124'],\n",
       "    'Arrivals': [],\n",
       "    'n+': ['A320_PDL_8'],\n",
       "    'n-': ['A320_PDL_7']},\n",
       "   'A320_PDL_13': {'Time': datetime.time(16, 15),\n",
       "    'Departures': [],\n",
       "    'Arrivals': ['S4321'],\n",
       "    'n+': ['A320_PDL_9'],\n",
       "    'n-': ['A320_PDL_8']}},\n",
       "  'LIS': {'A320_LIS_0': {'Time': datetime.time(18, 50),\n",
       "    'Departures': ['S4129'],\n",
       "    'Arrivals': [],\n",
       "    'n+': ['A320_LIS_0'],\n",
       "    'n-': ['A320_LIS_7']},\n",
       "   'A320_LIS_1': {'Time': datetime.time(0, 35),\n",
       "    'Departures': [],\n",
       "    'Arrivals': ['S4128'],\n",
       "    'n+': ['A320_LIS_1'],\n",
       "    'n-': ['A320_LIS_0']},\n",
       "   'A320_LIS_2': {'Time': datetime.time(6, 30),\n",
       "    'Departures': ['S4121'],\n",
       "    'Arrivals': [],\n",
       "    'n+': ['A320_LIS_2'],\n",
       "    'n-': ['A320_LIS_1']},\n",
       "   'A320_LIS_3': {'Time': datetime.time(8, 5),\n",
       "    'Departures': ['S422Y'],\n",
       "    'Arrivals': [],\n",
       "    'n+': ['A320_LIS_3'],\n",
       "    'n-': ['A320_LIS_2']},\n",
       "   'A320_LIS_4': {'Time': datetime.time(11, 0),\n",
       "    'Departures': ['S4125'],\n",
       "    'Arrivals': [],\n",
       "    'n+': ['A320_LIS_4'],\n",
       "    'n-': ['A320_LIS_3']},\n",
       "   'A320_LIS_5': {'Time': datetime.time(11, 55),\n",
       "    'Departures': [],\n",
       "    'Arrivals': ['S4120'],\n",
       "    'n+': ['A320_LIS_5'],\n",
       "    'n-': ['A320_LIS_4']},\n",
       "   'A320_LIS_6': {'Time': datetime.time(13, 50),\n",
       "    'Departures': [],\n",
       "    'Arrivals': ['S4220'],\n",
       "    'n+': ['A320_LIS_6'],\n",
       "    'n-': ['A320_LIS_5']},\n",
       "   'A320_LIS_7': {'Time': datetime.time(18, 35),\n",
       "    'Departures': [],\n",
       "    'Arrivals': ['S4124'],\n",
       "    'n+': ['A320_LIS_7'],\n",
       "    'n-': ['A320_LIS_6']}}}}"
      ]
     },
     "execution_count": 138,
     "metadata": {},
     "output_type": "execute_result"
    }
   ],
   "source": [
    "nodes\n"
   ]
  }
 ],
 "metadata": {
  "kernelspec": {
   "display_name": "AE4426",
   "language": "python",
   "name": "python3"
  },
  "language_info": {
   "codemirror_mode": {
    "name": "ipython",
    "version": 3
   },
   "file_extension": ".py",
   "mimetype": "text/x-python",
   "name": "python",
   "nbconvert_exporter": "python",
   "pygments_lexer": "ipython3",
   "version": "3.10.13"
  }
 },
 "nbformat": 4,
 "nbformat_minor": 2
}
